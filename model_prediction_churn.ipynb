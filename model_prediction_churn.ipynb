{
  "nbformat": 4,
  "nbformat_minor": 0,
  "metadata": {
    "colab": {
      "provenance": []
    },
    "kernelspec": {
      "name": "python3",
      "display_name": "Python 3"
    },
    "language_info": {
      "name": "python"
    }
  },
  "cells": [
    {
      "cell_type": "markdown",
      "source": [
        "## **1.0 Preparando os Dados**"
      ],
      "metadata": {
        "id": "rjzx8QRWw5MA"
      }
    },
    {
      "cell_type": "markdown",
      "source": [
        "## **1.2 Preparando o Ambiente**\n",
        "\n",
        "### PySpark\n",
        "\n",
        "PySpark é uma interface para Apache Spark em Python. Ele não apenas permite que você escreva aplicativos Spark usando APIs Python, mas também fornece o *shell* PySpark para analisar interativamente seus dados em um ambiente distribuído. O PySpark oferece suporte à maioria dos recursos do Spark, como Spark SQL, DataFrame, Streaming, MLlib (Machine Learning) e Spark Core.\n",
        "\n",
        "<center><img src=\"https://caelum-online-public.s3.amazonaws.com/2273-introducao-spark/01/img-001.png\"/></center>\n",
        "\n",
        "#### **Spark SQL e DataFrame**\n",
        "\n",
        "Spark SQL é um módulo Spark para processamento de dados estruturados. Ele fornece uma abstração de programação chamada DataFrame e também pode atuar como mecanismo de consulta SQL distribuído.\n",
        "\n",
        "#### **Spark Streaming**\n",
        "\n",
        "Executando em cima do Spark, o recurso de *streaming* no Apache Spark possibilita o uso de poderosas aplicações interativas e analíticas em *streaming* e dados históricos, enquanto herda a facilidade de uso do Spark e as características de tolerância a falhas.\n",
        "\n",
        "#### **Spark MLlib**\n",
        "\n",
        "Construído sobre o Spark, MLlib é uma biblioteca de aprendizado de máquina escalonável que fornece um conjunto uniforme de APIs de alto nível que ajudam os usuários a criar e ajustar *pipelines* de aprendizado de máquina práticos.\n",
        "\n",
        "#### **Spark Core**\n",
        "\n",
        "Spark Core é o mecanismo de execução geral subjacente para a plataforma Spark sobre o qual todas as outras funcionalidades são construídas. Ele fornece um RDD (*Resilient Distributed Dataset*) e recursos de computação na memória.\n",
        "\n",
        "<font size=2>**Fonte:** [PySpark](https://spark.apache.org/docs/latest/api/python/index.html)</font>"
      ],
      "metadata": {
        "id": "1bz57lyXxB2v"
      }
    },
    {
      "cell_type": "markdown",
      "source": [],
      "metadata": {
        "id": "rq3Ggh3lxC3X"
      }
    },
    {
      "cell_type": "code",
      "source": [
        "!pip install pyspark"
      ],
      "metadata": {
        "colab": {
          "base_uri": "https://localhost:8080/"
        },
        "id": "AfU37BqOxEnv",
        "outputId": "53d37bb2-e5e4-4124-9cdc-8d45d3f6c9dd"
      },
      "execution_count": null,
      "outputs": [
        {
          "output_type": "stream",
          "name": "stdout",
          "text": [
            "Looking in indexes: https://pypi.org/simple, https://us-python.pkg.dev/colab-wheels/public/simple/\n",
            "Collecting pyspark\n",
            "  Downloading pyspark-3.4.0.tar.gz (310.8 MB)\n",
            "\u001b[2K     \u001b[90m━━━━━━━━━━━━━━━━━━━━━━━━━━━━━━━━━━━━━━━\u001b[0m \u001b[32m310.8/310.8 MB\u001b[0m \u001b[31m3.9 MB/s\u001b[0m eta \u001b[36m0:00:00\u001b[0m\n",
            "\u001b[?25h  Preparing metadata (setup.py) ... \u001b[?25l\u001b[?25hdone\n",
            "Requirement already satisfied: py4j==0.10.9.7 in /usr/local/lib/python3.9/dist-packages (from pyspark) (0.10.9.7)\n",
            "Building wheels for collected packages: pyspark\n",
            "  Building wheel for pyspark (setup.py) ... \u001b[?25l\u001b[?25hdone\n",
            "  Created wheel for pyspark: filename=pyspark-3.4.0-py2.py3-none-any.whl size=311317145 sha256=8f4ff85010df763f691d4b54dbd402ccd4507ab02552e586eed920536919b309\n",
            "  Stored in directory: /root/.cache/pip/wheels/9f/34/a4/159aa12d0a510d5ff7c8f0220abbea42e5d81ecf588c4fd884\n",
            "Successfully built pyspark\n",
            "Installing collected packages: pyspark\n",
            "Successfully installed pyspark-3.4.0\n"
          ]
        }
      ]
    },
    {
      "cell_type": "markdown",
      "source": [
        "### SparkSession\n",
        "\n",
        "O ponto de entrada para programar o Spark com a API Dataset e DataFrame.\n",
        "\n",
        "Uma SparkSession pode ser utilizada para criar DataFrames, registrar DataFrames como tabelas, executar consultas SQL em tabelas, armazenar em cache e ler arquivos parquet. Para criar uma SparkSession, use o seguinte padrão de construtor:\n",
        "\n",
        "<font size=2>**Fonte:** [SparkSession](https://spark.apache.org/docs/latest/api/python/reference/api/pyspark.sql.SparkSession.html)</font>"
      ],
      "metadata": {
        "id": "XgoEwdkgxIe_"
      }
    },
    {
      "cell_type": "code",
      "source": [
        "from pyspark.sql import SparkSession"
      ],
      "metadata": {
        "id": "ZjERWRJ-xJBH"
      },
      "execution_count": null,
      "outputs": []
    },
    {
      "cell_type": "code",
      "source": [
        "spark = SparkSession.builder.master('local[*]').appName(\"Classificação com Spark\").getOrCreate()\n",
        "spark"
      ],
      "metadata": {
        "colab": {
          "base_uri": "https://localhost:8080/",
          "height": 219
        },
        "id": "WP5BNl-ixLQo",
        "outputId": "0869f3ee-a1be-4b00-e32a-29e74c494090"
      },
      "execution_count": null,
      "outputs": [
        {
          "output_type": "execute_result",
          "data": {
            "text/plain": [
              "<pyspark.sql.session.SparkSession at 0x7fe151c8d460>"
            ],
            "text/html": [
              "\n",
              "            <div>\n",
              "                <p><b>SparkSession - in-memory</b></p>\n",
              "                \n",
              "        <div>\n",
              "            <p><b>SparkContext</b></p>\n",
              "\n",
              "            <p><a href=\"http://c763fbda35f9:4040\">Spark UI</a></p>\n",
              "\n",
              "            <dl>\n",
              "              <dt>Version</dt>\n",
              "                <dd><code>v3.4.0</code></dd>\n",
              "              <dt>Master</dt>\n",
              "                <dd><code>local[*]</code></dd>\n",
              "              <dt>AppName</dt>\n",
              "                <dd><code>Classificação com Spark</code></dd>\n",
              "            </dl>\n",
              "        </div>\n",
              "        \n",
              "            </div>\n",
              "        "
            ]
          },
          "metadata": {},
          "execution_count": 3
        }
      ]
    },
    {
      "cell_type": "markdown",
      "source": [
        "## **1.3 Carregamento dos Dados**"
      ],
      "metadata": {
        "id": "1mPcpsQwxNuf"
      }
    },
    {
      "cell_type": "code",
      "source": [
        "dados = spark.read.csv('dados_clientes.csv', sep=',', header=True, inferSchema=True)"
      ],
      "metadata": {
        "id": "g3J1A5PdxOKI"
      },
      "execution_count": null,
      "outputs": []
    },
    {
      "cell_type": "code",
      "source": [
        "dados.show()"
      ],
      "metadata": {
        "colab": {
          "base_uri": "https://localhost:8080/"
        },
        "id": "57Ky6auSxYpe",
        "outputId": "e3267305-3951-4214-9025-0e652c4859e8"
      },
      "execution_count": null,
      "outputs": [
        {
          "output_type": "stream",
          "name": "stdout",
          "text": [
            "+---+-----+----------+-------+-----------+---------------+------------+------------------------+-----------+------------------+------------------+------------------+------------------+------------------+------------------+------------+------------+----------------+-------------+\n",
            "| id|Churn|Mais65anos|Conjuge|Dependentes|MesesDeContrato|TelefoneFixo|MaisDeUmaLinhaTelefonica|   Internet|   SegurancaOnline|      BackupOnline| SeguroDispositivo|    SuporteTecnico|           TVaCabo|   StreamingFilmes|TipoContrato|ContaCorreio| MetodoPagamento|MesesCobrados|\n",
            "+---+-----+----------+-------+-----------+---------------+------------+------------------------+-----------+------------------+------------------+------------------+------------------+------------------+------------------+------------+------------+----------------+-------------+\n",
            "|  0|  Nao|         0|    Sim|        Nao|              1|         Nao|    SemServicoTelefonico|        DSL|               Nao|               Sim|               Nao|               Nao|               Nao|               Nao| Mensalmente|         Sim|BoletoEletronico|        29.85|\n",
            "|  1|  Nao|         0|    Nao|        Nao|             34|         Sim|                     Nao|        DSL|               Sim|               Nao|               Sim|               Nao|               Nao|               Nao|       UmAno|         Nao|          Boleto|        56.95|\n",
            "|  2|  Sim|         0|    Nao|        Nao|              2|         Sim|                     Nao|        DSL|               Sim|               Sim|               Nao|               Nao|               Nao|               Nao| Mensalmente|         Sim|          Boleto|        53.85|\n",
            "|  3|  Nao|         0|    Nao|        Nao|             45|         Nao|    SemServicoTelefonico|        DSL|               Sim|               Nao|               Sim|               Sim|               Nao|               Nao|       UmAno|         Nao|   DebitoEmConta|         42.3|\n",
            "|  4|  Sim|         0|    Nao|        Nao|              2|         Sim|                     Nao|FibraOptica|               Nao|               Nao|               Nao|               Nao|               Nao|               Nao| Mensalmente|         Sim|BoletoEletronico|         70.7|\n",
            "|  5|  Sim|         0|    Nao|        Nao|              8|         Sim|                     Sim|FibraOptica|               Nao|               Nao|               Sim|               Nao|               Sim|               Sim| Mensalmente|         Sim|BoletoEletronico|        99.65|\n",
            "|  6|  Nao|         0|    Nao|        Sim|             22|         Sim|                     Sim|FibraOptica|               Nao|               Sim|               Nao|               Nao|               Sim|               Nao| Mensalmente|         Sim|   CartaoCredito|         89.1|\n",
            "|  7|  Nao|         0|    Nao|        Nao|             10|         Nao|    SemServicoTelefonico|        DSL|               Sim|               Nao|               Nao|               Nao|               Nao|               Nao| Mensalmente|         Nao|          Boleto|        29.75|\n",
            "|  8|  Sim|         0|    Sim|        Nao|             28|         Sim|                     Sim|FibraOptica|               Nao|               Nao|               Sim|               Sim|               Sim|               Sim| Mensalmente|         Sim|BoletoEletronico|        104.8|\n",
            "|  9|  Nao|         0|    Nao|        Sim|             62|         Sim|                     Nao|        DSL|               Sim|               Sim|               Nao|               Nao|               Nao|               Nao|       UmAno|         Nao|   DebitoEmConta|        56.15|\n",
            "| 10|  Nao|         0|    Sim|        Sim|             13|         Sim|                     Nao|        DSL|               Sim|               Nao|               Nao|               Nao|               Nao|               Nao| Mensalmente|         Sim|          Boleto|        49.95|\n",
            "| 11|  Nao|         0|    Nao|        Nao|             16|         Sim|                     Nao|        Nao|SemServicoInternet|SemServicoInternet|SemServicoInternet|SemServicoInternet|SemServicoInternet|SemServicoInternet|    DoisAnos|         Nao|   CartaoCredito|        18.95|\n",
            "| 12|  Nao|         0|    Sim|        Nao|             58|         Sim|                     Sim|FibraOptica|               Nao|               Nao|               Sim|               Nao|               Sim|               Sim|       UmAno|         Nao|   CartaoCredito|       100.35|\n",
            "| 13|  Sim|         0|    Nao|        Nao|             49|         Sim|                     Sim|FibraOptica|               Nao|               Sim|               Sim|               Nao|               Sim|               Sim| Mensalmente|         Sim|   DebitoEmConta|        103.7|\n",
            "| 14|  Nao|         0|    Nao|        Nao|             25|         Sim|                     Nao|FibraOptica|               Sim|               Nao|               Sim|               Sim|               Sim|               Sim| Mensalmente|         Sim|BoletoEletronico|        105.5|\n",
            "| 15|  Nao|         0|    Sim|        Sim|             69|         Sim|                     Sim|FibraOptica|               Sim|               Sim|               Sim|               Sim|               Sim|               Sim|    DoisAnos|         Nao|   CartaoCredito|       113.25|\n",
            "| 16|  Nao|         0|    Nao|        Nao|             52|         Sim|                     Nao|        Nao|SemServicoInternet|SemServicoInternet|SemServicoInternet|SemServicoInternet|SemServicoInternet|SemServicoInternet|       UmAno|         Nao|          Boleto|        20.65|\n",
            "| 17|  Nao|         0|    Nao|        Sim|             71|         Sim|                     Sim|FibraOptica|               Sim|               Nao|               Sim|               Nao|               Sim|               Sim|    DoisAnos|         Nao|   DebitoEmConta|        106.7|\n",
            "| 18|  Sim|         0|    Sim|        Sim|             10|         Sim|                     Nao|        DSL|               Nao|               Nao|               Sim|               Sim|               Nao|               Nao| Mensalmente|         Nao|   CartaoCredito|         55.2|\n",
            "| 19|  Nao|         0|    Nao|        Nao|             21|         Sim|                     Nao|FibraOptica|               Nao|               Sim|               Sim|               Nao|               Nao|               Sim| Mensalmente|         Sim|BoletoEletronico|        90.05|\n",
            "+---+-----+----------+-------+-----------+---------------+------------+------------------------+-----------+------------------+------------------+------------------+------------------+------------------+------------------+------------+------------+----------------+-------------+\n",
            "only showing top 20 rows\n",
            "\n"
          ]
        }
      ]
    },
    {
      "cell_type": "code",
      "source": [
        "dados.select('Churn').groupBy('Churn').count().show()"
      ],
      "metadata": {
        "colab": {
          "base_uri": "https://localhost:8080/"
        },
        "id": "ZDg5N14Fxdb-",
        "outputId": "d1e6318d-5c17-4f16-9de9-0e08709f25ba"
      },
      "execution_count": null,
      "outputs": [
        {
          "output_type": "stream",
          "name": "stdout",
          "text": [
            "+-----+-----+\n",
            "|Churn|count|\n",
            "+-----+-----+\n",
            "|  Sim| 5174|\n",
            "|  Nao| 5174|\n",
            "+-----+-----+\n",
            "\n"
          ]
        }
      ]
    },
    {
      "cell_type": "code",
      "source": [
        "dados.printSchema()"
      ],
      "metadata": {
        "colab": {
          "base_uri": "https://localhost:8080/"
        },
        "id": "wRF1PMyJxg2u",
        "outputId": "bec861d5-065c-4d03-81c9-152636d10a5d"
      },
      "execution_count": null,
      "outputs": [
        {
          "output_type": "stream",
          "name": "stdout",
          "text": [
            "root\n",
            " |-- id: integer (nullable = true)\n",
            " |-- Churn: string (nullable = true)\n",
            " |-- Mais65anos: integer (nullable = true)\n",
            " |-- Conjuge: string (nullable = true)\n",
            " |-- Dependentes: string (nullable = true)\n",
            " |-- MesesDeContrato: integer (nullable = true)\n",
            " |-- TelefoneFixo: string (nullable = true)\n",
            " |-- MaisDeUmaLinhaTelefonica: string (nullable = true)\n",
            " |-- Internet: string (nullable = true)\n",
            " |-- SegurancaOnline: string (nullable = true)\n",
            " |-- BackupOnline: string (nullable = true)\n",
            " |-- SeguroDispositivo: string (nullable = true)\n",
            " |-- SuporteTecnico: string (nullable = true)\n",
            " |-- TVaCabo: string (nullable = true)\n",
            " |-- StreamingFilmes: string (nullable = true)\n",
            " |-- TipoContrato: string (nullable = true)\n",
            " |-- ContaCorreio: string (nullable = true)\n",
            " |-- MetodoPagamento: string (nullable = true)\n",
            " |-- MesesCobrados: double (nullable = true)\n",
            "\n"
          ]
        }
      ]
    },
    {
      "cell_type": "markdown",
      "source": [
        "## **1.4 Transformando os Dados**\n",
        "\n",
        "<font size=2>**Fonte:** [Functions](https://spark.apache.org/docs/latest/api/python/reference/pyspark.sql.html#functions)</font>"
      ],
      "metadata": {
        "id": "mJ2euBudxjHg"
      }
    },
    {
      "cell_type": "code",
      "source": [
        "colunasBinarias = [\n",
        "    'Churn',\n",
        "    'Conjuge',\n",
        "    'Dependentes',\n",
        "    'TelefoneFixo',\n",
        "    'MaisDeUmaLinhaTelefonica',\n",
        "    'SegurancaOnline',\n",
        "    'BackupOnline',\n",
        "    'SeguroDispositivo',\n",
        "    'SuporteTecnico',\n",
        "    'TVaCabo',\n",
        "    'StreamingFilmes',\n",
        "    'ContaCorreio'\n",
        "]"
      ],
      "metadata": {
        "id": "uRdPmCw3xjhm"
      },
      "execution_count": null,
      "outputs": []
    },
    {
      "cell_type": "code",
      "source": [
        "from pyspark.sql import functions as f"
      ],
      "metadata": {
        "id": "pCF2Yf7exmHX"
      },
      "execution_count": null,
      "outputs": []
    },
    {
      "cell_type": "code",
      "source": [
        "todasColunas = [f.when(f.col(c)=='Sim', 1).otherwise(0).alias(c) for c in colunasBinarias]\n",
        "for coluna in reversed(dados.columns):\n",
        "  if coluna not in colunasBinarias:\n",
        "    todasColunas.insert(0, coluna)\n",
        "todasColunas"
      ],
      "metadata": {
        "colab": {
          "base_uri": "https://localhost:8080/"
        },
        "id": "nRZr8r1exnGO",
        "outputId": "7a18f866-aceb-454b-95c6-ea488c810581"
      },
      "execution_count": null,
      "outputs": [
        {
          "output_type": "execute_result",
          "data": {
            "text/plain": [
              "['id',\n",
              " 'Mais65anos',\n",
              " 'MesesDeContrato',\n",
              " 'Internet',\n",
              " 'TipoContrato',\n",
              " 'MetodoPagamento',\n",
              " 'MesesCobrados',\n",
              " Column<'CASE WHEN (Churn = Sim) THEN 1 ELSE 0 END AS Churn'>,\n",
              " Column<'CASE WHEN (Conjuge = Sim) THEN 1 ELSE 0 END AS Conjuge'>,\n",
              " Column<'CASE WHEN (Dependentes = Sim) THEN 1 ELSE 0 END AS Dependentes'>,\n",
              " Column<'CASE WHEN (TelefoneFixo = Sim) THEN 1 ELSE 0 END AS TelefoneFixo'>,\n",
              " Column<'CASE WHEN (MaisDeUmaLinhaTelefonica = Sim) THEN 1 ELSE 0 END AS MaisDeUmaLinhaTelefonica'>,\n",
              " Column<'CASE WHEN (SegurancaOnline = Sim) THEN 1 ELSE 0 END AS SegurancaOnline'>,\n",
              " Column<'CASE WHEN (BackupOnline = Sim) THEN 1 ELSE 0 END AS BackupOnline'>,\n",
              " Column<'CASE WHEN (SeguroDispositivo = Sim) THEN 1 ELSE 0 END AS SeguroDispositivo'>,\n",
              " Column<'CASE WHEN (SuporteTecnico = Sim) THEN 1 ELSE 0 END AS SuporteTecnico'>,\n",
              " Column<'CASE WHEN (TVaCabo = Sim) THEN 1 ELSE 0 END AS TVaCabo'>,\n",
              " Column<'CASE WHEN (StreamingFilmes = Sim) THEN 1 ELSE 0 END AS StreamingFilmes'>,\n",
              " Column<'CASE WHEN (ContaCorreio = Sim) THEN 1 ELSE 0 END AS ContaCorreio'>]"
            ]
          },
          "metadata": {},
          "execution_count": 10
        }
      ]
    },
    {
      "cell_type": "code",
      "source": [
        "dados.select(todasColunas).show()"
      ],
      "metadata": {
        "colab": {
          "base_uri": "https://localhost:8080/"
        },
        "id": "83xdUhA6xo1O",
        "outputId": "b8ceec62-8fd9-4f9f-df42-a49d6fb1669e"
      },
      "execution_count": null,
      "outputs": [
        {
          "output_type": "stream",
          "name": "stdout",
          "text": [
            "+---+----------+---------------+-----------+------------+----------------+-------------+-----+-------+-----------+------------+------------------------+---------------+------------+-----------------+--------------+-------+---------------+------------+\n",
            "| id|Mais65anos|MesesDeContrato|   Internet|TipoContrato| MetodoPagamento|MesesCobrados|Churn|Conjuge|Dependentes|TelefoneFixo|MaisDeUmaLinhaTelefonica|SegurancaOnline|BackupOnline|SeguroDispositivo|SuporteTecnico|TVaCabo|StreamingFilmes|ContaCorreio|\n",
            "+---+----------+---------------+-----------+------------+----------------+-------------+-----+-------+-----------+------------+------------------------+---------------+------------+-----------------+--------------+-------+---------------+------------+\n",
            "|  0|         0|              1|        DSL| Mensalmente|BoletoEletronico|        29.85|    0|      1|          0|           0|                       0|              0|           1|                0|             0|      0|              0|           1|\n",
            "|  1|         0|             34|        DSL|       UmAno|          Boleto|        56.95|    0|      0|          0|           1|                       0|              1|           0|                1|             0|      0|              0|           0|\n",
            "|  2|         0|              2|        DSL| Mensalmente|          Boleto|        53.85|    1|      0|          0|           1|                       0|              1|           1|                0|             0|      0|              0|           1|\n",
            "|  3|         0|             45|        DSL|       UmAno|   DebitoEmConta|         42.3|    0|      0|          0|           0|                       0|              1|           0|                1|             1|      0|              0|           0|\n",
            "|  4|         0|              2|FibraOptica| Mensalmente|BoletoEletronico|         70.7|    1|      0|          0|           1|                       0|              0|           0|                0|             0|      0|              0|           1|\n",
            "|  5|         0|              8|FibraOptica| Mensalmente|BoletoEletronico|        99.65|    1|      0|          0|           1|                       1|              0|           0|                1|             0|      1|              1|           1|\n",
            "|  6|         0|             22|FibraOptica| Mensalmente|   CartaoCredito|         89.1|    0|      0|          1|           1|                       1|              0|           1|                0|             0|      1|              0|           1|\n",
            "|  7|         0|             10|        DSL| Mensalmente|          Boleto|        29.75|    0|      0|          0|           0|                       0|              1|           0|                0|             0|      0|              0|           0|\n",
            "|  8|         0|             28|FibraOptica| Mensalmente|BoletoEletronico|        104.8|    1|      1|          0|           1|                       1|              0|           0|                1|             1|      1|              1|           1|\n",
            "|  9|         0|             62|        DSL|       UmAno|   DebitoEmConta|        56.15|    0|      0|          1|           1|                       0|              1|           1|                0|             0|      0|              0|           0|\n",
            "| 10|         0|             13|        DSL| Mensalmente|          Boleto|        49.95|    0|      1|          1|           1|                       0|              1|           0|                0|             0|      0|              0|           1|\n",
            "| 11|         0|             16|        Nao|    DoisAnos|   CartaoCredito|        18.95|    0|      0|          0|           1|                       0|              0|           0|                0|             0|      0|              0|           0|\n",
            "| 12|         0|             58|FibraOptica|       UmAno|   CartaoCredito|       100.35|    0|      1|          0|           1|                       1|              0|           0|                1|             0|      1|              1|           0|\n",
            "| 13|         0|             49|FibraOptica| Mensalmente|   DebitoEmConta|        103.7|    1|      0|          0|           1|                       1|              0|           1|                1|             0|      1|              1|           1|\n",
            "| 14|         0|             25|FibraOptica| Mensalmente|BoletoEletronico|        105.5|    0|      0|          0|           1|                       0|              1|           0|                1|             1|      1|              1|           1|\n",
            "| 15|         0|             69|FibraOptica|    DoisAnos|   CartaoCredito|       113.25|    0|      1|          1|           1|                       1|              1|           1|                1|             1|      1|              1|           0|\n",
            "| 16|         0|             52|        Nao|       UmAno|          Boleto|        20.65|    0|      0|          0|           1|                       0|              0|           0|                0|             0|      0|              0|           0|\n",
            "| 17|         0|             71|FibraOptica|    DoisAnos|   DebitoEmConta|        106.7|    0|      0|          1|           1|                       1|              1|           0|                1|             0|      1|              1|           0|\n",
            "| 18|         0|             10|        DSL| Mensalmente|   CartaoCredito|         55.2|    1|      1|          1|           1|                       0|              0|           0|                1|             1|      0|              0|           0|\n",
            "| 19|         0|             21|FibraOptica| Mensalmente|BoletoEletronico|        90.05|    0|      0|          0|           1|                       0|              0|           1|                1|             0|      0|              1|           1|\n",
            "+---+----------+---------------+-----------+------------+----------------+-------------+-----+-------+-----------+------------+------------------------+---------------+------------+-----------------+--------------+-------+---------------+------------+\n",
            "only showing top 20 rows\n",
            "\n"
          ]
        }
      ]
    },
    {
      "cell_type": "code",
      "source": [
        "dataset = dados.select(todasColunas)"
      ],
      "metadata": {
        "id": "Uc4eaKRDxr_X"
      },
      "execution_count": null,
      "outputs": []
    },
    {
      "cell_type": "code",
      "source": [
        "dataset.show()"
      ],
      "metadata": {
        "colab": {
          "base_uri": "https://localhost:8080/"
        },
        "id": "QI1H9zB2xton",
        "outputId": "62dbca6c-f245-47c5-dbb3-94f635cbcc91"
      },
      "execution_count": null,
      "outputs": [
        {
          "output_type": "stream",
          "name": "stdout",
          "text": [
            "+---+----------+---------------+-----------+------------+----------------+-------------+-----+-------+-----------+------------+------------------------+---------------+------------+-----------------+--------------+-------+---------------+------------+\n",
            "| id|Mais65anos|MesesDeContrato|   Internet|TipoContrato| MetodoPagamento|MesesCobrados|Churn|Conjuge|Dependentes|TelefoneFixo|MaisDeUmaLinhaTelefonica|SegurancaOnline|BackupOnline|SeguroDispositivo|SuporteTecnico|TVaCabo|StreamingFilmes|ContaCorreio|\n",
            "+---+----------+---------------+-----------+------------+----------------+-------------+-----+-------+-----------+------------+------------------------+---------------+------------+-----------------+--------------+-------+---------------+------------+\n",
            "|  0|         0|              1|        DSL| Mensalmente|BoletoEletronico|        29.85|    0|      1|          0|           0|                       0|              0|           1|                0|             0|      0|              0|           1|\n",
            "|  1|         0|             34|        DSL|       UmAno|          Boleto|        56.95|    0|      0|          0|           1|                       0|              1|           0|                1|             0|      0|              0|           0|\n",
            "|  2|         0|              2|        DSL| Mensalmente|          Boleto|        53.85|    1|      0|          0|           1|                       0|              1|           1|                0|             0|      0|              0|           1|\n",
            "|  3|         0|             45|        DSL|       UmAno|   DebitoEmConta|         42.3|    0|      0|          0|           0|                       0|              1|           0|                1|             1|      0|              0|           0|\n",
            "|  4|         0|              2|FibraOptica| Mensalmente|BoletoEletronico|         70.7|    1|      0|          0|           1|                       0|              0|           0|                0|             0|      0|              0|           1|\n",
            "|  5|         0|              8|FibraOptica| Mensalmente|BoletoEletronico|        99.65|    1|      0|          0|           1|                       1|              0|           0|                1|             0|      1|              1|           1|\n",
            "|  6|         0|             22|FibraOptica| Mensalmente|   CartaoCredito|         89.1|    0|      0|          1|           1|                       1|              0|           1|                0|             0|      1|              0|           1|\n",
            "|  7|         0|             10|        DSL| Mensalmente|          Boleto|        29.75|    0|      0|          0|           0|                       0|              1|           0|                0|             0|      0|              0|           0|\n",
            "|  8|         0|             28|FibraOptica| Mensalmente|BoletoEletronico|        104.8|    1|      1|          0|           1|                       1|              0|           0|                1|             1|      1|              1|           1|\n",
            "|  9|         0|             62|        DSL|       UmAno|   DebitoEmConta|        56.15|    0|      0|          1|           1|                       0|              1|           1|                0|             0|      0|              0|           0|\n",
            "| 10|         0|             13|        DSL| Mensalmente|          Boleto|        49.95|    0|      1|          1|           1|                       0|              1|           0|                0|             0|      0|              0|           1|\n",
            "| 11|         0|             16|        Nao|    DoisAnos|   CartaoCredito|        18.95|    0|      0|          0|           1|                       0|              0|           0|                0|             0|      0|              0|           0|\n",
            "| 12|         0|             58|FibraOptica|       UmAno|   CartaoCredito|       100.35|    0|      1|          0|           1|                       1|              0|           0|                1|             0|      1|              1|           0|\n",
            "| 13|         0|             49|FibraOptica| Mensalmente|   DebitoEmConta|        103.7|    1|      0|          0|           1|                       1|              0|           1|                1|             0|      1|              1|           1|\n",
            "| 14|         0|             25|FibraOptica| Mensalmente|BoletoEletronico|        105.5|    0|      0|          0|           1|                       0|              1|           0|                1|             1|      1|              1|           1|\n",
            "| 15|         0|             69|FibraOptica|    DoisAnos|   CartaoCredito|       113.25|    0|      1|          1|           1|                       1|              1|           1|                1|             1|      1|              1|           0|\n",
            "| 16|         0|             52|        Nao|       UmAno|          Boleto|        20.65|    0|      0|          0|           1|                       0|              0|           0|                0|             0|      0|              0|           0|\n",
            "| 17|         0|             71|FibraOptica|    DoisAnos|   DebitoEmConta|        106.7|    0|      0|          1|           1|                       1|              1|           0|                1|             0|      1|              1|           0|\n",
            "| 18|         0|             10|        DSL| Mensalmente|   CartaoCredito|         55.2|    1|      1|          1|           1|                       0|              0|           0|                1|             1|      0|              0|           0|\n",
            "| 19|         0|             21|FibraOptica| Mensalmente|BoletoEletronico|        90.05|    0|      0|          0|           1|                       0|              0|           1|                1|             0|      0|              1|           1|\n",
            "+---+----------+---------------+-----------+------------+----------------+-------------+-----+-------+-----------+------------+------------------------+---------------+------------+-----------------+--------------+-------+---------------+------------+\n",
            "only showing top 20 rows\n",
            "\n"
          ]
        }
      ]
    },
    {
      "cell_type": "markdown",
      "source": [
        "## **1.5 Criando *Dummies***"
      ],
      "metadata": {
        "id": "5_yL5FmAxyk3"
      }
    },
    {
      "cell_type": "code",
      "source": [
        "dataset.select(['Internet', 'TipoContrato', 'MetodoPagamento']).show()"
      ],
      "metadata": {
        "colab": {
          "base_uri": "https://localhost:8080/"
        },
        "id": "IkZXW9RkxzDQ",
        "outputId": "5c7bdac3-33cf-44a4-f658-c17c2b378fb5"
      },
      "execution_count": null,
      "outputs": [
        {
          "output_type": "stream",
          "name": "stdout",
          "text": [
            "+-----------+------------+----------------+\n",
            "|   Internet|TipoContrato| MetodoPagamento|\n",
            "+-----------+------------+----------------+\n",
            "|        DSL| Mensalmente|BoletoEletronico|\n",
            "|        DSL|       UmAno|          Boleto|\n",
            "|        DSL| Mensalmente|          Boleto|\n",
            "|        DSL|       UmAno|   DebitoEmConta|\n",
            "|FibraOptica| Mensalmente|BoletoEletronico|\n",
            "|FibraOptica| Mensalmente|BoletoEletronico|\n",
            "|FibraOptica| Mensalmente|   CartaoCredito|\n",
            "|        DSL| Mensalmente|          Boleto|\n",
            "|FibraOptica| Mensalmente|BoletoEletronico|\n",
            "|        DSL|       UmAno|   DebitoEmConta|\n",
            "|        DSL| Mensalmente|          Boleto|\n",
            "|        Nao|    DoisAnos|   CartaoCredito|\n",
            "|FibraOptica|       UmAno|   CartaoCredito|\n",
            "|FibraOptica| Mensalmente|   DebitoEmConta|\n",
            "|FibraOptica| Mensalmente|BoletoEletronico|\n",
            "|FibraOptica|    DoisAnos|   CartaoCredito|\n",
            "|        Nao|       UmAno|          Boleto|\n",
            "|FibraOptica|    DoisAnos|   DebitoEmConta|\n",
            "|        DSL| Mensalmente|   CartaoCredito|\n",
            "|FibraOptica| Mensalmente|BoletoEletronico|\n",
            "+-----------+------------+----------------+\n",
            "only showing top 20 rows\n",
            "\n"
          ]
        }
      ]
    },
    {
      "cell_type": "code",
      "source": [
        "dataset.groupBy('id').pivot('MetodoPagamento').agg(f.lit(1)).na.fill(0).show()"
      ],
      "metadata": {
        "colab": {
          "base_uri": "https://localhost:8080/"
        },
        "id": "BNzWWyKix2fS",
        "outputId": "f6a1686d-67e2-4910-dbc1-eaa0e97915bf"
      },
      "execution_count": null,
      "outputs": [
        {
          "output_type": "stream",
          "name": "stdout",
          "text": [
            "+-----+------+----------------+-------------+-------------+\n",
            "|   id|Boleto|BoletoEletronico|CartaoCredito|DebitoEmConta|\n",
            "+-----+------+----------------+-------------+-------------+\n",
            "| 3997|     0|               0|            1|            0|\n",
            "| 7554|     0|               1|            0|            0|\n",
            "| 6336|     0|               1|            0|            0|\n",
            "| 6357|     0|               1|            0|            0|\n",
            "| 9427|     0|               0|            1|            0|\n",
            "| 2659|     0|               0|            1|            0|\n",
            "|  471|     0|               1|            0|            0|\n",
            "| 4935|     0|               0|            1|            0|\n",
            "| 4818|     0|               0|            1|            0|\n",
            "| 1342|     1|               0|            0|            0|\n",
            "| 1959|     0|               1|            0|            0|\n",
            "| 9376|     0|               0|            1|            0|\n",
            "| 2366|     0|               1|            0|            0|\n",
            "| 1580|     0|               0|            0|            1|\n",
            "| 9900|     0|               1|            0|            0|\n",
            "| 9852|     1|               0|            0|            0|\n",
            "| 3918|     0|               1|            0|            0|\n",
            "| 7880|     0|               1|            0|            0|\n",
            "| 1238|     0|               1|            0|            0|\n",
            "|10206|     0|               1|            0|            0|\n",
            "+-----+------+----------------+-------------+-------------+\n",
            "only showing top 20 rows\n",
            "\n"
          ]
        }
      ]
    },
    {
      "cell_type": "code",
      "source": [
        "Internet = dataset.groupBy('id').pivot('Internet').agg(f.lit(1)).na.fill(0)\n",
        "TipoContrato = dataset.groupBy('id').pivot('TipoContrato').agg(f.lit(1)).na.fill(0)\n",
        "MetodoPagamento = dataset.groupBy('id').pivot('MetodoPagamento').agg(f.lit(1)).na.fill(0)"
      ],
      "metadata": {
        "id": "6Uk2iSNux4ee"
      },
      "execution_count": null,
      "outputs": []
    },
    {
      "cell_type": "code",
      "source": [
        "dataset\\\n",
        "    .join(Internet, 'id', how='inner')\\\n",
        "    .join(TipoContrato, 'id', how='inner')\\\n",
        "    .join(MetodoPagamento, 'id', how='inner')\\\n",
        "    .select(\n",
        "        '*',\n",
        "        f.col('DSL').alias('Internet_DSL'), \n",
        "        f.col('FibraOptica').alias('Internet_FibraOptica'), \n",
        "        f.col('Nao').alias('Internet_Nao'), \n",
        "        f.col('Mensalmente').alias('TipoContrato_Mensalmente'), \n",
        "        f.col('UmAno').alias('TipoContrato_UmAno'), \n",
        "        f.col('DoisAnos').alias('TipoContrato_DoisAnos'), \n",
        "        f.col('DebitoEmConta').alias('MetodoPagamento_DebitoEmConta'), \n",
        "        f.col('CartaoCredito').alias('MetodoPagamento_CartaoCredito'), \n",
        "        f.col('BoletoEletronico').alias('MetodoPagamento_BoletoEletronico'), \n",
        "        f.col('Boleto').alias('MetodoPagamento_Boleto')        \n",
        "    ).drop(\n",
        "        'Internet', 'TipoContrato', 'MetodoPagamento', 'DSL', \n",
        "        'FibraOptica', 'Nao', 'Mensalmente', 'UmAno', 'DoisAnos', \n",
        "        'DebitoEmConta', 'CartaoCredito', 'BoletoEletronico', 'Boleto'\n",
        "    ).show()"
      ],
      "metadata": {
        "colab": {
          "base_uri": "https://localhost:8080/"
        },
        "id": "mckTLPlEx7oH",
        "outputId": "a1d1a553-a7ca-40cd-e390-1efaf498cad9"
      },
      "execution_count": null,
      "outputs": [
        {
          "output_type": "stream",
          "name": "stdout",
          "text": [
            "+----+----------+---------------+-----------------+-----+-------+-----------+------------+------------------------+---------------+------------+-----------------+--------------+-------+---------------+------------+------------+--------------------+------------+------------------------+------------------+---------------------+-----------------------------+-----------------------------+--------------------------------+----------------------+\n",
            "|  id|Mais65anos|MesesDeContrato|    MesesCobrados|Churn|Conjuge|Dependentes|TelefoneFixo|MaisDeUmaLinhaTelefonica|SegurancaOnline|BackupOnline|SeguroDispositivo|SuporteTecnico|TVaCabo|StreamingFilmes|ContaCorreio|Internet_DSL|Internet_FibraOptica|Internet_Nao|TipoContrato_Mensalmente|TipoContrato_UmAno|TipoContrato_DoisAnos|MetodoPagamento_DebitoEmConta|MetodoPagamento_CartaoCredito|MetodoPagamento_BoletoEletronico|MetodoPagamento_Boleto|\n",
            "+----+----------+---------------+-----------------+-----+-------+-----------+------------+------------------------+---------------+------------+-----------------+--------------+-------+---------------+------------+------------+--------------------+------------+------------------------+------------------+---------------------+-----------------------------+-----------------------------+--------------------------------+----------------------+\n",
            "|7982|         0|              1|45.30540797610398|    1|      0|          0|           0|                       0|              0|           0|                0|             0|      1|              1|           1|           1|                   0|           0|                       1|                 0|                    0|                            0|                            0|                               1|                     0|\n",
            "|9465|         0|             60|103.6142230120257|    1|      1|          0|           1|                       1|              0|           1|                1|             0|      1|              1|           1|           0|                   1|           0|                       1|                 0|                    0|                            0|                            0|                               1|                     0|\n",
            "|2122|         0|             12|            75.85|    0|      0|          0|           1|                       1|              0|           0|                0|             1|      1|              1|           1|           1|                   0|           0|                       0|                 1|                    0|                            0|                            0|                               0|                     1|\n",
            "|3997|         0|             69|            61.45|    0|      1|          0|           1|                       0|              0|           1|                0|             0|      0|              1|           1|           1|                   0|           0|                       0|                 0|                    1|                            0|                            1|                               0|                     0|\n",
            "|6654|         0|              7|             86.5|    1|      1|          0|           1|                       1|              0|           0|                0|             0|      1|              0|           1|           0|                   1|           0|                       1|                 0|                    0|                            0|                            0|                               1|                     0|\n",
            "|7880|         0|             14|85.03742670311915|    1|      0|          0|           1|                       1|              0|           0|                0|             0|      0|              1|           1|           0|                   1|           0|                       1|                 0|                    0|                            0|                            0|                               1|                     0|\n",
            "|4519|         0|             57|            109.4|    0|      1|          0|           1|                       1|              0|           1|                1|             1|      1|              1|           1|           0|                   1|           0|                       0|                 1|                    0|                            1|                            0|                               0|                     0|\n",
            "|6466|         0|             18|            74.15|    0|      0|          0|           1|                       1|              0|           0|                0|             0|      0|              0|           0|           0|                   1|           0|                       1|                 0|                    0|                            0|                            0|                               0|                     1|\n",
            "| 496|         0|             28|             60.9|    0|      1|          0|           1|                       0|              1|           1|                0|             1|      0|              0|           0|           1|                   0|           0|                       1|                 0|                    0|                            0|                            0|                               0|                     1|\n",
            "|7833|         0|             46| 80.8824189403559|    1|      1|          0|           1|                       0|              0|           0|                0|             0|      0|              1|           1|           0|                   1|           0|                       1|                 0|                    0|                            0|                            0|                               1|                     0|\n",
            "|1591|         0|             17|             21.1|    0|      0|          0|           1|                       0|              0|           0|                0|             0|      0|              0|           0|           0|                   0|           1|                       1|                 0|                    0|                            0|                            1|                               0|                     0|\n",
            "|2866|         0|             12|             84.6|    0|      0|          0|           1|                       0|              0|           1|                0|             0|      0|              1|           1|           0|                   1|           0|                       1|                 0|                    0|                            0|                            0|                               1|                     0|\n",
            "|8592|         0|              5|82.71735660557214|    1|      1|          0|           1|                       1|              0|           0|                0|             0|      1|              0|           1|           0|                   1|           0|                       1|                 0|                    0|                            0|                            0|                               1|                     0|\n",
            "|1829|         0|              8|            74.85|    0|      0|          0|           1|                       1|              0|           0|                0|             0|      0|              0|           1|           0|                   1|           0|                       1|                 0|                    0|                            0|                            0|                               1|                     0|\n",
            "| 463|         0|              7|             99.8|    1|      0|          0|           1|                       1|              0|           1|                0|             0|      1|              1|           1|           0|                   1|           0|                       1|                 0|                    0|                            0|                            0|                               1|                     0|\n",
            "|4900|         1|             37|             85.7|    1|      1|          0|           1|                       1|              0|           0|                0|             0|      1|              0|           1|           0|                   1|           0|                       1|                 0|                    0|                            0|                            0|                               1|                     0|\n",
            "|4818|         1|             64|             80.3|    0|      1|          0|           1|                       0|              1|           0|                1|             0|      0|              0|           0|           0|                   1|           0|                       0|                 1|                    0|                            0|                            1|                               0|                     0|\n",
            "|7554|         0|              1|50.74303124820026|    1|      0|          0|           1|                       0|              0|           1|                0|             0|      0|              0|           0|           1|                   0|           0|                       1|                 0|                    0|                            0|                            0|                               1|                     0|\n",
            "|1342|         0|              8|             20.0|    0|      0|          0|           1|                       0|              0|           0|                0|             0|      0|              0|           0|           0|                   0|           1|                       0|                 0|                    1|                            0|                            0|                               0|                     1|\n",
            "|5300|         0|              1|            80.05|    1|      1|          1|           1|                       0|              0|           0|                0|             0|      1|              0|           1|           0|                   1|           0|                       1|                 0|                    0|                            0|                            0|                               0|                     1|\n",
            "+----+----------+---------------+-----------------+-----+-------+-----------+------------+------------------------+---------------+------------+-----------------+--------------+-------+---------------+------------+------------+--------------------+------------+------------------------+------------------+---------------------+-----------------------------+-----------------------------+--------------------------------+----------------------+\n",
            "only showing top 20 rows\n",
            "\n"
          ]
        }
      ]
    },
    {
      "cell_type": "code",
      "source": [
        "dataset = dataset\\\n",
        "    .join(Internet, 'id', how='inner')\\\n",
        "    .join(TipoContrato, 'id', how='inner')\\\n",
        "    .join(MetodoPagamento, 'id', how='inner')\\\n",
        "    .select(\n",
        "        '*',\n",
        "        f.col('DSL').alias('Internet_DSL'), \n",
        "        f.col('FibraOptica').alias('Internet_FibraOptica'), \n",
        "        f.col('Nao').alias('Internet_Nao'), \n",
        "        f.col('Mensalmente').alias('TipoContrato_Mensalmente'), \n",
        "        f.col('UmAno').alias('TipoContrato_UmAno'), \n",
        "        f.col('DoisAnos').alias('TipoContrato_DoisAnos'), \n",
        "        f.col('DebitoEmConta').alias('MetodoPagamento_DebitoEmConta'), \n",
        "        f.col('CartaoCredito').alias('MetodoPagamento_CartaoCredito'), \n",
        "        f.col('BoletoEletronico').alias('MetodoPagamento_BoletoEletronico'), \n",
        "        f.col('Boleto').alias('MetodoPagamento_Boleto')        \n",
        "    ).drop(\n",
        "        'Internet', 'TipoContrato', 'MetodoPagamento', 'DSL', \n",
        "        'FibraOptica', 'Nao', 'Mensalmente', 'UmAno', 'DoisAnos', \n",
        "        'DebitoEmConta', 'CartaoCredito', 'BoletoEletronico', 'Boleto'\n",
        "    )"
      ],
      "metadata": {
        "id": "vQjmsCPzx_CI"
      },
      "execution_count": null,
      "outputs": []
    },
    {
      "cell_type": "code",
      "source": [
        "dataset.show()"
      ],
      "metadata": {
        "colab": {
          "base_uri": "https://localhost:8080/"
        },
        "id": "O1UhkyNtyAwn",
        "outputId": "fb96f96e-0911-4d94-df99-66fe497a6620"
      },
      "execution_count": null,
      "outputs": [
        {
          "output_type": "stream",
          "name": "stdout",
          "text": [
            "+----+----------+---------------+-----------------+-----+-------+-----------+------------+------------------------+---------------+------------+-----------------+--------------+-------+---------------+------------+------------+--------------------+------------+------------------------+------------------+---------------------+-----------------------------+-----------------------------+--------------------------------+----------------------+\n",
            "|  id|Mais65anos|MesesDeContrato|    MesesCobrados|Churn|Conjuge|Dependentes|TelefoneFixo|MaisDeUmaLinhaTelefonica|SegurancaOnline|BackupOnline|SeguroDispositivo|SuporteTecnico|TVaCabo|StreamingFilmes|ContaCorreio|Internet_DSL|Internet_FibraOptica|Internet_Nao|TipoContrato_Mensalmente|TipoContrato_UmAno|TipoContrato_DoisAnos|MetodoPagamento_DebitoEmConta|MetodoPagamento_CartaoCredito|MetodoPagamento_BoletoEletronico|MetodoPagamento_Boleto|\n",
            "+----+----------+---------------+-----------------+-----+-------+-----------+------------+------------------------+---------------+------------+-----------------+--------------+-------+---------------+------------+------------+--------------------+------------+------------------------+------------------+---------------------+-----------------------------+-----------------------------+--------------------------------+----------------------+\n",
            "|7982|         0|              1|45.30540797610398|    1|      0|          0|           0|                       0|              0|           0|                0|             0|      1|              1|           1|           1|                   0|           0|                       1|                 0|                    0|                            0|                            0|                               1|                     0|\n",
            "|9465|         0|             60|103.6142230120257|    1|      1|          0|           1|                       1|              0|           1|                1|             0|      1|              1|           1|           0|                   1|           0|                       1|                 0|                    0|                            0|                            0|                               1|                     0|\n",
            "|2122|         0|             12|            75.85|    0|      0|          0|           1|                       1|              0|           0|                0|             1|      1|              1|           1|           1|                   0|           0|                       0|                 1|                    0|                            0|                            0|                               0|                     1|\n",
            "|3997|         0|             69|            61.45|    0|      1|          0|           1|                       0|              0|           1|                0|             0|      0|              1|           1|           1|                   0|           0|                       0|                 0|                    1|                            0|                            1|                               0|                     0|\n",
            "|6654|         0|              7|             86.5|    1|      1|          0|           1|                       1|              0|           0|                0|             0|      1|              0|           1|           0|                   1|           0|                       1|                 0|                    0|                            0|                            0|                               1|                     0|\n",
            "|7880|         0|             14|85.03742670311915|    1|      0|          0|           1|                       1|              0|           0|                0|             0|      0|              1|           1|           0|                   1|           0|                       1|                 0|                    0|                            0|                            0|                               1|                     0|\n",
            "|4519|         0|             57|            109.4|    0|      1|          0|           1|                       1|              0|           1|                1|             1|      1|              1|           1|           0|                   1|           0|                       0|                 1|                    0|                            1|                            0|                               0|                     0|\n",
            "|6466|         0|             18|            74.15|    0|      0|          0|           1|                       1|              0|           0|                0|             0|      0|              0|           0|           0|                   1|           0|                       1|                 0|                    0|                            0|                            0|                               0|                     1|\n",
            "| 496|         0|             28|             60.9|    0|      1|          0|           1|                       0|              1|           1|                0|             1|      0|              0|           0|           1|                   0|           0|                       1|                 0|                    0|                            0|                            0|                               0|                     1|\n",
            "|7833|         0|             46| 80.8824189403559|    1|      1|          0|           1|                       0|              0|           0|                0|             0|      0|              1|           1|           0|                   1|           0|                       1|                 0|                    0|                            0|                            0|                               1|                     0|\n",
            "|1591|         0|             17|             21.1|    0|      0|          0|           1|                       0|              0|           0|                0|             0|      0|              0|           0|           0|                   0|           1|                       1|                 0|                    0|                            0|                            1|                               0|                     0|\n",
            "|2866|         0|             12|             84.6|    0|      0|          0|           1|                       0|              0|           1|                0|             0|      0|              1|           1|           0|                   1|           0|                       1|                 0|                    0|                            0|                            0|                               1|                     0|\n",
            "|8592|         0|              5|82.71735660557214|    1|      1|          0|           1|                       1|              0|           0|                0|             0|      1|              0|           1|           0|                   1|           0|                       1|                 0|                    0|                            0|                            0|                               1|                     0|\n",
            "|1829|         0|              8|            74.85|    0|      0|          0|           1|                       1|              0|           0|                0|             0|      0|              0|           1|           0|                   1|           0|                       1|                 0|                    0|                            0|                            0|                               1|                     0|\n",
            "| 463|         0|              7|             99.8|    1|      0|          0|           1|                       1|              0|           1|                0|             0|      1|              1|           1|           0|                   1|           0|                       1|                 0|                    0|                            0|                            0|                               1|                     0|\n",
            "|4900|         1|             37|             85.7|    1|      1|          0|           1|                       1|              0|           0|                0|             0|      1|              0|           1|           0|                   1|           0|                       1|                 0|                    0|                            0|                            0|                               1|                     0|\n",
            "|4818|         1|             64|             80.3|    0|      1|          0|           1|                       0|              1|           0|                1|             0|      0|              0|           0|           0|                   1|           0|                       0|                 1|                    0|                            0|                            1|                               0|                     0|\n",
            "|7554|         0|              1|50.74303124820026|    1|      0|          0|           1|                       0|              0|           1|                0|             0|      0|              0|           0|           1|                   0|           0|                       1|                 0|                    0|                            0|                            0|                               1|                     0|\n",
            "|1342|         0|              8|             20.0|    0|      0|          0|           1|                       0|              0|           0|                0|             0|      0|              0|           0|           0|                   0|           1|                       0|                 0|                    1|                            0|                            0|                               0|                     1|\n",
            "|5300|         0|              1|            80.05|    1|      1|          1|           1|                       0|              0|           0|                0|             0|      1|              0|           1|           0|                   1|           0|                       1|                 0|                    0|                            0|                            0|                               0|                     1|\n",
            "+----+----------+---------------+-----------------+-----+-------+-----------+------------+------------------------+---------------+------------+-----------------+--------------+-------+---------------+------------+------------+--------------------+------------+------------------------+------------------+---------------------+-----------------------------+-----------------------------+--------------------------------+----------------------+\n",
            "only showing top 20 rows\n",
            "\n"
          ]
        }
      ]
    },
    {
      "cell_type": "markdown",
      "source": [
        "## **2.0 Criando o Primeiro Modelo**"
      ],
      "metadata": {
        "id": "R83lOVVCyFnH"
      }
    },
    {
      "cell_type": "markdown",
      "source": [
        "## **2.1 Regressão Logística**\n"
      ],
      "metadata": {
        "id": "loHvUDIKyGJv"
      }
    },
    {
      "cell_type": "markdown",
      "source": [
        "O primeiro modelo que vamos explorar é a regressão logística, ou logistic regression em inglês.\n",
        "\n",
        "Ela parece com a regressão linear, pois o algoritmo vai criar uma reta que se \"ajusta\" aos nossos dados e consiga representar os dados de treino.\n",
        "\n",
        "A diferença é que, depois que criamos essa reta e ajustamos aos valores de treino, aplicamos a Sigmoide que vai transformar os nossos valores em valores entre um intervalo de 0 e 1. A partir dessa transformação, vamos conseguir separar os nossos dados em duas classes, que no nosso caso, é se a pessoa cancelou o serviço ou não.\n",
        "\n",
        "![regressaologistica.png](data:image/png;base64,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)\n",
        "\n",
        "Essa imagem conta com dois gráficos; no da direita, temos uma reta que está se ajustando a dados e ligando todos os pontos. Porém, as bolinhas que representam os valores das classes têm as cores vermelha e azul.\n",
        "\n",
        "Os círculos vermelhos representam os dados que estão em uma classe negativa, e os círculos azuis representam os dados que estão na classe positiva.\n"
      ],
      "metadata": {
        "id": "Ec8_NP31yKR_"
      }
    },
    {
      "cell_type": "markdown",
      "source": [
        "## **2.2 PREPARAÇÃO DOS DADOS** "
      ],
      "metadata": {
        "id": "6n86SNwdyK3g"
      }
    },
    {
      "cell_type": "code",
      "source": [
        "dataset.show()"
      ],
      "metadata": {
        "colab": {
          "base_uri": "https://localhost:8080/"
        },
        "id": "OmmBM8eNyP2I",
        "outputId": "2863973e-3d9d-4a66-f435-51baf82b0b46"
      },
      "execution_count": null,
      "outputs": [
        {
          "output_type": "stream",
          "name": "stdout",
          "text": [
            "+----+----------+---------------+-----------------+-----+-------+-----------+------------+------------------------+---------------+------------+-----------------+--------------+-------+---------------+------------+------------+--------------------+------------+------------------------+------------------+---------------------+-----------------------------+-----------------------------+--------------------------------+----------------------+\n",
            "|  id|Mais65anos|MesesDeContrato|    MesesCobrados|label|Conjuge|Dependentes|TelefoneFixo|MaisDeUmaLinhaTelefonica|SegurancaOnline|BackupOnline|SeguroDispositivo|SuporteTecnico|TVaCabo|StreamingFilmes|ContaCorreio|Internet_DSL|Internet_FibraOptica|Internet_Nao|TipoContrato_Mensalmente|TipoContrato_UmAno|TipoContrato_DoisAnos|MetodoPagamento_DebitoEmConta|MetodoPagamento_CartaoCredito|MetodoPagamento_BoletoEletronico|MetodoPagamento_Boleto|\n",
            "+----+----------+---------------+-----------------+-----+-------+-----------+------------+------------------------+---------------+------------+-----------------+--------------+-------+---------------+------------+------------+--------------------+------------+------------------------+------------------+---------------------+-----------------------------+-----------------------------+--------------------------------+----------------------+\n",
            "|7982|         0|              1|45.30540797610398|    1|      0|          0|           0|                       0|              0|           0|                0|             0|      1|              1|           1|           1|                   0|           0|                       1|                 0|                    0|                            0|                            0|                               1|                     0|\n",
            "|9465|         0|             60|103.6142230120257|    1|      1|          0|           1|                       1|              0|           1|                1|             0|      1|              1|           1|           0|                   1|           0|                       1|                 0|                    0|                            0|                            0|                               1|                     0|\n",
            "|2122|         0|             12|            75.85|    0|      0|          0|           1|                       1|              0|           0|                0|             1|      1|              1|           1|           1|                   0|           0|                       0|                 1|                    0|                            0|                            0|                               0|                     1|\n",
            "|3997|         0|             69|            61.45|    0|      1|          0|           1|                       0|              0|           1|                0|             0|      0|              1|           1|           1|                   0|           0|                       0|                 0|                    1|                            0|                            1|                               0|                     0|\n",
            "|6654|         0|              7|             86.5|    1|      1|          0|           1|                       1|              0|           0|                0|             0|      1|              0|           1|           0|                   1|           0|                       1|                 0|                    0|                            0|                            0|                               1|                     0|\n",
            "|7880|         0|             14|85.03742670311915|    1|      0|          0|           1|                       1|              0|           0|                0|             0|      0|              1|           1|           0|                   1|           0|                       1|                 0|                    0|                            0|                            0|                               1|                     0|\n",
            "|4519|         0|             57|            109.4|    0|      1|          0|           1|                       1|              0|           1|                1|             1|      1|              1|           1|           0|                   1|           0|                       0|                 1|                    0|                            1|                            0|                               0|                     0|\n",
            "|6466|         0|             18|            74.15|    0|      0|          0|           1|                       1|              0|           0|                0|             0|      0|              0|           0|           0|                   1|           0|                       1|                 0|                    0|                            0|                            0|                               0|                     1|\n",
            "| 496|         0|             28|             60.9|    0|      1|          0|           1|                       0|              1|           1|                0|             1|      0|              0|           0|           1|                   0|           0|                       1|                 0|                    0|                            0|                            0|                               0|                     1|\n",
            "|7833|         0|             46| 80.8824189403559|    1|      1|          0|           1|                       0|              0|           0|                0|             0|      0|              1|           1|           0|                   1|           0|                       1|                 0|                    0|                            0|                            0|                               1|                     0|\n",
            "|1591|         0|             17|             21.1|    0|      0|          0|           1|                       0|              0|           0|                0|             0|      0|              0|           0|           0|                   0|           1|                       1|                 0|                    0|                            0|                            1|                               0|                     0|\n",
            "|2866|         0|             12|             84.6|    0|      0|          0|           1|                       0|              0|           1|                0|             0|      0|              1|           1|           0|                   1|           0|                       1|                 0|                    0|                            0|                            0|                               1|                     0|\n",
            "|8592|         0|              5|82.71735660557214|    1|      1|          0|           1|                       1|              0|           0|                0|             0|      1|              0|           1|           0|                   1|           0|                       1|                 0|                    0|                            0|                            0|                               1|                     0|\n",
            "|1829|         0|              8|            74.85|    0|      0|          0|           1|                       1|              0|           0|                0|             0|      0|              0|           1|           0|                   1|           0|                       1|                 0|                    0|                            0|                            0|                               1|                     0|\n",
            "| 463|         0|              7|             99.8|    1|      0|          0|           1|                       1|              0|           1|                0|             0|      1|              1|           1|           0|                   1|           0|                       1|                 0|                    0|                            0|                            0|                               1|                     0|\n",
            "|4900|         1|             37|             85.7|    1|      1|          0|           1|                       1|              0|           0|                0|             0|      1|              0|           1|           0|                   1|           0|                       1|                 0|                    0|                            0|                            0|                               1|                     0|\n",
            "|4818|         1|             64|             80.3|    0|      1|          0|           1|                       0|              1|           0|                1|             0|      0|              0|           0|           0|                   1|           0|                       0|                 1|                    0|                            0|                            1|                               0|                     0|\n",
            "|7554|         0|              1|50.74303124820026|    1|      0|          0|           1|                       0|              0|           1|                0|             0|      0|              0|           0|           1|                   0|           0|                       1|                 0|                    0|                            0|                            0|                               1|                     0|\n",
            "|1342|         0|              8|             20.0|    0|      0|          0|           1|                       0|              0|           0|                0|             0|      0|              0|           0|           0|                   0|           1|                       0|                 0|                    1|                            0|                            0|                               0|                     1|\n",
            "|5300|         0|              1|            80.05|    1|      1|          1|           1|                       0|              0|           0|                0|             0|      1|              0|           1|           0|                   1|           0|                       1|                 0|                    0|                            0|                            0|                               0|                     1|\n",
            "+----+----------+---------------+-----------------+-----+-------+-----------+------------+------------------------+---------------+------------+-----------------+--------------+-------+---------------+------------+------------+--------------------+------------+------------------------+------------------+---------------------+-----------------------------+-----------------------------+--------------------------------+----------------------+\n",
            "only showing top 20 rows\n",
            "\n"
          ]
        }
      ]
    },
    {
      "cell_type": "code",
      "source": [
        "from pyspark.ml.feature import VectorAssembler"
      ],
      "metadata": {
        "id": "eUIntxeCySRP"
      },
      "execution_count": null,
      "outputs": []
    },
    {
      "cell_type": "code",
      "source": [
        "dataset = dataset.withColumnRenamed('Churn', 'label')"
      ],
      "metadata": {
        "id": "3Ma7x4LPyTvu"
      },
      "execution_count": null,
      "outputs": []
    },
    {
      "cell_type": "code",
      "source": [
        "X = dataset.columns\n",
        "X.remove('label')\n",
        "X.remove('id')\n",
        "X"
      ],
      "metadata": {
        "colab": {
          "base_uri": "https://localhost:8080/"
        },
        "id": "fgDKweJpyZc3",
        "outputId": "e2882bda-b2ba-48a6-b347-d24ea92ed0c2"
      },
      "execution_count": null,
      "outputs": [
        {
          "output_type": "execute_result",
          "data": {
            "text/plain": [
              "['Mais65anos',\n",
              " 'MesesDeContrato',\n",
              " 'MesesCobrados',\n",
              " 'Conjuge',\n",
              " 'Dependentes',\n",
              " 'TelefoneFixo',\n",
              " 'MaisDeUmaLinhaTelefonica',\n",
              " 'SegurancaOnline',\n",
              " 'BackupOnline',\n",
              " 'SeguroDispositivo',\n",
              " 'SuporteTecnico',\n",
              " 'TVaCabo',\n",
              " 'StreamingFilmes',\n",
              " 'ContaCorreio',\n",
              " 'Internet_DSL',\n",
              " 'Internet_FibraOptica',\n",
              " 'Internet_Nao',\n",
              " 'TipoContrato_Mensalmente',\n",
              " 'TipoContrato_UmAno',\n",
              " 'TipoContrato_DoisAnos',\n",
              " 'MetodoPagamento_DebitoEmConta',\n",
              " 'MetodoPagamento_CartaoCredito',\n",
              " 'MetodoPagamento_BoletoEletronico',\n",
              " 'MetodoPagamento_Boleto']"
            ]
          },
          "metadata": {},
          "execution_count": 24
        }
      ]
    },
    {
      "cell_type": "markdown",
      "source": [
        "O VectorAssembler do PySpark cria uma representação diferente das nossas features. Essa representação está ligada com o conceito de matriz densa e matriz esparsa.\n",
        "\n",
        "Matriz densa é quando não temos uma quantidade grande de zeros. Portanto, devemos armazenar todos os valores.\n",
        "Matriz esparsa tem a maior parte dos dados iguais a zero. Logo, podemos armazenar apenas os valores diferentes de zero e suas posições na matriz."
      ],
      "metadata": {
        "id": "SvmjFMuPycLW"
      }
    },
    {
      "cell_type": "code",
      "source": [
        "assembler = VectorAssembler(inputCols=X, outputCol='features')"
      ],
      "metadata": {
        "id": "7IuKZkwYycml"
      },
      "execution_count": null,
      "outputs": []
    },
    {
      "cell_type": "code",
      "source": [
        "dataset_prep = assembler.transform(dataset).select('features', 'label')"
      ],
      "metadata": {
        "id": "kj6jIPGyyfnv"
      },
      "execution_count": null,
      "outputs": []
    },
    {
      "cell_type": "code",
      "source": [
        "dataset_prep.show()"
      ],
      "metadata": {
        "colab": {
          "base_uri": "https://localhost:8080/"
        },
        "id": "4ZwKFPrNygEm",
        "outputId": "6465ae27-ca49-43e0-f6f5-cd890f1893e0"
      },
      "execution_count": null,
      "outputs": [
        {
          "output_type": "stream",
          "name": "stdout",
          "text": [
            "+--------------------+-----+\n",
            "|            features|label|\n",
            "+--------------------+-----+\n",
            "|(24,[1,2,11,12,13...|    1|\n",
            "|(24,[1,2,3,5,6,8,...|    1|\n",
            "|(24,[1,2,5,6,10,1...|    0|\n",
            "|(24,[1,2,3,5,8,12...|    0|\n",
            "|(24,[1,2,3,5,6,11...|    1|\n",
            "|(24,[1,2,5,6,12,1...|    1|\n",
            "|(24,[1,2,3,5,6,8,...|    0|\n",
            "|(24,[1,2,5,6,15,1...|    0|\n",
            "|(24,[1,2,3,5,7,8,...|    0|\n",
            "|(24,[1,2,3,5,12,1...|    1|\n",
            "|(24,[1,2,5,16,17,...|    0|\n",
            "|(24,[1,2,5,8,12,1...|    0|\n",
            "|(24,[1,2,3,5,6,11...|    1|\n",
            "|(24,[1,2,5,6,13,1...|    0|\n",
            "|(24,[1,2,5,6,8,11...|    1|\n",
            "|(24,[0,1,2,3,5,6,...|    1|\n",
            "|(24,[0,1,2,3,5,7,...|    0|\n",
            "|(24,[1,2,5,8,14,1...|    1|\n",
            "|(24,[1,2,5,16,19,...|    0|\n",
            "|(24,[1,2,3,4,5,11...|    1|\n",
            "+--------------------+-----+\n",
            "only showing top 20 rows\n",
            "\n"
          ]
        }
      ]
    },
    {
      "cell_type": "code",
      "source": [
        "dataset_prep.filter(dataset_prep.label == 1).show()"
      ],
      "metadata": {
        "colab": {
          "base_uri": "https://localhost:8080/"
        },
        "id": "sLtjRSXcyjfn",
        "outputId": "0b573d5d-efaa-4d0d-8487-d2b75f777130"
      },
      "execution_count": null,
      "outputs": [
        {
          "output_type": "stream",
          "name": "stdout",
          "text": [
            "+--------------------+-----+\n",
            "|            features|label|\n",
            "+--------------------+-----+\n",
            "|(24,[1,2,11,12,13...|    1|\n",
            "|(24,[1,2,3,5,6,8,...|    1|\n",
            "|(24,[1,2,3,5,6,11...|    1|\n",
            "|(24,[1,2,5,6,12,1...|    1|\n",
            "|(24,[1,2,3,5,12,1...|    1|\n",
            "|(24,[1,2,3,5,6,11...|    1|\n",
            "|(24,[1,2,5,6,8,11...|    1|\n",
            "|(24,[0,1,2,3,5,6,...|    1|\n",
            "|(24,[1,2,5,8,14,1...|    1|\n",
            "|(24,[1,2,3,4,5,11...|    1|\n",
            "|(24,[1,2,3,4,5,6,...|    1|\n",
            "|(24,[0,1,2,3,5,6,...|    1|\n",
            "|(24,[1,2,5,12,13,...|    1|\n",
            "|(24,[1,2,13,14,17...|    1|\n",
            "|(24,[1,2,5,12,13,...|    1|\n",
            "|(24,[1,2,5,16,17,...|    1|\n",
            "|(24,[1,2,5,12,13,...|    1|\n",
            "|(24,[1,2,3,4,5,11...|    1|\n",
            "|(24,[1,2,3,5,6,8,...|    1|\n",
            "|(24,[1,2,3,4,5,6,...|    1|\n",
            "+--------------------+-----+\n",
            "only showing top 20 rows\n",
            "\n"
          ]
        }
      ]
    },
    {
      "cell_type": "markdown",
      "source": [
        "## **2.3 Ajuste e Previsão**"
      ],
      "metadata": {
        "id": "Scyng0fVyndu"
      }
    },
    {
      "cell_type": "code",
      "source": [
        "# seed vai padronizar nosso sigmoide toda vez que abrirmos o notebook\n",
        "SEED = 101"
      ],
      "metadata": {
        "id": "XBOt_kY5yn4u"
      },
      "execution_count": null,
      "outputs": []
    },
    {
      "cell_type": "code",
      "source": [
        "# criamos um df de treino e teste sendo distribuído com 70% e 30% dos dados respectivamente\n",
        "treino, teste = dataset_prep.randomSplit([0.7, 0.3], seed=SEED)"
      ],
      "metadata": {
        "id": "5pfjijxtypo4"
      },
      "execution_count": null,
      "outputs": []
    },
    {
      "cell_type": "code",
      "source": [
        "treino.count()"
      ],
      "metadata": {
        "colab": {
          "base_uri": "https://localhost:8080/"
        },
        "id": "9rvhDKaXyqsA",
        "outputId": "f226ecfe-f57c-4654-99a4-49e95e22397d"
      },
      "execution_count": null,
      "outputs": [
        {
          "output_type": "execute_result",
          "data": {
            "text/plain": [
              "7206"
            ]
          },
          "metadata": {},
          "execution_count": 31
        }
      ]
    },
    {
      "cell_type": "code",
      "source": [
        "from pyspark.ml.classification import LogisticRegression"
      ],
      "metadata": {
        "id": "99AD20E1ysNo"
      },
      "execution_count": null,
      "outputs": []
    },
    {
      "cell_type": "code",
      "source": [
        "lr = LogisticRegression()"
      ],
      "metadata": {
        "id": "9KfekrfaytYQ"
      },
      "execution_count": null,
      "outputs": []
    },
    {
      "cell_type": "code",
      "source": [
        "modelo_lr = lr.fit(treino)"
      ],
      "metadata": {
        "id": "BVHULlXpyuzQ"
      },
      "execution_count": null,
      "outputs": []
    },
    {
      "cell_type": "code",
      "source": [
        "previsoes_lr_teste = modelo_lr.transform(teste)"
      ],
      "metadata": {
        "id": "YdziogVkyxCm"
      },
      "execution_count": null,
      "outputs": []
    },
    {
      "cell_type": "code",
      "source": [
        "#Label = churn\n",
        "#rawPrediction = representa a previsão numérica obtida diretamente do ajuste dos dados (regressão linear)\n",
        "#probability = representação desses mesmos valores após terem passado por uma função de ativação sigmoide \n",
        "  #(que, por fim, determinaria o resultado da previsão: 0 ou 1).\n",
        "previsoes_lr_teste.show()"
      ],
      "metadata": {
        "colab": {
          "base_uri": "https://localhost:8080/"
        },
        "id": "XX-H7sCDyzG5",
        "outputId": "b4e12553-3f37-48b3-a8e6-4ba75dba9ef2"
      },
      "execution_count": null,
      "outputs": [
        {
          "output_type": "stream",
          "name": "stdout",
          "text": [
            "+--------------------+-----+--------------------+--------------------+----------+\n",
            "|            features|label|       rawPrediction|         probability|prediction|\n",
            "+--------------------+-----+--------------------+--------------------+----------+\n",
            "|(24,[0,1,2,3,4,5,...|    0|[3.02174179751551...|[0.95354674000282...|       0.0|\n",
            "|(24,[0,1,2,3,4,5,...|    0|[-0.0922192966076...|[0.47696150091605...|       1.0|\n",
            "|(24,[0,1,2,3,4,5,...|    1|[0.18744121711361...|[0.54672358463156...|       0.0|\n",
            "|(24,[0,1,2,3,4,5,...|    1|[0.91716501260103...|[0.71446410549163...|       0.0|\n",
            "|(24,[0,1,2,3,4,5,...|    0|[-0.1495904711610...|[0.46267196467801...|       1.0|\n",
            "|(24,[0,1,2,3,4,5,...|    0|[-0.1680594619286...|[0.45808374494006...|       1.0|\n",
            "|(24,[0,1,2,3,4,5,...|    0|[-1.4170949608173...|[0.19511740608882...|       1.0|\n",
            "|(24,[0,1,2,3,4,5,...|    0|[0.14194260698794...|[0.53542619200881...|       0.0|\n",
            "|(24,[0,1,2,3,4,5,...|    0|[0.67046644011599...|[0.66160759507905...|       0.0|\n",
            "|(24,[0,1,2,3,4,5,...|    0|[1.46841036244999...|[0.81281564870727...|       0.0|\n",
            "|(24,[0,1,2,3,4,5,...|    1|[-0.2187083605333...|[0.44553982138394...|       1.0|\n",
            "|(24,[0,1,2,3,4,5,...|    1|[-1.0342537570067...|[0.26226025614667...|       1.0|\n",
            "|(24,[0,1,2,3,4,5,...|    0|[5.50017227754075...|[0.99593056056380...|       0.0|\n",
            "|(24,[0,1,2,3,4,8,...|    0|[0.78512618330368...|[0.68678387079939...|       0.0|\n",
            "|(24,[0,1,2,3,4,8,...|    0|[0.84647423373263...|[0.69982700991647...|       0.0|\n",
            "|(24,[0,1,2,3,4,8,...|    0|[2.71891428132878...|[0.93813354968549...|       0.0|\n",
            "|(24,[0,1,2,3,5,6,...|    0|[4.47635640497720...|[0.98875314765919...|       0.0|\n",
            "|(24,[0,1,2,3,5,6,...|    0|[1.61650336401316...|[0.83431233628064...|       0.0|\n",
            "|(24,[0,1,2,3,5,6,...|    0|[3.44539231448552...|[0.96909343212403...|       0.0|\n",
            "|(24,[0,1,2,3,5,6,...|    0|[3.42849251731228...|[0.96858322780664...|       0.0|\n",
            "+--------------------+-----+--------------------+--------------------+----------+\n",
            "only showing top 20 rows\n",
            "\n"
          ]
        }
      ]
    },
    {
      "cell_type": "markdown",
      "source": [
        "## **2.4 Métricas**"
      ],
      "metadata": {
        "id": "vUS8ifrDy8n3"
      }
    },
    {
      "cell_type": "code",
      "source": [
        "resumo_lr_treino = modelo_lr.summary"
      ],
      "metadata": {
        "id": "sDj1Aa8izBWw"
      },
      "execution_count": null,
      "outputs": []
    },
    {
      "cell_type": "code",
      "source": [
        "resumo_lr_treino.accuracy"
      ],
      "metadata": {
        "colab": {
          "base_uri": "https://localhost:8080/"
        },
        "id": "tUpfVGJpzPTY",
        "outputId": "731e1478-7e83-4b96-b8de-e921f8e5d0cc"
      },
      "execution_count": null,
      "outputs": [
        {
          "output_type": "execute_result",
          "data": {
            "text/plain": [
              "0.7849014709963918"
            ]
          },
          "metadata": {},
          "execution_count": 41
        }
      ]
    },
    {
      "cell_type": "code",
      "source": [
        "print(\"Acurácia: %f\" % resumo_lr_treino.accuracy)\n",
        "print(\"Precisão: %f\" % resumo_lr_treino.precisionByLabel[1])\n",
        "print(\"Recall: %f\" % resumo_lr_treino.recallByLabel[1])\n",
        "print(\"F1: %f\" % resumo_lr_treino.fMeasureByLabel()[1])"
      ],
      "metadata": {
        "colab": {
          "base_uri": "https://localhost:8080/"
        },
        "id": "V7Jv6Jj6zbyt",
        "outputId": "33ef11d7-dca9-4228-ffde-612a1740425f"
      },
      "execution_count": null,
      "outputs": [
        {
          "output_type": "stream",
          "name": "stdout",
          "text": [
            "Acurácia: 0.784901\n",
            "Precisão: 0.770686\n",
            "Recall: 0.812517\n",
            "F1: 0.791049\n"
          ]
        }
      ]
    },
    {
      "cell_type": "code",
      "source": [
        "previsoes_lr_teste.select('label', 'prediction').where((f.col('label') == 1) & (f.col('prediction') == 1)).count()"
      ],
      "metadata": {
        "colab": {
          "base_uri": "https://localhost:8080/"
        },
        "id": "a4IpwosV0MgA",
        "outputId": "13ffb14f-ce92-432f-ff72-26804c146b68"
      },
      "execution_count": null,
      "outputs": [
        {
          "output_type": "execute_result",
          "data": {
            "text/plain": [
              "1256"
            ]
          },
          "metadata": {},
          "execution_count": 49
        }
      ]
    },
    {
      "cell_type": "code",
      "source": [
        "#criando matriz de confusão\n",
        "tp = previsoes_lr_teste.select('label', 'prediction').where((f.col('label') == 1) & (f.col('prediction') == 1)).count()\n",
        "tn = previsoes_lr_teste.select('label', 'prediction').where((f.col('label') == 0) & (f.col('prediction') == 0)).count()\n",
        "fp = previsoes_lr_teste.select('label', 'prediction').where((f.col('label') == 0) & (f.col('prediction') == 1)).count()\n",
        "fn = previsoes_lr_teste.select('label', 'prediction').where((f.col('label') == 1) & (f.col('prediction') == 0)).count()\n",
        "print(tp, tn,fp, fn)"
      ],
      "metadata": {
        "colab": {
          "base_uri": "https://localhost:8080/"
        },
        "id": "1LjaGNNE0_zW",
        "outputId": "dca42154-19f4-4bbd-b54c-a2fe48b52798"
      },
      "execution_count": null,
      "outputs": [
        {
          "output_type": "stream",
          "name": "stdout",
          "text": [
            "1256 1179 400 307\n"
          ]
        }
      ]
    },
    {
      "cell_type": "code",
      "source": [
        "def calcula_mostra_matriz_confusao(df_transform_modelo, normalize=False, percentage=True):\n",
        "  tp = df_transform_modelo.select('label', 'prediction').where((f.col('label') == 1) & (f.col('prediction') == 1)).count()\n",
        "  tn = df_transform_modelo.select('label', 'prediction').where((f.col('label') == 0) & (f.col('prediction') == 0)).count()\n",
        "  fp = df_transform_modelo.select('label', 'prediction').where((f.col('label') == 0) & (f.col('prediction') == 1)).count()\n",
        "  fn = df_transform_modelo.select('label', 'prediction').where((f.col('label') == 1) & (f.col('prediction') == 0)).count()\n",
        "\n",
        "  valorP = 1\n",
        "  valorN = 1\n",
        "\n",
        "  if normalize:\n",
        "    valorP = tp + fn\n",
        "    valorN = fp + tn\n",
        "\n",
        "  if percentage and normalize:\n",
        "    valorP = valorP / 100\n",
        "    valorN = valorN / 100\n",
        "\n",
        "  print(' '*20, 'Previsto')\n",
        "  print(' '*15, 'Churn', ' '*5 ,'Não-Churn')\n",
        "  print(' '*4, 'Churn', ' '*6, int(tp/valorP), ' '*7, int(fn/valorP))\n",
        "  print('Real')\n",
        "  print(' '*4, 'Não-Churn', ' '*2, int(fp/valorN), ' '*7, int(tn/valorN))"
      ],
      "metadata": {
        "id": "1_DLv3rA1K1v"
      },
      "execution_count": null,
      "outputs": []
    },
    {
      "cell_type": "code",
      "source": [
        "calcula_mostra_matriz_confusao(previsoes_lr_teste, normalize=False)"
      ],
      "metadata": {
        "colab": {
          "base_uri": "https://localhost:8080/"
        },
        "id": "a9cEO0ho1Pb8",
        "outputId": "6d285881-c94e-4139-f87f-99d7d4e7e7ed"
      },
      "execution_count": null,
      "outputs": [
        {
          "output_type": "stream",
          "name": "stdout",
          "text": [
            "                     Previsto\n",
            "                Churn       Não-Churn\n",
            "     Churn        1256         307\n",
            "Real\n",
            "     Não-Churn    400         1179\n"
          ]
        }
      ]
    },
    {
      "cell_type": "markdown",
      "source": [
        "Nesse caso temos 2435 (1256 + 1179) lojistas que o nosso modelo previu corretamente, e 22,5% o modelo errou"
      ],
      "metadata": {
        "id": "YbIY1cha1nob"
      }
    },
    {
      "cell_type": "markdown",
      "source": [
        "## **3.0 Avaliando o novo modelo**"
      ],
      "metadata": {
        "id": "trIKU9AL3c0-"
      }
    },
    {
      "cell_type": "markdown",
      "source": [
        "## **3.1 Árvore de decisão**\n",
        "\n",
        "Esse tipo de algoritmo trabalha recolhendo os dados que fornecemos para ajuste e analisando cada feature, buscando criar ramificações e calculando a pureza de cada grupo. O algoritmo repete esse processo enquanto seleciona outros valores para as features e mesmo outras features, buscando purificar o máximo possível cada grupo até criar grupos contendo somente uma classe por ramo, a qual ele chama de folha. Esse modelo realiza cálculos de ganho de informação, ou seja, calcula o quanto ele conseguiu purificar determinado ramo tomando a decisão de olhar para determinada feature e determinado valor. Se pensarmos na feature meses de contrato, o sistema pode separar os dados de 10 meses e tornar o nó mais puro, ganhando mais informação. O resultado final será uma Árvore de Decisão.\n",
        "\n",
        "![image.png](data:image/png;base64,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)\n",
        "\n",
        "Essas árvores são muito utilizadas para resolver problemas de classificação e trazem muitas vantagens, como por exemplo:\n",
        "\n",
        "- não serem sensíveis à escala dos nossos dados, evitando a necessidade de modificações;\n",
        "- são fáceis de explicar: podemos gerar essas árvores que facilitam o entendimento das decisões tomadas pelo algoritmo."
      ],
      "metadata": {
        "id": "l5MFlN-q3jJt"
      }
    },
    {
      "cell_type": "markdown",
      "source": [
        "**Critério de divisão dos nós**\n",
        "\n",
        "Para conseguir identificar qual o melhor momento em que um nó deve ser dividido em dois ou mais subnós, o algoritmo da árvore de decisão considera alguns critérios. Os dois principais critérios de divisão usados nas árvores de decisão são:\n",
        "\n",
        "**Índice Gini**\n",
        "\n",
        "Este índice informa o grau de heterogeneidade dos dados. O objetivo dele é medir a frequência de um elemento aleatório de um nó ser rotulado de maneira incorreta. Em outros termos, esse índice é capaz de medir a impureza de um nó e ele é determinado por meio do seguinte cálculo:\n",
        "\n",
        "![image.png](data:image/png;base64,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)\n",
        "\n",
        "Onde:\n",
        "- pi representa a frequência relativa das classes em cada um dos nós;\n",
        "- k é o número de classes."
      ],
      "metadata": {
        "id": "AvEeh7775zu6"
      }
    },
    {
      "cell_type": "markdown",
      "source": [
        "**Entropia**\n",
        "\n",
        "A ideia básica da entropia é medir a desordem dos dados de um nó por meio da variável classificadora. Assim como o índice de Gini, ela é utilizada para caracterizar a impureza dos dados e pode ser calculada por meio da seguinte fórmula:\n",
        "\n",
        "![image.png](data:image/png;base64,iVBORw0KGgoAAAANSUhEUgAAAeIAAAB9CAYAAAB+rmCBAAAAAXNSR0IArs4c6QAAAARnQU1BAACxjwv8YQUAAAAJcEhZcwAAEnQAABJ0Ad5mH3gAAFGxSURBVHhe7d0L3L/lfAfwG7MtKWFUhJrTSCVymGRkOW1KJmtsqjVCDKGTInKKEZrTVJsYZiOkbayiLZZmoZFDiBwmkmzJtMNvv/dVn8f3f/d7/v/n/+/51/95nuvzel2v+76vw/f6Xt/rur7f63Tf9w2uvPLKydDR0dGxSJhMrlIpN7jBDYb/+7//a1cOPAu/4Q1v2O7/93//d7jRjW7UnhMn6f/7v/97+IVf+IVV0nd0LEfc8OprR0dHx3oD4zo2yq6M8NjI5llYR8dKQDfEHR0d6wWMb4yq+8x0A2GZCY+NMawurKNjOaEb4o6OjkVFDGcMcXWWoi05Z4k6y9NjIw1J09Gx3NENcUdHx6KCYeWCGFkzXMvNWXKuhlacOMa5o2MloRvijo6ORUWWlP/nf/5n5kwXYnBds09cjXCe4zo6ljP6qemOjo5FxdiAXnLJJcOFF144fPOb3xwuv/zy5nfTm9502HrrrYdtttlmuNWtbtXixvgCYx4a/LmOjuWKbog7OjoWFYynmS2j+8UvfnE477zzhm984xvDD37wg+E///M/h4suuqgZ2oc97GHDHnvsMWy33XYtDb+gzoi7Ie5Y7uhL0x0dHYsOBvfTn/708PznP3846qijhgsuuGB40IMeNDzpSU8abnazmw3nnHNOM9A/+clPmpHNcnYQAzz27+hYjuiGuKOjY62R2SqY/doPzv7uFVdcMZx++unDc57znGZwn/3sZw8vfvGLhz333HO4//3vPzzlKU8Zttxyy+Zud7vbtYNdjG2d/XKh19Gx3NENcUdHx4JQjS/kmdHMnu7Pfvaz4dxzzx1OPfXU4Wtf+9rwqEc9anjwgx/c9oJvcpObDBtvvPGw/fbbD4ceeuiw++67D5ttttnckrT0jG+9ch0dyx3dEHd0dKwT6uyVMeW8I3z22WcPZ5xxRnt+whOeMNzpTncafvmXf7mlufGNbzxsscUWzQjf+973HjbaaKOWvhrcGGAuBrmjYzmjG+KOjo61RgxwhWd7w5///OeH7373u8NWW2017LLLLm1POOEc43ub29xmuMUtbtFeXYrRFcZ4j+l2dCx3dEPc0dFxrZFZ63e+853h4osvbgZ2xx13HDbddNNmXBNejWz8zHpjpCvy8Y9umDuWO7oh7ujoWCvEgLrWewe2vvrVrw4//OEPh1vf+tbDTjvtNDfjHaN+1rIa4dCcZZg7OpYruiHu6OhYEGIYc5o5hnRsPDmzYL8wrP7unaj+0pe+NPz0pz9tfpBrkPgQ2h0dyxndEHd0dKwTxsaS8b3tbW873PzmNx8uvfTS4bOf/WzbM86BKx/0OOuss4Y3vvGNw+c+97n2DvEYMcKcNP2wVsdKQDfEHR0dC0IM7izEeDohfc973rMdyPIu8WmnnTZ88pOfHM4888zhox/9aDtNff7557fl6yuvvPLq1D+fXUPymS+vjo7lhv6Jy46OjgUhs1MG1+w3S9Se6/Uzn/nMcOKJJw5vfetbh80337ydnr7sssuacX7EIx4x7Lfffu1DHl5pqgY36ePXT1B3rBR0Q9zR0bGosP9rGdpPHr7//e+3Q1xeV2KQN9lkk3aS2iGubmg7Oq5CN8QdHR2LCrNZp6ItPfvxg498MMD+uAQMsDjdCHd0XIVuiDs6OtYb6mGrGF6GuKOj4+foPaKjo2O9IkvQmQW7xjh3dHR0Q9zR0bGewNjWA12ZCfdXkjo6VkU3xB0dHYsKhpZjfOsnKuNv/7ijo+Pn6Ia4o6NjUVENb665F+aLW4nT0dHRDXFHR8cioxriLEFnX1gYl+eOjo5uiDs6OtYjYnhjnKEb4Y6OVdFfX+ro6Ggwg/Vt6MVCZsCQpWkHtuwR5yT1uuLGN75x+zJXfxWqYzmgG+KOjo4G34Debbfd2gc4KhhMBo9hjUGtvzdM+DjdfEAjBjRpGefQTB5jiJs899lnn+GAAw5o37YWXxjX0bEU0Q1xR0dHgz8i3ec+97n6acPGXnvtNRx88MHDDjvs0A1xx5JHN8QdHR3NmH3jG98YDj/88OH973//1b6rYttttx3uda97Db/4i7+4ymx4vvs1IbNiec+3XO171X4i4W9NFY973OOGQw45ZNh+++3bczfCHUsZ3RB3dHQ0Q2h/+IILLhie85znDOecc87VIT/H/vvvP/zxH//x8Gu/9mvtOcaP8Y0BBv4LMYw1zdgQ53ruuecO73jHO4a/+qu/Gi655JLmB49//OOHQw89tA0OgoXk2dGxIeJGRx555FFX33d0dKxQMIK/9Eu/1H7s7/6rX/3qKoYPzE4dknrgAx/Y3gWuYFT9ZSkf8FioIY4xli6QNv7+2mQfGE+f+MQnmh+YCT/gAQ8YfuVXfqU9i7/QfDs6NjT0I4cdHSscjJjlYdef/exnwx577NHcZpttdnWMq3DppZcOf/d3fzecfPLJzehK45qDVpasQ2chYFxjuKULanq0GeOddtpp2Gabba72vcofMovOtaNjKaIb4o6OFY4YPoaMYbzZzW427LnnnsPv/M7vNP+Kf/u3f2s//P/CF74w/OQnP5kzggxp0q+NQayDgPqcewaXgb/jHe/YTnQHMeLiiiNuaHR0LDV0Q9zR0TEHBo5Bsw/8mMc8Zthll12uDvk5LBEfd9xx7XCXGTHDW43v2hpiblZ6RjYzXUvQ97vf/Zp/R8dyQzfEHR0rHGMjyDDaL77vfe87POMZz7jGEjWcdNJJw8c//vHhBz/4QXtOuriFIPGSv2f3jG9g1gs3velN215xwEhXQx3X0bEU0Q1xR8cKRzV+2e/1fPOb37wdiHKKeuONN27hFYzxpz71qbn92iwpL9QgxmjLS1ofBHHl55oDYcJvcpObDLe+9a2bQQYzcU5c/IZWR8dSRDfEHR0rHNWIMaIMa4zqLW95y2G//fYbfvu3f7vt1Vb4AMh73/ve4ayzzmrPmb3OMojoxXgGDKw08nRFn1+ewT3H3yctfcADGOmkjUHu6Fiq6K8vdXSscDBmDBljGaMXA8iZhTrA5fUlrsIzg7jddtsNm2yySYsPrmjm2T0D7xn9MfjHjREjy/g6tPWQhzxk+M3f/M12X433fOk7OjZ0dEPc0dHRjB3HqI0NJQNtWZghveiii+b2hcFs9Pvf//6w6aabDne/+92v8a/h3MeYxtgHCzWc0qPtFSZG//a3v33bx5Y+s2dYKL2Ojg0J3RB3dHQ0A1YNcAwnMLaWhW93u9u1OP/0T/80ty8M//Ef/9Fmxve85z3bvrJZKnrVKOaeIU4+4zjzoaaFyqf7hC+EVkfHhohuiDs6Vjiq0WXsYvBi2HxNSxxL1Le4xS3aTPSf//mfW1jgW9Bmy34asfnmmzc/aeoM2BWtaogXgvCXPeHxIKEa446OpYhV16A6OjpWHBixOEaNwatGL8aUu8Md7tA+9OHVpjH+8R//cXjf+97XvlctLqCDZlxFNairQ/IWn8tz8ujoWOroM+KOjo45o1iNXRCjZzmaMTUz9k1qp6bHf0XyjWof3/DOr3hjWp5Xd2hrPkhnQCBNpRcDLxxqWEfHUkE3xB0dKxyMWAzZeKm3XrNsbWnazPinP/1pm/36a1Pgs5eXX355M8ZONWdmXQ1kDHr1WwjkjV4gPTr887y2NDs6NgT0pemOjhWOGOL5ZpWehTF6Maw+sLHPPvu094vH8JGP97znPcMXv/jFVQ51BfaJIfmtCeFN/mPwZ4i7Ee5Yyugz4hUGiotyzFeMYJaCu64RZYu39aVY0Q196Ir7KpCDNhBDW+UTGaVOEk9deW/Y5y+vuOKK9hOIim9/+9vDf/3Xfw277rprM7yhI13aW/zWBHknnTTj+svgoGN+kJ8+b8VDH0g/iEw7rl+sUQOrQE6lXXnllXP36QyeU6mJywU1bkXoBHkOnaowZ8Wr93Hxqy4QHr/Erah0Em9crnEcqNc4mC9e7QQQfx2EC0IrDkKPQ6P6BTUcvXE+FObznve89kN1/5X1w/WkmQ/C0AkttGflATXeGKEzpofGl770peEv//Ivh0MOOaT9fP5HP/pRCxOXg3FeQWhVmhVJf/bZZw8vfvGLh6c97WnDqaee2pZQK/0KfvPR8qvAWWmWC2Jsq4KOH5kovzD1rx09+tGPHu585ztfHfMqMMKnnHLK8Dd/8zftv8ahFbmtjfKXbzW2lb+1obM+MW4PaT+1DcUv97kmHjfLP35Qw6v/6oCG/fyHPvShrb780IP7rd/6reHcc89tA6ma15iu5zEvufLTDlyDWfGg0qjxg/jXtLE58uDWB5JPpV/5HPNaeUmY67Xh7wZTBn4uqRl4zWteM5xzzjlzDM1q+BhOx3CfDuJ9wkc96lHDXnvtNTfSTph4FGtdpuIArdyLKx0/19DPc+LEQWjlOfFgVtzQzzOEvnjJF5SDwIVzSe/qudKt95y0iT/mIfFDM/5Q4wXuwwskTtLPSuv+9NNPH5773Oe2ZcOtttpqeNGLXjQ86UlPmouHnnt0IGWrdKCW3T3nHsTlxuWs4WCE7rDPhz70oeG0005r/7vdcssth3vd617D/vvv377mBMkzV/jxj388nHfeecP5558/fPnLX27KnoEAy6YOE3Hefb3LXe7SPgRhP9P/dMnARynk47+7TgD7YMWscs7ivZYr4SsFqfNa7m9961vDBz/4weGII45oBrjCPvErXvGK4Td+4zfm6hOWk+zIJG2nlmns774ifuRZ+xP/9D9IvKSvYQuBdD66ou0bgP7DP/xDM77a/Lvf/e5hxx13XOVb4vKD2ubphToYQjP+EP9ajjwLC++Q55Q7aYF/HAir6de27GtC6IYXiH6vfEGexeXyXHkap1ko1rg07ZWEj3zkI2028ZWvfKUpPV/R2WKLLZoR5Rze4DB08cUXDx/96EfbDMcJSiMwv1JLgccYF4KLXwolLb9xZSR+jUdBy5+y/d73vteU8CxIIz6BuoYGeOY0vMAz1LwTL89x9bmiljXpAmHi8680ch3Hh+rvfj4nDsfw/cu//Mvw53/+5+353ve+dxslU5ahU+kFY1oJcx++E5bwGpdLfPBMEWgjZuS+V2wGrK7wQ2nf6la3mikvit4/cT/wgQ80ZwnUoSFxfXlJGf/93/+9DR4//elPt3vfS2aILaUyBtoq4yH8O9/5TqMtP2HJp17xq51AyhN/bqUidW/gQ8Y+7EFHGGAH6pViM+gzMFJHUWLLRXbaQtrDGPwSHqTss9LV58SbD6sLqxCPofXlM8hpd6fa/XeaLs9HWCA8VJ6rIa58V36DcRyQ3n3CtB1XqOkTHlTjn/TrC/JNPw9/NU/XWX7VrSvWaIi9hkBpUuAZ/fzJn/zJcNhhh7XZhH+WPvaxj21Xs18KT0UbgTHCj3zkI9sn6RSAUCPkdOJaAFf+uR8j4VVIie+ZEA0UjjrqqOH4449vpzl/93d/d5U4Na/wEr8aTpmkEVQHuRefTLIHNnaVfuUB+IHnhGVQkGcQL4orz7kH9+Jz1T/5BMLMGL/2ta8Nn/3sZ5viVGf+8eojDYkTGkkfuvHPfVWmlV/phMUv6YKkZYQd6Dn22GObEviDP/iD4Y/+6I/aniKjSGGTLXqhkXR/8Rd/MbztbW9rRtg3h5/whCe09N5vZch9/vBf//Vf2zK8mbKPTNzjHvdohpYxcO8rUNromWee2WbKFJWBQO348sZDLUvkEb4SdyVAmVO/5BQ/Mthoo42aojf45iqsvvjiFvlqa9JEjssBkUHaSeQE/HMPNV7tQ+kzVS4Jy32u4gbxXxNCy3aM31caoDLEdMDYEFe+ql/6hvLUOBWRRQ1L/CqfcRyYdV/9YPx8bYEeh78MILNKmzLOQq2rxeDpKsmsBr6Sw7iqrDybWQS1Q+a1BsoR7na3uzWlKCyVEKaj4BSWg1ogaSAFrc+QtKnUCIXytexIsRqFB8kDv2lQ0iQdP8o/fjGuQY0PKZM0YI8heUDKpZzxlyYOpEeXq37SxAhBzTvx8xw/ceUT+okHiaPj2SYwo7Ske/DBBw93vetdW1hkkjRQ7yHh8qlyTPlqfDzUsgf8DZDsHTLCBgfHHHNMW4q2zxj+OXxLb5YLnhngE044od1bCrXM/uu//utN0Wt/2qe9rwc/+MHtIJHVG0ZXWPgzg+NnQPm4xz2uzeLw4C9CZtxoc8o3HmQFKftKQtpX2jykrepv+rv9d/Uxxsknnzy8//3vbzRq+uUAbSVtobYVslJebSVtij8/rsaNTGrb5x+Elmv1XyikY2iSH+Re3sLVI3jmz4/DC0MNeAB+0Xmh5z58c7UM+pHnOGkh4fKpV7T0++S3vlDLiMfUA76qHGo5xwiNa4PVGmIVp3Ls3RlBgVkuBRemKC5MeMYsJbf99ts3xWf2kb23jDbEU2iNs1bcLNQCisON/fLMUeo6vBmOfB1IQD9xcx9UOsoZGmkk+OMSD2qF8A/NjKKimKDmqfwpbxyEVvUjm3TeMeSJTvKpvEGeEx76rsJcI/vwN86n+uF7nIcwadHgwlPC0IeUQXicdG9/+9tbPZkd+detPVoGM0hcIFdKQJ3YbrBF4t4Az0qMbyBX+iBfsy8DMYMPbRaN8BoeGW8zaSs52jdevv71r7c2kLhVblyQ8JUEcuOCKPa0fTLZeeed2+Cm/sQfrF4wxB/+8IfnFDi3HKAdKEvtK+RSZZX2U+O6eo5f2pdnfbfKJ/GgxlsopGFYtPv0T+ljbFK34RHcJy9wj6fwqk8ljSu6NX7oCGNUo684bcY1ftLVMktTZ+lJtz4g37TJ5Bc+PHP4yXP4Tpx6v65YVQOPIFOG1vJejBMFR2mGOQJ1D66MtNO4r3/961uHvM1tbtMqKBWO4THTEfAsYYs7Dq9+aFo6t/zlR+X5Bq5lSMo6vOHVfdLXBhDwrw018cE1Ap81UktFhWblMUgcED7LyHnODDCoeSd+ygPx9xya7hMO/Dhx40JLvBoef/eVBtSwxA0vnoGfMoRugDeDJAbVLNRAzdIYgxiZgzRc6KMjbfZ0wew5S9iQNHHOJdiieOELX7jKCg4kjjytCNiT3nrrrduPC8zUXcN7yjTGrLpb7iATLlDvtU27NzO2ImaQVOOCE7pvfvOb2/YRvTIOX6pIe4osarvgl3YMkaG2l/j6diAs/tLV/sw/6WseC0WlDZ7HeiV5Af+EhQ/pQ6OmDyqt0Em6+gzjfDyLJ9xz5U1Y4i8W0A1teiTlCi9jPsey4u856Wo9ri1We2paJg61HH300c3Iwate9aq2F2e2gaEILgUK0youz2EULrzwwrZ8/I1vfKM1RnuUDgtRltKYjdgHpKgdKGDoGXPLXWZQoRUh2O+0f62T+5AAgwxmxGY6dVbsBK0lSUoXHPKhdC3VUvD2TfHzq7/6q3MjNvuI9lXNlNyDQ072wxgCfKTs+GGA7MOgJ53DawYKKtrszKlgPClTHY0COuIq++c///l28Ex8pxot+YuLvoERZcaoGSCRC5pmfmRaO7llYIMT8vbVI3kYaTJAO+20UzOCgTAuaTUstNSD9Pb+vvvd787RkFY7wCN+wPKk+lSXkSGgiRezYW1I2ezfWx6mvKsM6hWEOQh00EEHtYNd2ohB3jvf+c4mExA/afhx9dn9OK6yKaP2Y8n7He94R5Mz/rQd/KtT8ZI2UD58he+VgMgzqPLMPbloo2T6p3/6p+1A3RjPfOYzh6c85Slt1ky2Sx3aSNqTezDQ0FfoJ1f6zUqh8wlR+vqVPkzfOdQmjv5jsuPLZGhqn2Mj4d6VzMftcnVAi5608uMwo20c/ZEeoJtSv2jKQ3w6Ep/p+/ownaOs6f/6O11oFbTSgDy7KqOVEXqRPhGHf8qinAE/q110H5mNB9OLAXnHRb6XXXZZ02XOOdEz2qh6o+NA2ZWBjmY7tHUTCvaAXbEivC5Y7WEtDGpIZjA5gKEDmY1QxMIhDUrjMyOG2ijTcFSk4/NvfOMb28ndv//7v2/+md2g45CNwzjieCVCHIKhIMXRYFKB4IS0118++clPtsoNCCj0OLMpRo6RJTDhXn9xYOh1r3tdUxgf+9jH2l444SsfY6rsFP5b3vKW4W//9m/bswbMkKWzxKFp4OI3cV4RwJtT53gzSLCsyuiDtBlYpDwMJTkzCIyB9zDxLh7jL54yOsXOcOBJHp/4xCdaA9Eg8JZGhaZtBSeTlcEV/9Jo5DvssEMbfIiX+PLgQHnUmTKQsfpQrs985jOtXZCfTuWvO/ix74wHA4LwACmfvfuXvvSlTfFo3L/3e7/XypV8w4e07qtslE/bkQcFIcxecIx4eA6t1T1zIB2nrhl6r3cYIOhUFGI6f9JC7l2lXUmI7OIi1yqfgB6gpLV7bbCCkSZjA2P9eakjbaHKRj+2FG+g+dd//det32hn2pUyM2j6FUNowKLt0S+Mlf5uNU/8MdBOe58l9/kgXXQw/eHKaDg1rc8yoonHoU0fmdjgS1nweMYZZ7QDjg58OVPhzRR6nz5R5wavEN7QYgsYL3qQnvXKFN1mgoBWXikkozg6jX6hJ+lafXFtyrsQhB65uKcD2AlnUF796lc3PZltTvUmHt2F9z/7sz9rNgyvdLRBhMkVG7VOmCq4yXxuOiKYTBvJZDrbormam85mJ9NR0mQq/HadjiAm73rXuybTUdzkwAMPbH7cmM60gU0OO+ywybRQc7Tijj/++Ebnwx/+8GTaKK4Rzk1nqpNphbV8K+2pcW1u2mAmBxxwQIs7beiT6QBjLq7rdJba4oWf6YxzMlXk18jnoQ996OTkk0+eTA3M5IgjjphMG9g14uB3aqQbncrPtPNNDj300Ll4hxxyyGTamCZT5T6ZjrAmL3rRixq9jTbaqMlq2ojn+OOmSmuy//77r5IXNzWuk+kseDKdXU8OPvjgybRRXiPOtCFMHv/4x0+ms/a5Oqj1MB1wTKZGr8WddozJa1/72snUqLcw8cjfVZnC03TEN5kOvCbTTtp4eNazntXKM22wrazPf/7zJ5tuuukcDw972MNaHSbP0EZrqown00Y7F3c6G25tKfHkm7xd1Vdk61n7mXaOufYz7fSTo446qslEuHxSv7lP+tDw7Jp7/q7i421q1BvtxzzmMZOpslpFHilH6C3Eib/YLvxcH07+5FDlG3nWePHTZqeDyslUOc3Ve9x0sNb0Rk23lJ3yRj7aur4/LvN2223XdAd9MB0UT6YG5hpxuEc96lGTqXKfTI31nKwjb9fIl5vFy3xO2qnxnNznPvdp+ehL2j1+haOXds5NjeTksY997BxfdNN0kjR53/veNzn66KMn0wnNKjxPZ9kt/Zgvz4cffvhkOslpcaezy8lb3/rWyXRgPznxxBMne+211xwdbuedd2569GUve9lkOgiYTAcNM+kupiMb/DzykY9chRdu1113beFswnTgMpkONq4Rhz563vOeN5P2QtwNM1JyNdPgPINRgpGMmSVYgqgjJ+GWosxUjIiMgDNaQye0Lc/mKzv2BM12LU8FZlSWvo0MLcu4ivvkJz/56hhX7S8ZWddZCPqB0Yw4YIZt1is8zqhM2mmh29KuEc+0sbVTt/Iz4gH8WnJQJrPlqbFpIzjxsuxgtGoPGlJWI2Cz2OOOO64t2ZjV+1CGuGSGn3333Xe4//3v35Z7jIazIoAvIy2/kDMSxNu0obbXboCMjU59FcqIzUzSKNvBF6eg8SWO0aXVA0vjgLfIyOwjy9DqyqzVbFK4/OvoG09m7j7EoBxeP3NCeWqIWzmUx8zbkpZZdaB9GD2m/UDag/rJtgEYPVruCX/gXlrxM7Lm51meTkJbGQFLSGYbPkhiGT/xQJ7qO+Xnpp14Lg4njufENwvJaV8y1CbDO+SasiVtkGdXzihZW+assKyNq+lczQhytU1U5Xhdgjzi0p8iz4r4aV/TwVlro3ULBGxP6WPaM3lFX1RH1pz7tUXVY8GY/tq4AM3wOoYyTxX2MB3ktlUj+kufzlsk0tA9+v1LXvKStuzqNUszwle+8pUtDmjP/PRJMk45Inf5zMp/dRA/9TULoSdcfpau9S8zYXVnlvjsZz+71aczQE984hPbilz0phmtco9h5m+lkRzMnq2EOT/ka2wO9tkCQpd+DZxBovt+//d/f+4g55h3+m5cv2Mo01hOea5h6lN/pVPpWSukykaXgZVB+p3+s2Lhy4TkwmY5XwL0EZnZwqxtGXINxs9wQ4WLC3KPIKVkSZFitFbvKpxg+FuyVAmWDixxJJPQcGUYKI+HPOQh7d3jhz/84U25BxoeQ0S5qxAfkheXs3QJhM6IqoBaEHxwBBhDTFkzgPxB/PAjvc6igXjn1KlZCpiBAUs2OoHOoiFYutGRfOCekdU4NT5ySKdE23IyWchTGXfbbbfGg/cr+bkyPtKSlSVsla9MaHjGp/wMVvAmPiibgYwB0YMe9KDGi/dtHUgSl4IGAxVL12jKE19o4lND4Q/yJyM8BeJy4trHt3ylYWqEOov81C/lIJ4rOvW0M0OcvZRAXNCALTWBdMomf/nVNpP49R4oIK/RTWf9zSiBdmW53atHTmHbw0evYhbtMcRh6PEPOp3BWGTnmvRcaFaEdtIYeDDmnMHs2riazhUvuapf7ff6QpXDfFB+bVobpMTt5+vLYyiT/iZ+6FX6ceuC2v7H9TWmP5+racftoCL+4tjaYHD0c+/FMzbZ4zTwt7dom4g8GDPfWRCHzmOYgUwMVABdy56hD+Erz4sJ+dCR733ve9vAHuhHBlj/sJVlCVo/ZyzVLb1toGsbwvIz3Roe6R0DLgYKGGLGy8CX7nA1KaBjs0csLhmgK04dlKce1C/kGZJnjeeaey5GchxfvTC89O/uu+/eBhvKCbYoLUHThcq79957tzKoQ4cSLZ+DerdVFxvFyU8698G4/UArTQJc04AxbybLQED2C62Lm0EySpyZGwYIrSrhmpk9EY2R0dPYzOAwGBCCfDVGBgwdaay3m2UDPyPsKviAYsJraOYAEaRMIJ17BuARj3hEczoMo5K0UcKMjpmn2bXZL2On4zz96U+f2xtGO52LoSQHjZUh1sDq4QMQH2/oaaD2H1IWDVyHdIDJ7BWfygryMPs1+2QUXXVsM1v3eAV1RHnH4ELqQT0y1MCg4W8868y90bzOw/A/4AEPaAYfTwmvqM/40HjR4l/DdE7lBfGUN/Gg5l/TuScH4dqEOrOykJk4A09pOI1r4KD+yAEq7SizWRCPITZwAunVpZWLCunHfI4diGOgYdCwrk47MJMc++erY0sB5KHu9HnKTVuq0P7SR6J3Amkj7+q/OtQ6CMZ+C6UFiZtr6NTn+LnyVx6DZecXGB26RX8UTkfpA/Sfj9Do7+mH9JX4Wd2i/EMXKt/RC9VvsYBXs3Z7wAaT9BWjxEhlNs6pr6x4ZADLPjBY0uGR04dMtPQpOiv6r8ouk5ToehM8rxPWsqes1c99ZJFrpRvUeEnHhSbQScrCBulf6iBpDPCd7xGmXtkCZafrtGl1COxQBpYVlZ/kPUZbmp4VSHBmsYQayMR03NIyY2zZ0igIKGrGOB0KPQxx/CkVywxGyIwQWoG8VKZZF0RAGoXZIDjcQXmnMUD4JigKOFCpGk7Cq8A1eobUbDfLKgxdRmwMMkH7MEG+OINGoDwZ8aDLwFhGZ4zBzNo3jGuagB96UT46JnkpkzRWCuTNT0c0ugbh5GDUSA7CQ19ZGKggM9+E45Ezy5WfBsSI4aPKxb008nGYJq+BGQFaImWohIcukFuMFVmpH3QhcTm0xTVIADzrlAkLH4mf+7QfzrNy48WAzs8hyAxf4OBIDsZQJNJU1HZTET90KILUDTly8oSa1n3lqzphnFm7mY+VEteFOH2Lcy+dgzzj52x3bMiIDMiDjBgXRscqT4W6zFZDRdKtC6SF1E140Sf0UUvhlOpCHN1mubFe9Qthnt1b5WE4QFuhlA2YGGOg27JdRFfoLw680j3kgkc6R/vMZAO0PXynHJC2mHLleTGRiYXJCODJQEp+EF6Sv7c16HcwK6Y7lFG8xM0KjokDF/9aNvToBKBD6OmEBTWue3ILjbQX9xzexAvfATlDDXO17cXpW/S78ke3CZfOTDgTPODHgGdlET/qOLwAPuqEJ26MG0qssUgc5kTkb+lIxYDlA6Mdy78MNGfdP2vkRhHZB0IDAxFGGMtVwzWFDyzPGI1kxgvSMbCZRZlRyyP8gbjuzYrScFQi4WQPN5UF0oI0eANhBhsx5PIx6qknf8VPGvRjlNA2a7TPo6PrWBSwyhJ3lvK3BJ8997qsm/gc2mQfQ4yuPVqDFfmLg2/5q+TwCcpd/VJ2o1JyN0BRxuSDv8R1tTfs6D7I1wzUyE9eFeiil5G7vW+GmD+HVvIGnTGGWDvR6cTBB+AF+KWO5Rn+MrgQX8c3OvW3Jvtw8gWzWPvolKQOEVrhQ/rwl/xCn1yVM/xIr/2JJ04FP30m8Fz5jltbSB8agCaE/zEfGzLwSpYGNsqj/nJ2AcyytK1sqwSpn3WBPMlMfpFlYDXIeQ8zGEZybZwVIVe6jrJ25efeUqZtkTHwwSl3tmQobINHad2PZaQNpu4zwITQgqTJ82LDQBy/+Ab9NP0r/SY8An2TLTSgExgyPOJVH47uyGAEhGfWmXqKvmMH6EZxQH5pE8qd/KPnwitIk3ToVn4917YVf9fExSu+TBQNLMAK4oEHHtjqLHLX/9lGdRf+XVOXHDrRYZ5rGcZoe8QCuCTgZMToZrTHuJkxGNEkvkowIpKO8aFgpQ1yn4yTzszMKBEYV3sNaIeXMG15IgbWTFB+KYw4BB56DBwwhOIJn69s4JlT+Yxe4D1i+9IEmNlRTQ+u/MiIfDK7Z7w5EI4GfsV35Sh3jRHvFH/lKRDPQIdhAXs05JyRV8qFBuNm9AzqRqPRodEQz1V4jKAGTkbS4q/yKD6DnbhG7WQpX/GTrwYqnXgZUHk/uw4sQFx0xWWI07DTeOULkU8FP/HQEDdp+CfMoMIBisMPP7wNLgKvFqQ9QOiP8whSrtCGpAkiJxA/8ui4Jsgp8uLMLGwfOPAD2qcVKf0+codc+XHSxm8poPKq/Ab49vQzAGGELdFD2o4rJ61JhzQMjP4ehC6DY4vJypg+7DDlYgPf9IVrnjPorO0dT+qHsdHv6TJgxJVBuPjCTLLUuXZgth1jrZzi0MEmQtHDJhyxK/KA6IHQhdwLC9LmhMmjxgXP1UHVbe4ZWKsd5GBAZJJBF9I5yTODAOVJ/VqZtMojHriiZ4XOuR7t3YQqk8uKVQ5rVWZVuqUYwiNMI9eM0iIcxte+6Zve9KZmLGSasFwrbVdgYGOIjYwtB6goSDoNTiMOvP+Lj1n0GLcoXvHSKILEA/e14jSKKhiCtLxc84lL4wRhRo+ZEQIjKK14XPJNehWcPXcGzv4zf2XmEg9/BkEGGGRs5G2Qw184hDZZZpSp4i31mckmXCdSvhjr1CVaiQPu8WwAYGChPsRDU1h1/HQanUca9W5/q9aP8tQ0VXbuU15InDyP/Tn8pm2AZ+W0JWJ2bO88y3oODxrERK5Ji+5YfgH/KBxIuGvlFdxHLuAa2u7j1hVJm/LmufKwIaOW39XWjYOM2ebyv2kz06ygqR8Yl29ty506COq9tvnUpz517sDl2jpvMngrIo6fq/fi6TBtmtMuwgcFbWCbJU6DdMu8aZcQHqWlG+hdA0x6DNJPxUOH3nTIU79naBYTeNIH0K2yq/dj4I+uoAMC8dMG6Dkrnpmg2Bqwgkh/yIuMLPWfdNJVH4wiP1uYDF/6Xa7oSSOtd5udbH7BC14w7Lfffm3LxuqY0+cOmtLr4QGPHBpjB6EPriYNbB854MPkLCt4laa4tR4Y4mo7OPVqxZZO0hb0gawwVDRDDJWxJM5yraWH8RKSuJgjtD/8wz+c27CvqDQDox8zqYwiNMzKWPhhPGKIGRczZzO+FBDQJgQjDg7wmc1z4eKGh1RI9VNhMeIMuJk/gdZ8gpoOCDWGFXQgLkh6aXQws3vGFZTHyfHagEGjICN7uiCePd2q+NELH/JXV2AgoK50jMSRrxOYkXf2z9GKLCD07JWLm0YV/mqe0mioPq4B5Kb+GcYK8eLwHygjJO+gPuMtSN6VB+F486x9aEdpo/xytqDyEIzzBWlqh4TE41dpeA5/1b+G66DOUdSDjWtyic85h2GA65ozGZ699qbNbsiITKyAMBxOtjsACE6amg0bfKdNVFlC6iDPa4ukcw2tbLPYnzUQWIjziiWX+/hbhcmzA52UdSDPOAo9fYSu1J9ywhbCG+NCl2QlSh+tNAM0DTbJ7xnPeEbbd18fkE+Qsugb8cc359k1gxCgC0zYEpfOtlpFTnSEfuGsgzadNs8w+wiSSYdDipb+85Oh5B/QdekXDC6ZsQEmOQYoXjV1cNMKDPmHz9CotMK7a0BfyiMrferM7DxxXOPkS09H1yifbbPkl7ysKHq7xXkb56BinyrmtF1lRgEYjShvipuSHyvQKC7PmGc8ufiF4TwDunUp2AwUYzqjeK7ioiOezmpKX2d5lT5eY4jAko3GkDiJB/U5ZTGbzteusg9d41clER4TbiZaD53JN2VJORLXaJbxikwZfLPILHGICxqUys0s10g+pwkr0NWIdHQ86OiZOZOZ8nHo2fOVr0aig6cckHw9889AQWcyQGLsahx5kpnzAmbPQKmKWwcAaFWgF8WbdhM+OHmMHQir1zHSkZRbRx4jfLiOaeca1GflzgoQJCz8cqFVXcIM7nyS0+t4a+uk8xlC7yvmOWEOSGa7ZkMGJaWdOGSWg3+2fLx1oM9nUD2rDUD8IH5rQk2fey500gYWisoDhF5Q25b2UtuYewo6hzj1EXoUPWFJ6zlLttmKovwNvoVFT4HBMRl6D/dlL3vZzFfCrg3wpF7MYjMAZ5gMFCIHZXPPuVfPJg7RV2a+dUAujmcH9SzN06/y0S6sMrzhDW9os2TGTtvQ5ul7uiJydOWAfvK+shkmeRqQmE17m8eKh3hePbViwejjv8oxNIE//REdx2XVUrlAHgYFSR9anPo1mzcwZoStCquj0Ae06XoDh3e9613tTAEaY7QUYS6FprSzdAwYYYhrnDhEOYrZ0oBlAkwKSwHDOMdoRNkD48eAJTxgiBkkBbNGbyQob3lpGOh6RqvOEDIiWx2S1tWISl5gmVMj5A8RmOf4VRmo5DRAwGvSRy5JR6YUUuJTRva9QbnFdRVPp9QgQHkMLtDRaBJXQ3Hoy7t+DqKYFRrxZ98ligEd+zZmJxoLWujMQmjnvuaHJnoGPl5m9/k35ddhzERjhIMxLZ3RUjzouBmQoBsZiV9pVChPygSJx8+9a/bQAV/iCktZZqGGpfMDuec0KNqwOjrhJ+UJn4sNdMPjhgz16wQtZUthGST5iIM9Um1FH077irLkIjvX+WS9EIR2rQvPyWchTlrOfXhyj7Yr8Mt1nI/tIB/oAcpYe0qcSoP+Ou2001pfZQgNlvVnfTbxwT3ZQfJYbNBhBgExpvqqlcn0Mw4f6RP0jQFE6grf4TEywavBg1VLbztoFz6WZKXEQTdl5/yWdWzIpU1dQsrs/V37rlZk8WIiwv7kzRuTMyu6ZIqH8AFo5B7/4Jm/lYmsBIOJlbrLJAId5VI3DL1vTgAdaJA0qx2kjbhXFm1/jLnDWpCECmGUEpjtYCbCBnHzrMFZszeSyIyrInlw4sQQO+CTk2hcKhfEU1jhFLgwfpYjckpR/vit0JBijBSY4XeYx3uxGlXiC/ecE8xAkFG+wrmKPKPBMbpGukHKIYx8OFAOxt4oEOwppcGEVmQvrlEWgy0/cndFN/RAg/HtZ7MjAw97bholoAPSaYjogQZu5siforTHxai6D+/CgMElbwiPeLJ3benH4CynGzVCaYXrXK95zWva3nkUrDD1ktOVOiT+haXcKVvyB7N9HddylXzNHNLmEg9tbUMZMiCzpyOvSl+clC9+4MpPeisHeAbl4iBxklfoVOQ58bQl72JeW2egFefZnlg9yHNdIvKseoBfZAnCydLXlMzagrwHnXrWRyNLinssU/fCx3JeKEK7Inmsiwvcj2lHJpGDOGRQt+AM8s2uUn4QT3836fE9BmBgfEtBHtFj2uVhhx3WdKu+xlB6YyWD9TUh9QZ1dltl7srREbbM8Ap0QLUFiQfo6JeZyRu8Gmhl71+4vn7iiSe2b1TTZVnd9FU+20kmYtFxdXDGSY/HyqeJhO0ZX5jLR6FSH5wBX/otfxOW0Eq50Ur8PCecDlEm0C7N4IWjgVbafowwncRm0OcmVuKIj472b2Ch3lwtxZtcJt+K5oOBKE0ww4rwjdAIKrPMMCwzBSU8ywTW5xlNghUWuOeSztq7ytXILM3W2atwBTYiyZ5vaGVvwcGPfJhCWCotsFxqYMD5yovDFJaENdo6mgR8xNiAzqISw0cQ3gNhnlVSDiEA46PzCUu5gUHxqo1KlMbrUYwFiJOG5F49ZAYbPvi7z6iMkSQjp4MNJCz72IOohkO6uCyzkIFBln1gSzc6uDB1kXwsiwGjqg3YHtDYjIoNgByQkJ82gW9p8M6wWnqxNyMuXvAbXhjtzIgpHnKPnJI3uCcncrAyoO44+9wZSUrHBQZ22p8OpCzeWU85AG0u6ZJX5OKZbLJHh3fbAWhBzQuSfnUwQjc4urbOclecZ4d4cijtukbkqL7JhPzUF7jm3utj3ufO16HUhzafNyPGmE+eC5HzfLg2aVcHdMe0PUe5pi3TP1W3kJcwV+07/d0BHj9CYLDpEgebctYhoDMMvhgZipzTXpPn2iB1BPKPYQn0aQbVsrc2rF/Tozl0lnJIZ6XDgCBnbOh+eo3NEA99eoR90LfQotfwjbZ+ZoCebYroN2mBX+iAe3HlYXUPDUiZ6EWDAvkIsx8f2nEBWqGd/EC9KSugmzpLXBDH5OYdV0+sLDfbr8+qrXhsocE4mdC39DVayjur3q7ho0FoQNnbYM3N+lKQMKMTxmCfdNJJLb5RlBFLBFMLyA/tHAbCtBENQ5yCgqvKipJkkFW2v/uoUA0AT4AXyjIGFsQ1ujRrY6h8kYrBV3EqBUKbwaj71Rp8ljcr7+Gv8ggqWwfJTJQhcOhARYGGwagyYEZPGrjZnUauU6EzlivZRIGBulCJeCYXDc1yF8OOtpGlQwB4QGNcyZ5jUMzKzYAZUwaTYmQcUwfqKMoe1K24DkdwysFAOixiq0Kn1QbM1Ix60cSnBqiTxVCD1YP6WVMrFZn1VwfhRQdXP0aXlsI9W8WQh3ZAVpQSRWZfiD9ZeL1DXUKlC2hH7pArXrLnrU4jg8R1rRg/r1REfuqL/A20rY6pL9DGzIStfmXmu9xkRwaRQ6DNapuBvsfRCcpPR1iiNbEww6OfHHrVj/Wd2u6sPumXzoCAvsfIpF8vBKFFnzKooL4MzPUlYRyga2ZOTzGOztA4UGVrjS5iVE0urH5ZlUOTjjXgotcyAOfSLsAf2wzW6WZ7pnSK+1w5h62s/mSgDqEVV1Gf8Ul3mnHbBjFZiCEOKo16Lw7dZlCvjIBvNiIDdBMB91Zl6VG6ia4xCcokI3Jm38gPH4G+kDNEY9zoiCOOOEpiStNIgnKn1MwwQAYaiThmpXEYpKgpX5UBFLB/FTM46XApqEIRLgNi5oghDc/MRQdFnwPGUKUbmWgkZm6MnMr2aTiFT4E5xp1xElce7lUmo2X0ZO+BclVG8cVzb1+CcdcYGXd7DpYZwvNYaYRHjQvQUNGWQfPaj1GihsxoMhynnHJKW5ZBx8nB/fbbrw1WqpEKXWkMaDT6AH1xyUg5ycHggmFXJku3lkWyHBRacfghSzJ3rwOpY2mdICVT/CqrOiJ7MiR75VTH+DfLUU4nRR26cBAHrxqutkCZUA6MtA7JuFc+dE55mClp8FYf5E3JCA9qGuXEByOJf3IgI+1U3ZpZU2YUAtlrF0ceeWQzonWlpTb8Wrfxx498rBKAL5yZ9eMNanp8oRE6lffljtoXoMpQn6Lg7f1x2oXRv8M33iM1SCcrbQqd1PFykV/aBHkoE6NjQJKDdWaw+jKZ0Df0qwGkgTv//fffv+kHhixAi7zQY7gZGv3M1pbla31oIZBe3dBHXiOjDzwzLPo0Z1JBD6RO6GV91mCX8aF3DLoZXf3dl+wM0pXFDB7v9HmdFJFH+isdzm6QC0MWx9bEeaaT0ceD8uEr+ja8RcbaXOSDN5M1p/OdKfK+rvR0RuqGC6QB6cUBMs4vbIO6shc7wwgz+PKxVWSJHZ9oJg/3aNO3ZG57l26Mwb4GpiO09surqTKaTBvG5BGPeARK6+Se9rSnzf2qql65aYVOTj311MnU4LW4d7rTnSbThjX3+z0uabhpxUymCrHFnRqH9ju+aQOa+x3YVDnPpZkq0clLXvKSydQYzfEyHUFOjjvuuBZHXPlL6zl8+Y3fdPTUfgs4bUTtN1fJP05eXOUtz1zup0Zj8qQnPekav3mcNtLJM57xjMnU4Le8Kz2ulns6wppMR4Vzaaej4/aLsGlHmfPD74Me9KDJK17xisl0hN1+SYhGyhUX+j/84Q8n04bT5C39tMFMnv70p7e05JK8XcmIn9+B7b777nN5TkdyTVaf+tSnGu/iTUf77beIZCeO36BNBwctv+SNbsrqftqh59rXtttu236FlrDEjYw8+wWaet17772bHKeNe46nuB122GHyzGc+s/26cjqAaLxVmYaXykd14k87/uTYY4+do/mqV72q/U6yxgud8f1KcmQYOepL6Yuef/zjH7dfZE4HQU2G6mo6U2i/2KtyS/3OVx9L0SnHuDwnnHDC3G8Cp5OB9nvV9ME4bdfvAem12mar40/O9AddIN1LX/rS1n/HcVfnzj777Ml0Jr1K/nHTgdJkagDn8neVJ90yNcDtd4R4HaebDqRb2NS4tvjShQZ54J0+0b+e+MQnTqYDjmvQmM/RecqJh1ly4SKb6aBv8oY3vKHpf3poatBXKUuc+FzaX60z/lPjOjnooIPmeNhzzz0bvWpXphPIphvV73Ry0Nr9mKZndKcThfbrX+mkmU4aVuG/uhtIMI3YYERgpmHf0ewoIwWWnaXPSARcM2LLKMBSgJFUHWUI44xepkJrsy2jKFN3s1CjDS50kxYvZjlGYGY3lhqNqi07gPjouk4L3+KJPy1UG5UZoZihSYNmTZM8jHCM3N2jbzRqdFp5Eb+WG0IvEMeoj9zwrZzSKBderBCgn9FdaEkX+q5GWZZ4Ldvg/dBDD217RtPG3GiCUatRtRUFy72ZeUoPyhK+IXI3Ms9sXVrLJO6DyAQs/5rxKg95GhVKY9btXlztQ1sxypWHcDPIjAzFUX4Qjp9pW2ujXisUlnXMnB1gUI7kLV7kY5SLd/WLd/ehBeJpD/jizOYzIhcPD2Rb60/amod7qyf4cKDPQRiHLCwD4l/aMUJ3paHK3b0ZFTmQtSVpv7OzTQHTwWJbYUgfB2nITrtLHaQeljKUhSML5QMfljjqqKPavS9gWVrWPqdKuvUdMqAD03bdowFouCc3siUj20Ivf/nL26zYzM8bEjlYuhDoP1awpgPPlj+a+JUPHUl3p+9CyqTv0Wl0gbTpf+LhGQ/4pzf5Q+gC/WDmbJXPfqnDXPoYpGygLdHh+qFVLhBP36yra+im/3m2UmYbxOl8B8Hyne/oqdRH0nOBMLKIzjDLtzxuu4Adc5jVyqFyqzfx6Ru0ldksFx9Q6eJReZxtUVdWiKwMWQ31tkyNGzRDLAOBaUhcMggi2ChMcfhFIBEqN1/6+LkPPZAmfuGjxnHlhy5UOuLnPs9x8ScUjZpf+E44JL+aTrwMRpJfReVF2jHiHxe6Nd+kE5f8NDodmDJzOMeysw4H4a3SG9OeJXfgJyzxpKl851r9Qj/3Ka/7ml9ogfuaR2iEjjIyrgwxxaKxU1L2UjLAqvTEhzH90Ay/yTNIOAiLm8WvAYdPLzIalJUT3/6eZVAhvC5xB/PJeSWgyjZXA1pbVL7zDfaD/TTFciU56XuJqx5Sb3le6qgy0TYMUBnNbDEZ4NkiM4AWj05J/CByCC0ufq4+fEGZ87ed5mwIw75QVJq5B8/qI/077TrPNV6csPQBz2MI42+SY1vLWysmE96DZ4xMeEIn9F3FYbSU1X46Q0cnGiQoqzThnTOpM7C39OugG13JeJvECKf3ybryWNueawZFYP/62GOPbVt3vtanPecwbmRUaUnPb5wH8Ldl5t/GlstNsGydGfRExhXNpzIGY6Kex34QRpIOxEtG7hOnZh56GZkFNS0k3tgBunHAX9rqX8Mh96GRNMGY9ljwAb84mEUDQmcWDYh/ZMgo2EsB+/Ia1HwI7YrQc40L5MFB+K3hoVcdJI40SRda43hcnsVNnIQBA2dUTFmbpWv89oSMvENvFs2kDxKvyr5CfGHjdKEJZvs6uhE1I2yv3X6mUf6stMlz7L9SoOypUyAHAyunatUjmCk4RWoP00xjdYpwOcqRfKwOmKmB2ZM92MwYx24WyIUTTl5WqOzTenb+ISt3C0XNC100uaCGgedaz3mumFV34RukMcO1F25WbBBCp+n/BtjC08c4gzUrY2a1DG9QbUT4kY58nZMxixXfHrvJC+NdEfpxFZ61zwz46aGcAGeA8VwxTg/Skk2VV2DVDz2DCPvooTeOB602FEwgJ7M85z7IvTD3XBjJc8LjCJKr/rmvlVvzhRpXmHtXLn65r7SSLn6uRjxoJw2nAhIfwntF0gT1XlgNDx3gl2dXjt+YHuCRfBgFhtiyPZgtWu5NmqTLPZpkX8NmjcwqwgsXJH4aY54ju4o8C+PExd84bvKIX+WJn+V2xpgysQzkQBvlZflH3NCbJa+KxBu7pHEPicefU1aG10EKvxh0gMRpVVsBluxjQOrSfWin3CsRVY7qxlaDZUSrG2YwYGnQYTfGB9ImpUsbq/W2nEAmDIoBpm0yoIBtTUUHpb+kDUWes+5z1TcYYmHaKcWOBrdQVNoV/MMPV5/Db00XOvyj1xMujEudm5FmSw1N9S+Nq3hjSGOLT7sCbUh/rNuF0tETZtr0Bnnrt+Rs9QptAxcn1i2no5W80AiPAT9pTATMsOlhfpakrdK5r+k4ZXHln9We+IF7y9kMMV4N7JVDvSXuGHM/fYjQQWTCjPCSKccv/mFE3JpB4ikUmnV5L+njLx0XJG3yEyYvlVrpx4VvLksRHFTauSbu+F44+omHhrLVvCDXWUjZki+HjjSVdqUpD87MIh+kAPsvGqB0yg81Pb6r3HMN3UA8/pGLeBpn5UccxmecFsTh8MCFFp6r7KTLlb9r2kZAGaGhQfpZiA4EL3zhC9synj0s6cInB8mn5gfVnx/ecl+RMrlylAPj67d4lrac3vbBBL+ny14dWnEB/zHtlYTUe+RppmMp0elgsAfo4/vkSU6pH5A2Axv3wkJnqUM50u5czdYMqsEsKOXU9hmilD3XtLH0LxAGnhkIy91oOXVLfgaSlPxCkLzQSttOf0Yr/PGnQ2vdpb2LNx+kixM/6ekv+85AHgYnDF4GJYmXe+mdnvYGipmzVz2r7RCP7jKAtnxtJuyzlr7mpQwcmVi693aHvWn5pnyB5+TnKg9Gk+EGbZwewGfKJU14haQdt2V+6thgzIoAWAmQR/hjpMdoVEUIoWQIybhmNPZzrf7AH4OZWQSJX+PlOfQhz3FopPJqvPG9OPETVzqOX9wsJKzmC54XiuTnWl3o5n4W+Ots9toCgxguDQZq+kq3ukB44vPPs/v5jG5Q6dV0KV9NF//cz6KZ9K6JawnJYS0vxfvIu1fgHPaxZ6yjKTuM6YXWmJcxH3E1bwMdryY4RLPvvvu2fCxpGQhY1qq0qoOa73JDlE291+4qPMcJN3NxqJDSA9soDrnl1bzILSC/yHdtMeZvzBuDMva7riH/GDGGxCAF7HtmVkYuVUdBlYvw+ixN6FLu/MnV3qs9Rx848s5rBtYxrklXkbShH14g/q78Kh/xr89xKYvw6vgBQ6lv551+xtM+sVcY8wEeV69kKY+VMoebDDh8D6C+gwvKxLj5SJNDa3QHY21f2FKygaClbd+stl3C6JNHkPvIqPJqEpA642ewnhn/GNLVNp5yhx65SJv04lrp9I70SSedNPcDlIobHXnkkVcd7ZsBRMNoxXz+FYkzjremdGNUOmtKOw5fSJrFQvKq+c13PwveT7NXmSUtFadzGVFaotFwxjSSX9xCsND44/DVpVsTrQpxlUXjVDbv+nH2FjVcI3+dzTvpZs6zMIuPWX5jeFfYe4qulv4dJnIwywzO/lSlMYveLL/lglq2tDXOPcVVwy39UaaW9Q0gGWHv4O+9996tTqOQFhv6A9p4gvDHv/J3XQMP4ckMjIHI+8P6sXatfVmirjO8IHyPy5Bng1LL01ZxGGEGxmwz33gwexvTwE/8gnGccTiM/eeLB2uKxyApt77GGOOJfvN2iAGc5WVXus+g2IDCu7k+JsIoG9TVtmTw53sGfvoQI2d2aTUxjrzNOrVZ37TQt+3TB5FLdeCbBc6LaNvSyktYTkcnHtR0wfiZfrNdo6w5ca6d+hiLcqFbsVpD3HHdgfEx8rUvbH/CvgIDbNkl+23jyl6qiNLSySgUykTjdAiFUjFj95K8sMWEGbEZinzMxp2MJN8oxyj55SLnhaKWN/euHHnEEIOZAuXidL8r2fl8pSVCA6r1YYRDL3WT9gN5Xh/5ri3kT4EzBoyuNs1YMkZeW7HcOssQz0LKolxZJrVkarZov9HrUAar9AVENnFVRhB61yXwjl8zVYfM6DEGKDNGV/JgKBlrp4qdHTGLZrCUN8C/AQg9aVmePMnX3jB9Sc7u4xh0/VubzApgZBIZ5Z6/AYJ46kh6g0tp6YfVHZqtQCd5ZHDkKr324KS7OkM3+Qc3mI62Vq2xjuscqTwKjzHOTDD+MK64pQ6jQ+Wr5ar3CVvsclMA5EwBVPmCvK7v2dX1hdSHkfwsuURulvDMhL3mAU6aH3jggU3pXRfyw0MgD8oeNpR6C3+VF32aUQmva4NxXXhOWUNPnnl2rWkSpl6vD4TfwHN4JRd8eRYn/Ac1XS1bLR+/+Ne0UP2SDp3IJGFVnu5n8VLv54N0+om6Tl5J5xnkLR6jX7H2LaNj0aFyVJRGmVlgGgSXSlyO0FhrBwCNN24xEfpRSp4pA9fktT7yXQpQBzHCqQv3aXuUi2U7r4zECJvtmMF45Ssyo4gi58VC5UM+eIXK5/UJ+afMkSPEz8yvxlkTxI3Cjm6IP/CPvPlFJq7ia9MbAvDJRSa5hs/4xV9Zatn5xaW8QcoMVR4BOpb0hQWRX/KRJnS4+LlPO06ahUDalGPcD/h5RntshKEb4g0AaRAcpGGpNFeVuDYNYikg5QNlS/nd56DW+oA8dZbImJJ01XHWZ75LAVEWtW7IBYR5XcS34gOnzr0vLD7lCeSZtIsFPDEuUdDhMQo6h6HcXx9IvviA8JL+G7dQKJ+ySjM2Qu7HS7ZxeU4afLhf7PpYKPAQGQB+IptaLn6QuGOehdd6j9M2Zw06Ej99O89kqo8nH37gXlh4E54VjMRdCJLWNXnXNpty5lpx/dRQxyoYV7SKqpU1q+KWMlIe5Xavkbp31bE05vVR5sh5nD/IkwLwvD7y3tChzFFMkOdcHWTxBaP8ocppVV8yst9FbusT6kkelJrDYcccc8xw0EEHtUEB/qIwr29EDlG+aW+Ra57XBPHGfSD3rsK51E3qCZK2YqH5rg+Ex8p/nitfs3gUJ+kgZa7XKqfIHYTFBeqHS/ox7fijU59rvDUh6eLwl2t4DY8V3RBvAFBRQSpwbSp/qSGNO+66QpXtOF/+YwW2khCZREZBjJ8vZ/kzDTh0csABB8z95SrKBqrSXSxEiZnNeG3Fqy5+ceqrSvI1+4DFzndtgD+zKOWvinZsGBYC8WIwKlK+SquWOffXpxzGwMuY7/hV/2AclmttY/zI1TP/1SHtUVwyTXzPXGiFvufkmeu1QfKpfHoeoxviDQCprMB9GsS4EpcDUtY0dB3EvXJm/2R9lVnedVRc5Zvn8LeSkHJzVS5OAXu1w3veXsFwWtXv3JxKtUdcFR24Xx9A14lt7576CYGvHtVXzsLH9QV5xzHIadNR8muDlKk6QC/3gK585FfjxAmv8a8P4CF8cO7Db+U1qHHnQ63r0M996Fq2rnmAa9ImXfziL03oJd3qeJmFWfHRGtOvWLsW0rHeoCGYfYwbRjB+XsqoDTWNsjZOHXV9oC5dpRMG83WQlQaviERhMLwMn3+7eiXHaX4/6PAj9Axmsk+XOlV3iy3HtH3156M3Xl+B5AnyrM/XJfBHBtlWiV/kCOvCW9pn6FSDWxG9ISwuwEfa/HWN8BFZVJBTBivhH1zjIPVa/VylFVb9Ew8yoE+8hKXdQtKSqys+OMBzjbe2kLamR7fyMUbXPBsIVFAqyjWHXlKhuV8uGJfnuijjmP6s/NZn/hsqKAaOPLLUTBH5AtCb3vSmOcPnS0c+guJdUHKShhLL0jDMUjLrivAVWJq2HE2pyVPeMTL8rk+Dgx/OPfmlbbmuK9IWXXM/RvKoccfPub8+MOZnDGExjnH8xmlqeDWm8QuStiJx4l/Txs8V3dD2nHSJv66QflzGMboh3kBQK2hcYfV+OeG6LtNYjstRpuuKyCaKyaEsryp97GMfa88+AepdYZ8SzDvYXE0DayvT0JnlKnyMxR61nx+Arx3ld3qMcPi/PpC8xzyMn9cXVpfHdcXD6rDY/I3jX5vyJW34qG4xsSZ63RB3dHSsYvx8ks/H952Sttzqq0D2hXfeeef2FSRKZTz7nGU814SkWZNjhH072P9dA3zM+vRgR8dSRP+yVkfHCocZJYNnZsvA+ua5D+t/+tOfbuE+2OFD+j73B+LmMIwlt/hBnR2vCTG0a4IfA/jVohl64FOB/rDj+9b4yKx4bfLv6NhQ0A1xR0dHM4hmvw5o+fONvdgNGf6y88xnPrPxWvcMOzqWIvrwsaNjhSOzUn8OesELXjA3E96Q4fWl/FUnM/qOjqWKbog7OlY4GDE/s7ck/d73vre9wrShwzvE/mpTl6O7Me5YquiGuKOjY7jooovaHqzfRC4F+DmK95oZ374v3LHU0feIOzo62rek/VXp7LPPXmVmmRnnePnXvmxOTsffcw5vrStmzWqz/ytMHvjxPvOTn/zk9i9a7xN3dCxldEPc0dHRTkH/9Kc/bX8QqoefGD9GmN945skfxOXQWIyDU7OMMaAbQ+zLSd5nvraGv6NjQ0A3xB0dHXNgBKc6oc0yGbzMQmNgPcdQOmXNP2EMczXWazLIoS1dvs4V2knr2X19rlf5SZ84idfRsZTQN1c6OjrmEMPnGmM3Nm55jrGGxK3gx9DGzYqD1pgGv5pnjHVQw5NmFu2OjqWCbog7OjpWQZ0NA6PnnosR5LIsvC5GsNJGZz5DDcm7Ijzwr7Pwjo6liL403dHRMQeGjYHLveVnrzNZrs5J5WqA4+YzhqEF4gXuaxhDDOjEP37Aj+OX+5p39e/oWGrohrijo6OBMXPgyn5tjKbXmU477bT2s4W73/3uw4477tje3xWePeEYSGnNpmMkXYXHYIZm/GI4c1/3evmJB0mbMHnVZ66jYymjr+l0dHQ048bF+MW4+drWMccc09w555zTjGWMYIwwxCDW59AKbUiaXGNkuTE9fnDBBRe0vPFiZp78EzfxOjqWKroh7ujoaEaNIeRi2BhPhvfWt771cJe73GW43e1uN9z0pjedCxOvGsX6Pm+MZJA4nDRJX/0ZWUvh/N1/4QtfaP9DfvnLXz68+93vHr773e+2sKDeh15Hx1JEX5ru6FjhiBHLjNSzKyNsFuo/wPaFd9hhh+FOd7pTS5NlZKjp0HEf5zl+4D706wyYv3eYvcsszy9/+cvtX8gf+MAH2uc3t9tuu+F1r3vdcL/73W+VpXNAJzRDr6NjKaEb4o6OFQ57uwyrGW0OYl1xxRXtkJYw2HjjjdsHNGI8xXf/k5/8ZO4jIGaxjCSjCPxieMUFM17IwS8f5ogB584777z2L2TfvWaM/RsZtt9+++HNb35z26POzLvS7ga4YymjG+KOjo65GWYM2hlnnNH+wsTgMpY77bRTO6x1q1vdqoXHeH784x8fPve5zzXjyHAzvgljIBny3MdwMuhbbLFF+5Xhne985zljevHFF7dlaP8fPvDAA4cHPvCBw9FHH91+RHHHO95xeOMb3zjc6173avxA6ErfZ8MdSxndEHd0dDSjxjFmloYtC7///e8fTj/99DbLfeUrXzk8/OEPbwZUnBjVF77whcPxxx/f/BhdhhFiGGOI3YN79CxzM7aPfvSjm79wy9L2hZ3U3nbbbYdb3vKWw3Of+9zhpJNOGrbeeuvhDW94QzPeDDmM6ea+o2OpoR/W6uhY4WDEAsbVsjFDeNvb3rYZxUsvvbQd0uLEFQcYPge57Bvf9a53He5xj3u0Ga7nOD9l4IQ78OXKf6uttpqjl/yTr31gdDOLrvxVdMPbsVzQZ8QdHSsc1dBZira8bN/3bW97W5uRgqXqnXfeec4wMpIM4bnnntteL7I0neXpulRc94kDaTfbbLNmoBl7Ydn3lT9kifvZz352mxFvs802w3HHHbfKjLhCHt0wdyxVdEPc0bHCEUPMkMWIWp52OMqe7S677DK8/vWvbzPealRjjPnFECYsRlGc6hf/QBjHEFc+wHMMsaXpbog7liv60nRHxwpHDClnT5dh/Na3vtUc4+aA1CabbNLCgXE1cxUvBpDLSWqz2WpMKzyP04qfsDgI3fmQeB0dSx19RtzRscJRDZ97y9If/OAHh7e85S1t6fnVr371sMceewybb755C2dEYySdcP7KV77S7hlxryeZ3TKuWWYeG1PpfSbTKew73OEOzXhDNaxJ86xnPWt4+9vffo2l6THPue/oWIrohrijY4WDIYtjzBjK1772te2U8lQ/DKecckozmvmqVuKBeO95z3vmZsn1H8XoQOLWdA5t7bPPPsNuu+3W/BJW+QCGeNYesTiQNLnv6FiK6EvTHR0dzZhlBsv4Wpa2T3zzm9+8nYT28Y2x8eMuu+yy9uUrTvxLLrlk+N73vtc+R+nq3eDq4veDH/ygHeyqtMYOsoTd0bGc0WfEHR0dzdgxema2jPBBBx00fOhDHxp23XXX9plJ/ma7DCejLK57p6ktX1uO9vqRd4HREj9Lzrnyzx70bW5zm+G+971ve5UpEB6Htln1U5/61OGd73xnGwz0GXHHckU3xB0dHQ0MGmPrM5OHH354+8b0nnvuOZxwwgnDRRdd1JzXjnxli9FjUM2e89GOQFgMpDjAGMdPfF/H4qqxTtwYVNd99913eNe73tXeL+6GuGO54kZHHnnkUVffd3R0rFDEmDGIl19+eft0pUNY/LmPfOQj7eT03e52t3aNYTUTjlH1xSxGkosfN/bLfYxwjKmrd5LPOuus4cwzz2yHtE499dT23WtL3hdeeGFb1j7//PPbsvamm27aZuExwN0QdyxVdEPc0dGxChhUS8yuvi3ts5Y+vOEPSLe//e2bEWX0MoOFakyrQRw/Q55j/OvzN7/5zfazh29/+9vNWQb3lS2/YMyPIvBm73rLLbec+zrXrHw6OpYK+tJ0R8cKRwwiMK5mqg5ffe1rX2uft2SIfQXrJje5Sdu3NQsWj2P8Mjv2jFae14QY8sSV9utf/3pzP/rRj9qyt/xCm2OMHSpzitrJa0vllrqT50Ly7ejY0NANcUfHCkc1xIxcjB//GNtq5PgnTfWXNum5hSB5AGPqPnvOnvPFrfiZjcfwxsVI57mjY6mhG+KOjhWOvLbEeDJ2DKtr4ACXZ0Yxhs81BjgQRxj/hRjE5FENuftKt/IRjON0dCx19OFjR8cKRzVsrtVAcvaKuRhX4dVA5lncWQZ6dah0xukqvTio+btmttzRsTQxDP8PQJNoFrIho7EAAAAASUVORK5CYII=)\n",
        "\n",
        "Onde:\n",
        "- pi representa a proporção de dados no conjunto de dados (S), pertencentes à classe específica i;\n",
        "- c é o número de classes."
      ],
      "metadata": {
        "id": "zyQ-1lTo6P7s"
      }
    },
    {
      "cell_type": "markdown",
      "source": [
        "## **3.2 Ajuste e Previsão**"
      ],
      "metadata": {
        "id": "F96iNoQA6pEd"
      }
    },
    {
      "cell_type": "code",
      "source": [
        "from pyspark.ml.classification import DecisionTreeClassifier"
      ],
      "metadata": {
        "id": "20jo9Bik6_RT"
      },
      "execution_count": null,
      "outputs": []
    },
    {
      "cell_type": "code",
      "source": [
        "dtc = DecisionTreeClassifier(seed=SEED)"
      ],
      "metadata": {
        "id": "IEypEkik7HKo"
      },
      "execution_count": null,
      "outputs": []
    },
    {
      "cell_type": "code",
      "source": [
        "modelo_dtc = dtc.fit(treino)"
      ],
      "metadata": {
        "id": "H94iHFCC7Ko6"
      },
      "execution_count": null,
      "outputs": []
    },
    {
      "cell_type": "code",
      "source": [
        "previsoes_dtc_treino = modelo_dtc.transform(treino)"
      ],
      "metadata": {
        "id": "7TH775S07U_M"
      },
      "execution_count": null,
      "outputs": []
    },
    {
      "cell_type": "code",
      "source": [
        "previsoes_dtc_treino.show()"
      ],
      "metadata": {
        "colab": {
          "base_uri": "https://localhost:8080/"
        },
        "id": "KUexANXN7opg",
        "outputId": "d710fa38-b1f3-4256-a989-2c13965b2d39"
      },
      "execution_count": null,
      "outputs": [
        {
          "output_type": "stream",
          "name": "stdout",
          "text": [
            "+--------------------+-----+--------------+--------------------+----------+\n",
            "|            features|label| rawPrediction|         probability|prediction|\n",
            "+--------------------+-----+--------------+--------------------+----------+\n",
            "|(24,[0,1,2,3,4,5,...|    0|[2056.0,334.0]|[0.86025104602510...|       0.0|\n",
            "|(24,[0,1,2,3,4,5,...|    0|[2056.0,334.0]|[0.86025104602510...|       0.0|\n",
            "|(24,[0,1,2,3,4,5,...|    0|    [22.0,3.0]|         [0.88,0.12]|       0.0|\n",
            "|(24,[0,1,2,3,4,5,...|    0|    [22.0,3.0]|         [0.88,0.12]|       0.0|\n",
            "|(24,[0,1,2,3,4,5,...|    0|    [22.0,3.0]|         [0.88,0.12]|       0.0|\n",
            "|(24,[0,1,2,3,4,5,...|    1|[331.0,1951.0]|[0.14504820333041...|       1.0|\n",
            "|(24,[0,1,2,3,4,5,...|    0| [239.0,205.0]|[0.53828828828828...|       0.0|\n",
            "|(24,[0,1,2,3,4,5,...|    1|[331.0,1951.0]|[0.14504820333041...|       1.0|\n",
            "|(24,[0,1,2,3,4,5,...|    0|[331.0,1951.0]|[0.14504820333041...|       1.0|\n",
            "|(24,[0,1,2,3,4,5,...|    0|[331.0,1951.0]|[0.14504820333041...|       1.0|\n",
            "|(24,[0,1,2,3,4,5,...|    0|[331.0,1951.0]|[0.14504820333041...|       1.0|\n",
            "|(24,[0,1,2,3,4,5,...|    0|[2056.0,334.0]|[0.86025104602510...|       0.0|\n",
            "|(24,[0,1,2,3,4,5,...|    0|[331.0,1951.0]|[0.14504820333041...|       1.0|\n",
            "|(24,[0,1,2,3,4,5,...|    0|[2056.0,334.0]|[0.86025104602510...|       0.0|\n",
            "|(24,[0,1,2,3,4,5,...|    0| [239.0,205.0]|[0.53828828828828...|       0.0|\n",
            "|(24,[0,1,2,3,4,5,...|    1| [239.0,205.0]|[0.53828828828828...|       0.0|\n",
            "|(24,[0,1,2,3,4,5,...|    0|[2056.0,334.0]|[0.86025104602510...|       0.0|\n",
            "|(24,[0,1,2,3,4,5,...|    0|  [51.0,141.0]| [0.265625,0.734375]|       1.0|\n",
            "|(24,[0,1,2,3,4,5,...|    0|[2056.0,334.0]|[0.86025104602510...|       0.0|\n",
            "|(24,[0,1,2,3,4,5,...|    0|[2056.0,334.0]|[0.86025104602510...|       0.0|\n",
            "+--------------------+-----+--------------+--------------------+----------+\n",
            "only showing top 20 rows\n",
            "\n"
          ]
        }
      ]
    },
    {
      "cell_type": "markdown",
      "source": [
        "## **3.3 Métricas**"
      ],
      "metadata": {
        "id": "L7zP7W-r8Jrw"
      }
    },
    {
      "cell_type": "code",
      "source": [
        "from pyspark.ml.evaluation import MulticlassClassificationEvaluator"
      ],
      "metadata": {
        "id": "1vb6GnBs8PBu"
      },
      "execution_count": null,
      "outputs": []
    },
    {
      "cell_type": "code",
      "source": [
        "evaluator = MulticlassClassificationEvaluator()"
      ],
      "metadata": {
        "id": "SLmFCze-8gzJ"
      },
      "execution_count": null,
      "outputs": []
    },
    {
      "cell_type": "code",
      "source": [
        "evaluator.evaluate(previsoes_dtc_treino, {evaluator.metricName: 'accuracy'})"
      ],
      "metadata": {
        "colab": {
          "base_uri": "https://localhost:8080/"
        },
        "id": "mbAAX3u78jvu",
        "outputId": "d0281d0c-f1b4-4538-cdc3-6a1dface5b69"
      },
      "execution_count": null,
      "outputs": [
        {
          "output_type": "execute_result",
          "data": {
            "text/plain": [
              "0.7917013599777962"
            ]
          },
          "metadata": {},
          "execution_count": 63
        }
      ]
    },
    {
      "cell_type": "code",
      "source": [
        "print(\"Acurácia: %f\" % evaluator.evaluate(previsoes_dtc_treino, {evaluator.metricName: \"accuracy\"}))\n",
        "print(\"Precisão: %f\" % evaluator.evaluate(previsoes_dtc_treino, {evaluator.metricName: \"precisionByLabel\", evaluator.metricLabel: 1}))\n",
        "print(\"Recall: %f\" % evaluator.evaluate(previsoes_dtc_treino, {evaluator.metricName: \"recallByLabel\", evaluator.metricLabel: 1}))\n",
        "print(\"F1: %f\" % evaluator.evaluate(previsoes_dtc_treino, {evaluator.metricName: \"fMeasureByLabel\", evaluator.metricLabel: 1}))"
      ],
      "metadata": {
        "colab": {
          "base_uri": "https://localhost:8080/"
        },
        "id": "5wpdiM5M8zZu",
        "outputId": "c459b176-fe96-42dc-817f-e9ab578f08db"
      },
      "execution_count": null,
      "outputs": [
        {
          "output_type": "stream",
          "name": "stdout",
          "text": [
            "Acurácia: 0.791701\n",
            "Precisão: 0.805090\n",
            "Recall: 0.770978\n",
            "F1: 0.787664\n"
          ]
        }
      ]
    },
    {
      "cell_type": "code",
      "source": [
        "previsoes_dtc_teste = modelo_dtc.transform(teste)"
      ],
      "metadata": {
        "id": "tn4KQTNL9Pku"
      },
      "execution_count": null,
      "outputs": []
    },
    {
      "cell_type": "code",
      "source": [
        "previsoes_dtc_teste.show()"
      ],
      "metadata": {
        "colab": {
          "base_uri": "https://localhost:8080/"
        },
        "id": "LB-BP46D9dVw",
        "outputId": "1d4c156e-1d7a-4ae9-88ce-a0d4d35acbfd"
      },
      "execution_count": null,
      "outputs": [
        {
          "output_type": "stream",
          "name": "stdout",
          "text": [
            "+--------------------+-----+--------------+--------------------+----------+\n",
            "|            features|label| rawPrediction|         probability|prediction|\n",
            "+--------------------+-----+--------------+--------------------+----------+\n",
            "|(24,[0,1,2,3,4,5,...|    0|[2056.0,334.0]|[0.86025104602510...|       0.0|\n",
            "|(24,[0,1,2,3,4,5,...|    0|  [62.0,128.0]|[0.32631578947368...|       1.0|\n",
            "|(24,[0,1,2,3,4,5,...|    1| [239.0,205.0]|[0.53828828828828...|       0.0|\n",
            "|(24,[0,1,2,3,4,5,...|    1| [239.0,205.0]|[0.53828828828828...|       0.0|\n",
            "|(24,[0,1,2,3,4,5,...|    0| [239.0,205.0]|[0.53828828828828...|       0.0|\n",
            "|(24,[0,1,2,3,4,5,...|    0|  [51.0,141.0]| [0.265625,0.734375]|       1.0|\n",
            "|(24,[0,1,2,3,4,5,...|    0|[331.0,1951.0]|[0.14504820333041...|       1.0|\n",
            "|(24,[0,1,2,3,4,5,...|    0| [239.0,205.0]|[0.53828828828828...|       0.0|\n",
            "|(24,[0,1,2,3,4,5,...|    0|  [63.0,118.0]|[0.34806629834254...|       1.0|\n",
            "|(24,[0,1,2,3,4,5,...|    0|[2056.0,334.0]|[0.86025104602510...|       0.0|\n",
            "|(24,[0,1,2,3,4,5,...|    1|  [63.0,118.0]|[0.34806629834254...|       1.0|\n",
            "|(24,[0,1,2,3,4,5,...|    1|[331.0,1951.0]|[0.14504820333041...|       1.0|\n",
            "|(24,[0,1,2,3,4,5,...|    0|[2056.0,334.0]|[0.86025104602510...|       0.0|\n",
            "|(24,[0,1,2,3,4,8,...|    0| [445.0,181.0]|[0.71086261980830...|       0.0|\n",
            "|(24,[0,1,2,3,4,8,...|    0|[2056.0,334.0]|[0.86025104602510...|       0.0|\n",
            "|(24,[0,1,2,3,4,8,...|    0|[2056.0,334.0]|[0.86025104602510...|       0.0|\n",
            "|(24,[0,1,2,3,5,6,...|    0|[2056.0,334.0]|[0.86025104602510...|       0.0|\n",
            "|(24,[0,1,2,3,5,6,...|    0| [239.0,205.0]|[0.53828828828828...|       0.0|\n",
            "|(24,[0,1,2,3,5,6,...|    0|[2056.0,334.0]|[0.86025104602510...|       0.0|\n",
            "|(24,[0,1,2,3,5,6,...|    0|[2056.0,334.0]|[0.86025104602510...|       0.0|\n",
            "+--------------------+-----+--------------+--------------------+----------+\n",
            "only showing top 20 rows\n",
            "\n"
          ]
        }
      ]
    },
    {
      "cell_type": "code",
      "source": [
        "evaluator.evaluate(previsoes_dtc_teste, {evaluator.metricName: 'accuracy'})"
      ],
      "metadata": {
        "colab": {
          "base_uri": "https://localhost:8080/"
        },
        "id": "NOEIUrML9S-y",
        "outputId": "f742a6b5-bd7c-4a26-a66d-5222fdb4a0dd"
      },
      "execution_count": null,
      "outputs": [
        {
          "output_type": "execute_result",
          "data": {
            "text/plain": [
              "0.7714831317632082"
            ]
          },
          "metadata": {},
          "execution_count": 68
        }
      ]
    },
    {
      "cell_type": "code",
      "source": [
        "print(\"Acurácia: %f\" % evaluator.evaluate(previsoes_dtc_teste, {evaluator.metricName: \"accuracy\"}))\n",
        "print(\"Precisão: %f\" % evaluator.evaluate(previsoes_dtc_teste, {evaluator.metricName: \"precisionByLabel\", evaluator.metricLabel: 1}))\n",
        "print(\"Recall: %f\" % evaluator.evaluate(previsoes_dtc_teste, {evaluator.metricName: \"recallByLabel\", evaluator.metricLabel: 1}))\n",
        "print(\"F1: %f\" % evaluator.evaluate(previsoes_dtc_teste, {evaluator.metricName: \"fMeasureByLabel\", evaluator.metricLabel: 1}))"
      ],
      "metadata": {
        "colab": {
          "base_uri": "https://localhost:8080/"
        },
        "id": "-W8p3l8n9oKN",
        "outputId": "40c9865f-a4c2-4452-bc69-ef4009398889"
      },
      "execution_count": null,
      "outputs": [
        {
          "output_type": "stream",
          "name": "stdout",
          "text": [
            "Acurácia: 0.771483\n",
            "Precisão: 0.778510\n",
            "Recall: 0.755598\n",
            "F1: 0.766883\n"
          ]
        }
      ]
    },
    {
      "cell_type": "code",
      "source": [
        "print('Decision Tree Classifier')\n",
        "print(\"=\"*40)\n",
        "print(\"Dados de Treino\")\n",
        "print(\"=\"*40)\n",
        "print(\"Matriz de Confusão\")\n",
        "print(\"-\"*40)\n",
        "calcula_mostra_matriz_confusao(previsoes_dtc_treino, normalize=False)\n",
        "print(\"-\"*40)\n",
        "print(\"Métricas\")\n",
        "print(\"-\"*40)\n",
        "print(\"Acurácia: %f\" % evaluator.evaluate(previsoes_dtc_treino, {evaluator.metricName: \"accuracy\"}))\n",
        "print(\"Precisão: %f\" % evaluator.evaluate(previsoes_dtc_treino, {evaluator.metricName: \"precisionByLabel\", evaluator.metricLabel: 1}))\n",
        "print(\"Recall: %f\" % evaluator.evaluate(previsoes_dtc_treino, {evaluator.metricName: \"recallByLabel\", evaluator.metricLabel: 1}))\n",
        "print(\"F1: %f\" % evaluator.evaluate(previsoes_dtc_treino, {evaluator.metricName: \"fMeasureByLabel\", evaluator.metricLabel: 1}))\n",
        "print(\"\")\n",
        "print(\"=\"*40)\n",
        "print(\"Dados de Teste\")\n",
        "print(\"=\"*40)\n",
        "print(\"Matriz de Confusão\")\n",
        "print(\"-\"*40)\n",
        "calcula_mostra_matriz_confusao(previsoes_dtc_teste, normalize=False)\n",
        "print(\"-\"*40)\n",
        "print(\"Métricas\")\n",
        "print(\"-\"*40)\n",
        "print(\"Acurácia: %f\" % evaluator.evaluate(previsoes_dtc_teste, {evaluator.metricName: \"accuracy\"}))\n",
        "print(\"Precisão: %f\" % evaluator.evaluate(previsoes_dtc_teste, {evaluator.metricName: \"precisionByLabel\", evaluator.metricLabel: 1}))\n",
        "print(\"Recall: %f\" % evaluator.evaluate(previsoes_dtc_teste, {evaluator.metricName: \"recallByLabel\", evaluator.metricLabel: 1}))\n",
        "print(\"F1: %f\" % evaluator.evaluate(previsoes_dtc_teste, {evaluator.metricName: \"fMeasureByLabel\", evaluator.metricLabel: 1}))"
      ],
      "metadata": {
        "colab": {
          "base_uri": "https://localhost:8080/"
        },
        "id": "3mJ1jk4C9z_G",
        "outputId": "52735d2d-91ad-4837-cea4-1174a4f3af3f"
      },
      "execution_count": null,
      "outputs": [
        {
          "output_type": "stream",
          "name": "stdout",
          "text": [
            "Decision Tree Classifier\n",
            "========================================\n",
            "Dados de Treino\n",
            "========================================\n",
            "Matriz de Confusão\n",
            "----------------------------------------\n",
            "                     Previsto\n",
            "                Churn       Não-Churn\n",
            "     Churn        2784         827\n",
            "Real\n",
            "     Não-Churn    674         2921\n",
            "----------------------------------------\n",
            "Métricas\n",
            "----------------------------------------\n",
            "Acurácia: 0.791701\n",
            "Precisão: 0.805090\n",
            "Recall: 0.770978\n",
            "F1: 0.787664\n",
            "\n",
            "========================================\n",
            "Dados de Teste\n",
            "========================================\n",
            "Matriz de Confusão\n",
            "----------------------------------------\n",
            "                     Previsto\n",
            "                Churn       Não-Churn\n",
            "     Churn        1181         382\n",
            "Real\n",
            "     Não-Churn    336         1243\n",
            "----------------------------------------\n",
            "Métricas\n",
            "----------------------------------------\n",
            "Acurácia: 0.771483\n",
            "Precisão: 0.778510\n",
            "Recall: 0.755598\n",
            "F1: 0.766883\n"
          ]
        }
      ]
    },
    {
      "cell_type": "markdown",
      "source": [
        "Contudo, ainda precisamos explorar mais algoritmos para conseguir melhorar esses resultados e entregar o melhor modelo para o nosso time de marketing.\n",
        "\n"
      ],
      "metadata": {
        "id": "0BuUlibk-Tso"
      }
    },
    {
      "cell_type": "markdown",
      "source": [
        "## **4.0 Comparação entre modelos**"
      ],
      "metadata": {
        "id": "v4Upo29j-Uks"
      }
    },
    {
      "cell_type": "markdown",
      "source": [
        "## **4.1 Random Forest**"
      ],
      "metadata": {
        "id": "rQ1mtZxJDf3i"
      }
    },
    {
      "cell_type": "markdown",
      "source": [
        "Pensando nisso, vamos explorar a Floresta Aleatória ou Random Forest Classifier, considerado uma evolução da árvore de decisão, pois utiliza várias delas para fazer a classificação de um novo cliente.\n",
        "\n",
        "Ele pega os dados de treino e quebra conforme a quantidade de features que vão ser utilizados.\n",
        "\n",
        "Por exemplo, se fornecermos 5 features para serem analisados na primeira árvore, ela seguirá o processo natural de construção, buscando a pureza do ramo e o ganho de informação, tudo isso pensando nas features.\n",
        "\n",
        "Dessa forma, cada árvores é responsável por determinadas features e a partir dos dados de treino que fornecemos ela vai se ajustar e tomar a decisão final, se o cliente cancelará o serviço ou não.\n",
        "\n",
        "Juntas, as árvores entram em consenso, por meio do algoritmo, para decidir qual será a classificação do dado.\n",
        "\n",
        "![image.png](data:image/png;base64,iVBORw0KGgoAAAANSUhEUgAAAi0AAADdCAYAAAB35EJCAAAAAXNSR0IArs4c6QAAAARnQU1BAACxjwv8YQUAAAAJcEhZcwAAEnQAABJ0Ad5mH3gAANoPSURBVHhe7P1nkCRJlh4IPiNOgiTnpJJVVlZVZtGu5j2kuwcLzAx20BhgFwLgbolgFyKLPytyf3ECuZX7t7+xcnK3KzgBdg/YFQgGA2C2MT2kp3uaF+suTpJznhk83N3cyH3fU1N3cwt3D5aREZGpX8RzY2pqSp7q+5SYmtdqtTJ5ApF5bfy2IB7Ez4X79pjb1WCxZFut/8OR5lsDhoVnumEKsgp+1zYMDg4ODk8WWI9aO1GuPzPYlSTfXw/01voGtGVLBcPOOAX5lqCfsW49qSKKvLax8cSSFlHlInEpKiAyODOEJdPjzYt0QfCZjV0J8ng6ODg4OCwFqDs9GHGtO2krzNkOUJ2WTz1O6LOLAUB4VlzD6430jELikuBUiEPGfWPjySUt5ezMY5nZLX9WnONLgzfEfxuOlYK3F3m3j2eluZ8+9C7Q/VU+xMHBweGpAepL9tCzlzo33qynPd3lDurYha3Fxwc8+lE+vWMi6C+lc8LAw8kMCUCxxxsBTyxp8TIkcDFmmt4JL2BLc09NXE0mWH8GoY//xUxfLmuh8uS7io5f3PooTOw7Muf0ku4u8xkODg4OTy1QX5ZIi6lHI8m8CFvUsWmVJx4L9NGPlCjkcdJhIsQVNlJHHLK8h8Vn/I0LwpIUS1o2Cp5s0qJgRjCTrOJReJzmzHKl4M1DPPA4NmiVhCi5X64iGLpfALsxGUecp9J5KEweCxvO8ZLPwlXQQAcHBweHIUCdbEmL1qusTmMY7yaOG5AINmNYQ3WN0Y/ALMuOFGwi4cFuCG1GHcI4VxDf7jNsTwvBretpWWOQQwoVDEonJCvZnCTprMRJU9KsCVKZ5kMoKwVvHuyBpyRjcCavlr2mZFzaGgA5ImmRmlSCcfCWUXPOG0foykTHwcHBwaE/UKcW57QompJkUxLFEzg/J7WM8yQfD9RCFOwESUOROKSwYexhXzqKpAX7WYBYjojvj4nvjYGzbEPUa8YJQBtlhfB9f0MQlye4pwXRSn1JoHueNyve/K+kPfFTSRsXcTXBObpij8sKoYo9JAOp/ENIzeoxiqenULoIsQik5e2WYOsXpL7nG9KSg1LHo5W4OWwK2IrhcVQKLBspKiD7bl0NlZ+XtkGEqxL5nlRUd7ooE+wFnX4llN0vF0PTAH4P851EnaU6hBceWsccMs3SGs57qAt4byLVTfCGxJOCBbqzAYzeYKAceCApqFs5LZWaFKRXJZl5S+Yf/ALlYgI1bT13+/hB3eWvhUna7rEO9gwZPmCvUeoFiGXA0iBeQtsxLnPeC1Lf+5syPvYiyMtI7pr+D/aLWK+8fIJJCzM40UzyvIeSzr0rrQd/CeJ8AccxFBKssZDhy4YOzQzLNPi9uvGnoUi0Oy9BLKCIUpFmukfCbV+S0f2/LpF3DIaIiumwWfBYSUuKFpofSIxH+TDsIVqSkszx4SIBKq2E3cWFcHCWd1GbUr4iOQScCb4aIHxDMdR/pmOE4DYh7GFFyzHdguiMSRuxzfwUpIVlx+FxYPORFhryOk06THskXnxJouk3pfngZ6hl70kIHVovmLQspCeS0s5jVOjQVW96F5F6tIcoA4iFB7sRqn3cBtLyPBq7vykj468hdlty1wvzrgxHWh4xPFZcGQw6KlxPHkrWeEuiB3+BCJ9HS7EtAbvG0tUoYEmBFoAZunaZSrrC9+vZGkilJo1knwTbviKj+74FY3RM/Ky6hk93eNR47KQFeiNBW7LktsQTn0glvo8LkbT9KlqUvUa9HCbT4huMnop0BRjel7K4/0p5aHxAbrJ0h3jhM1IdPyFJMAbyEuTLATg8Dmw+0hJDu2uq4YE0JUgvSDT5E2k+/KnUvHuc9WGcrgMyavZQIoGSUWxslJB5KPUgLaanhaQlhp/blbRU9/661Ma+hvPbc9cL864MR1oeMThhipUru8EDMOR0/hcgLX8mfnROAg9trhQZx7GjlUKHf4a0CHvGRR89yLc4PERJsxFpZQcl2Po1qe75JhTzGIgZe5IcNgseL2nhb0uyYEqy5ucye/OnUm1fgr40Ydg98X32ugzR7WF6v95AYySNtmiPSiJViVkuRl+Rbfu+Kigceo4vSTg8Hmwu0oKwcggFOkLSEsoc7MQ5iSd/LM2JH0vduy8h7Mb6ATatkJ4mKQvpScIyhLSwTJOwpF6IMsAGbxvH22TOf1FG9vyGhONfxe1POWlhpG3EivurgU3Ixfwi42RvGY27702IzP1Mkonvi9c8h+MmshqtyZQTWFcKVtzDKm8q99plauZxlD5mgkBGpYHKubLl6xLu+ZakwYHu2gIOmwJL1etHAS/BMzh0EtyVrPErad7+odTjC9CnGRSWpejMRiYtiFuK9jBIS9sbR7X8jGS1N2T84LcQ570g9COIoisXmwmPr2xkUB9DWqjhFZlFWTkr6TRIy4Mfy4g/iePH98rzsqFztYalEWKlw0NosIO0sKc+S7dII3hRaiAtwZYvotxsNU4BprtNe4Lp/6jzoJy3xeM0HyYuP/epIC2BTIO0/EKSh38B0nJWSYt51Wu1PSHDkm71cR0GvprGyVQMQ5aNSDM9kPe0gLT4e80b1460bBosVa8fBZS0+NAd/6ZkzXeldev7IC3ncQGkhY9v78XPsBblRtYrVMb+FCSW2B+TVnZcpP5FGTvwbbQwD6LariFmrlxsJjy+slEmLXPixedEctJSB2mRdP0m4iohH2pXcG2YauvSH9R+Dg9hH8Qly8ZAWs5Ibfev64scmT94TstapH85b4vHg0jLaq32hgXH/zov+LBVqdPwKMwsMk5W2u1VCCtH+DNQeL3ffY9GOD6pizNim+FZKSTzW9DJlsSwN8N018GBb9noK/EoJKzEBBW1Wa9hFDrVKTj9pc+pjSOMUw2lv67GJ+OxrkeByjoLJXEFw2EIetRDey6gO0mIapblA/qD+nbdBHZlmJBw9bMVHeEaNHDD7yfpt/lgL3gP9zNcp03ZDHhie1pIUnROC9yF8lBk9i3JHv5AvMYFXKNx95BJq4h6hxENAhRgDd8eYovRTMdFHGFsGuk+Cbd9Wep7vymRd1TCrDI0dA4bC0vX69WDPS1KeINbkjV/Kc1bHB66BLPegl6hFebP4OKQCmwN9XrVoKGJtyqJj/0aysJh8Ua+KOP7voWSclBilIrqRg6/wwI8vrKBpi4NuNatKB5ZE3b+ksjUTyR68FOphnehUxxWWS8g/kPmrHCK7bA3Yjn/kQ2VFBaRdsPL2iDx49IITkt1z29IZezrcNQ7p8WmPcH0f9R5UM7b4vFjGR4qR6gY4bVAOaK94KQl/OpE3PtC0pI8/KH4zfPIMJAWHT9Z2/CtJWh09F17SAbSMp/sk8qOb0h1x69LUnkWcSQ2b/wc1g4pKr4EhrvqoVzMvy3NO38M0nKOV/A3Dt1BK2xTl41UfF3yYFQa/hFpj70hW/d/Gxz/ACSQjAvROGwKsI4vGrK1tCn0mZwgoLHkAXsi0hvSnv6ZxPe+L6PebZzcwHNaFkNaQZyasIlt8ZNRHIdoe6cyHx6X2s7v6JwW8cdyx0gCpHUxvZn+ZRu/HjC2zcHBwcHBYQOibDwdHh8sUdkohIVwpMXBwcHBYUOiSFYccXEgHGlxcHBwcNiQsL0sVhweLzZi+i+LtNjuoccRgeX436/rCmfyc5yaRL+cwjs4ODhsJrAO54f6Vvqxvn62wWHpsOm3kdLR9bQ4ODg4ODg4bAo40uLg4ODg4OCwKfAEkxY7JGSGhfjL14R7B4nM8FF/eRTo5+9SZTGU3shfyi0ODjm4pFy3NCxV5zYTbHzy9Wbs+haumeYwFCwT0BUOhWCXWkOV0aV9OivSDpJHgX7+FmU1KJR39c5MnFCYCJr9DY6eImzHrOycleK8kuLxoPGt4n3W7UqxlPGzoc/Tlf7mUWU1kBVc8Y8ryKYSw9/Y50ejuJwxDX9/0VVzs/bKhXUlvyEwUPCMocL78TNAsozfG6UgvFyXws/ET7k2RagLH+KCwypBneICRwt0a5ODC0vxg2kGXD6ZZYGrxoLKQPU2OzxWwFzZF7HKuPQ645rymyqIXMCF83pRrEOetLzeCGCashzZxcKWi9Xky3Lu5eJrvpivg/NryLoabpxK2EqkxhVx0xFIsY4uC27JWqsQ1u0ojwOFz+jagAWitqefv7lIE9uKeMk49uHen9XFFttSlziMcEz70YW184Ps/XqBOfNEgkZdMi6UA0WTGohkBUY9lBC1coDM53fhvMwfKFwVMfXGVixZANIUzg6UNEAhRuEYLuFAgRppPBhWH0bHQ9xS/Z5SqHzFVb0ODg4OywENc8E4k/zq5174mRRssd+/nrbCxvDoigVVOarvucEStPGMhbagIx5tVn+/Kfo5C9g/WD9sKQFsRwi7CCLDheeKcd/AeGJJC6OWacaQoJCwBCAsXJo5hS6SkVIJwTYHCFucMdj2SkW/e5LVBgo/LxD76XABsRkkuuKnMnNESpvHYOLc4p/R3iT65+Cw7tioLUqHxw9+aLfb4sMO6mH22uvy/n4b9XIyRGgzwhVLsojNSLygry3oCIhTP3+tqE2gfbMRRFwZXzZ8AzZ81Y5sfDzBpAXI84DDQ/xoosfl+9lF5mGrEg0UD9dDuF+pBAmIUrx1sLA8SASqEem2LCElGyzd8LObn8I4QvjRRHru4PBUgpWyRV4OFiEijrQ4FNHVABKWDLY9kxTkhR8X7FfXd6UJaaxYdAQgHi/IWEHGcZ0N7/72wMjw5+s392Az9GOJue0wn4JhQ75AZjY4hpKWYgFeSWFe60qgOFa5cNwSmZETkAwGnhnFL2XaXggqopLqAeKBCPjZ/IpFsjkjgn2KR6XpnveTtoRpBkXsLyT4PZLgXEE0/Ib5IKYoXogbWwOiXYggZj2Vt8NKQN1d6foQDusHrQtU9MCeNFVyn6y08x6sPGoU/VwL/5eDxx0WawOs2HPEUue4FO9dCZZ+P9OjGyb9QjgqWH5ENPU4fBL21sO2bu4Ie8Cby5AG7umKJ7MIbEGE9iMXHHtpq/f5ZUnR4C34VxZaCn5zrA3hlraDcz11zicaySb+Gx9DSctmhmGQ7IGgEnKCYU1ib1Sa2bi0sm24ukMSbgdIJltwHycsrVAqnmThvGQBFK7SgHLMQuYkDeYhc3h+TZJ0q0pK4TMLItlWBB1hsJIV9iFN2SotD4JtlI3Bv1GEuU4t5ECRg4ODg8MysIDWsIWbBBKnFdTRVWmndcnS8a4kY6iLUdd3hHMolyGot7NspCsIQQb7YEVgP2grKLQd5gUR2IWBAtvQ7zm5xLAXkbddtzHsW5zVJULc4ozCuZArJ4aPEz1feSYbJfu2DHw17Jaw968Vo6e/xWcUw0vSQmYZCxROpiWb+1Cihz+XrHEV7kQCj2N4g8PFd4hWg5TDNjrbF9SpzeEmT4LATJJNU1zLquJ7YO4+w8x051sqeqsiwOkioyynYRRU4GcCBp2g8LAlsFcq469IfecbklYOahxxl7p1cOgBdQ1lw+ebNfO/kubt70ktOQ8tZG/kqASc87Vpdce8JegnIyhW/IItKufR35Ktu/82Gi7j4tEAoOHyODGsnnrceNxhof98DsUe23PsaWFP5lqjGN9h4DCJeE00IEexh/qav+k1iSZ+KtHkWxJmfBONb6XlYFzyXYtFHjEU2uvhs6FtYN5chB1gby+OPRALj28RDQIcFcOjQSmEhyMIicAGeT7i0kI5b6CBPiqt4JRUdn1N6ltP41mF+G1QPMGkBQqIXIq1e68lfnRJ0tlPJEjuqTtP37jpKkgZzNgUGTwYC9MGKdc5m/A1ssSXOIrlxo0bUqlVZfv27TI6MmLIizclng8yA9JClaQZKSJgfPJ9opyGsc83iBDCFOfxHM/fJd7ICZH6c5L6rJzpam3S3WGTo0NaJkBafimN238qtfQCOHaEsyPQR451r7Xu8AldHefTuG+3w8He0yIKho9DwLjuJWgVw6P5cLsko78J0vIdHG9DuWiiLG38inmtMKzOXAvQfz7H1l9a9+bnNiRpkQi/7PXgfRxyuSXZ/EcijU+hO/OSJtvUbQfF9Mt8NCA5jLQ0aBroXBKDzKviuTXdT5JEpqam5PbtW1IJq3L48CEZG/ck9DnMg2cyTbmnzzfxykBqhJLDhKwbPjPywDdjaXPgTwoCn1Sl4R2VYOurUhk9BDtSNY43MHpIyxMFvqqm43QGzOLiGKp2guT7/aCTr3Jl6A/e3etDAv9NgUylPduQyXsP5Pz583Lv3l0lKtu2bZNjx4/J3j17JRyvSVCzCg4lKio/sFj4UoSPYdQuTLhM+Q4/VDHwQcaw9ThbfKgPDk8rOHDqsaXl3Ue99YFM3/sRyO8lqadN4WTAdkDNH6z7pimwCrCXEcaqHccSBoFW3gmkgv12EqOslElJEbzWDZtqeKHssPfUR/mL0WhogqRE3gHxRk/L9j1fliw4qq1orkrj8HhgCYolDJZAbEwgbFY1NJgxtA0kV+0IDT57VgypsCgSIVbHQTIsfixVRd1juuS72Of9KcpEK4rk5s2b8vFHH8vDhw80zY4cOSpnXjst49vGpFYFsUBjN0WDNQxIQnAj/n2QHoTAeNcPfFhP0eLDESf29jNfPBL9pZOu9cKTS1qYO/pmzQAg1sPVCxU3Wm0Wxm33Dm0jsilnAf/iNJF21JaZmRn58Jfvye1bN+W1V1+XU8+fwq2e3LxxQ3757ruqKqdfPS37D+6X8fFxVb5KyKGirilYELZC4SCUsKgrK3zFG1slMXycm9ni0B8kLbrAnExIPH9OZh6+gxblTakmEUgLX49UdR4I9kGuChw/hz7Pz8/TMxkdAZEA2aYap8nCcstGQBe9E6NZLDK+/p+DrWXfi/QVz7Y3Btkt4eizIC2vo8zsRbzqjrQ8RmxK0qJBpB5ykCjBqRhCHWO5Kfa+91IQUhrhwqEDQT3u6jL1mvrO++hT1GrJvbv35PyF8xK3Y3n25LNy+PBhaWP/0sVLcvX6ddm2Y6ecOHFctm/fIfV6L4Fiz9CC5C2eKNmQLuCGztCYyDbBjMgnmLQQxagVWa3Jo6FQUtAFSUwvOKjTVdAI7HhyclKuXbsmV69ekT2798hLL52RsbFx7UVRnUAAWu22/OpXv5IPPnxfjh47Ki+//JLs3LFL6iO1XtJSyhVPZ7J3keaFSAGi4vFekBZTQSB0OlfGwWEh2rnm8g2GLL4Lon0Z+1MSaj3NNYR6da0MDl2yRKwUUZTJ3OysvPXWWzKL7Re/+EXZsZOV8IhUa2gt6pyaQaBeD6tYYWS8OY0D57Nxjo4EO6U+9gxCvBXCNSlWHnaH5WFzkRbC6ga2rIRBLLQBiy3D7hV7Ini5YBfMwqTD4scbugSbRCVNQFZgO9jQvXj5opw9f15OnnhW3kCZCEPQazRoU6QdbUizGctHH32m0w0O7j8gzxw9Iju2b5da1dgO3xTg3HdAw14A3BhLZMDn2wYB84e980WbtlHxBJOWkvKogi0HZde5Bx1vWRhF4jiBMjXkOljw+++/L1u2bNFKeOeu3cYVu++oPJx7Avg4Jppzc3L27Ody+fJlZdPHjh2TrVu3SrVqus4Xhw2IDWfvPbqUuYNDH+igKSpXqkgYRNCgKZCWFo5RIacw8j7XcShUfmUsplq8TvW07nQfFSRalbNzs3Lt6g15+5235ejRY9KYb8i169ekBrLy23/tt2XXrl0SVi0psZ4Ut8SwcXe4K4Q/RbnI4D7J2CqF4HLFlY3Hhs1FWhDGTi9fXp/mJCQPPsLfW8/aeBEkBEVSoODlXH2LJIFoowE7NzMrl65c1sbu7r175NQLL8hOEHg1F/l93Crd4JwZHM/gnnNnz8rZc+dkD+zMqeef13IzOkbyQp8HgGlfCh5BPxkP27je6Hh6SMsKUPSBQzgxKt0gJx0JyMp8Y15Z72effqps+NVXX5UjR45IpYLKnwpQ8EATuZDSegn3TE/PyGeffSq3b9+Rvfv2yjPPPKNzX9jq5LMMA6Zfvf51/BoYzSc0WzcgihWyza+NDE5/MkOJOGBQ1YizBRjSyosuWa7H/RGwRZnvE1rVFU5wrgqHe2wFzbIxi5bkxMSkvPnmm/rs3/md35GRkREl6Bwmevedd2RyakqeO3lS9u3fq9dGRkeU7OuYO7Yk/DQafOuuCCZ/ngUaJZ3e1QmPNZgMpZe/lZc7dnDoAfRCSYslLNxaReoo1GDw9nyXoN6xJ4XnSFh4leeS1DR0b9++jbr/M4labXn99dfk+LMntJE7GKxbuqTn3r178tOf/ESuwwadOX1GXnjxjGzftgMNAK6g262HjP7j6expGRKN3LX+bmQ84cNDg3NoKZEuN8g4kTdB5RlFLR0K+hwKdxUM+bmTz4GwvAKmO5orCqT0aPUqVx7CVKG5QuGeyYcT8qv3fiV3oYhkzSeefVZ279mjk65YUbOrsKhxneLUOUW/rRDDlN/hUaJTKSB/ipXFRoXO1cqgTwi2agyCy+FGHc9mnagdHd3KsYzAqliOcnzbMXs6eJ5vz7Xl9t27cuniBbl96zYq1hfl9IunxQ/N97MSuA3Cio7tz8zOyHu/+pXcuXtb9u/fJ6dREXPOV6USSrXC3hLz4JDzXwrgaW2Z5rC7xaJhSwNbosil/MjBoYyibhT1ulfHlwLWBdrDjlupozHIPAn63Tt35POzZ6XZaMlLL5+R48ePK9HQcjTsMUpYuvO9+OZRnCRyB+TnLPybmWnK4YNH5MjRo7Jly7i+/MGJ7sZPM/AzNBZ6ceOXjSeYtDBag6NmG5qDYL5B0c1i9rSQrExNTsmVq1flzp1bsnfvLnn++ee1Z8TPK1JDQlhJdu/tB33bJ+9qpMuoHWsFTjL005/9TG7euiVnXjojZ86c0WGjUMmLOleEfELnmDGBQusbU3m8M3ahDw+Dw6PBZiMtnkQIpxkqoYpkGT8I18IOdDirQy2tHvUHu6mLKMeXr2uyguY4/dUrV7V35eRzJ+W3vv1bei0AAWdXtPbIsFIFNN3wlyQxysCUvPvLd1EZ35EXXnhBDh48KDt37pT6SB0uud5RL2lRdcf9pjULcHlSjRjKCK/l5+k/n2smsTs49IPV5UE6Mqxs854u2adOpvrlfdbvbdiOablw4QrkPGzHPvnSF78o23dsU71kZU6fqZ+DQHOkvYg57HwX/vGto1soLx9+8IGSmRMnnpV9e/fK2NgYGrwhyhyIP+3NMNVHuSiYvA2LJ5u0DBmXZ6SLEe/um3t0HRfkIBWPFTAZMl9D++STT3TeyZe+9Ibs3bdblSagMtjM5mOheH5ZQUrKyC5yXrYVPitzdpXzWcS1WzfkF794E0o3Ki88/4Ls2rNH13gJ0erkwypoDps7+UCG2W7zODvS4jAAJC3CL4LzTQeoSMbXOvktK7bFdJ0HTjYcrDvDSEsSpzIx+VDneHG+1o4dO+VFEA/2GmZcEkC7OqCjKDf6DD6fXegBykNni/YkyMvU1LT84Ad/IQ8ePJAvf/krSnxG6nWd/8KK2lTzBI608iYSPIPxY1xIwsyCjgTdM6yboWJ2WA9QGbu7BjxhTxLDlIfuzMRde0iyMj09LVcuX5GrV6+BfO+Wl19+WRuirO9VH6G73NJntRsDQI3vIS3wX1+2wy32vYt2u4UG70354IMP1WY9++yzcuzoUX3eSIiG77Dw49JmKBtP+PDQ0qGVHoTkgWBrjgSi2WzKnTt3dL0VKtbp06dl3759SlyKlfWjBsPB4agrV65o1x/ZMifs8tlkz3w+0VH4UljWMmwOTxeoY0XYskIds1tbVu7fv689K5xk+Hu/93taWS7oGVkCrN98s4IE6MMPP1S9P4oKeC9akHWQF507loNuaQRseIbBlQ2HRwHqWhE8tueo/41GQwm3GbqZQUP3S3LixAm9vlawz+ezP/30U3n33Xe1DL7xxhty4MABnSvG8lgMuy1rdn+jw5GWHDpfJScszECki0xMTGhrkROe2EX94osv6ttBzFgrawWGwQoLACf88lVpjn2ePHlSdu/ercrIiptuym8cbQblc9gcoH4VYVcytb2CJBZ3797VSpKvMLOCPHTokFaOdLdc0mL1mVtbLrl/6dIlee+991TvOWzEFaZZCZPA87rV+cV035UNh7UAdZVlgeWC5J1Em8eWMOgwzQoI/FJhy6ktCwwPycvFixflwoULsmfPHp0/w+kMtCO2fG42ONKSgxlMZSNBYHceyQozm70bfCtodHRUlc4qA7drmeH2GQSV0Pa8cHjKvlrNwkBFpPKVe36K+w4OjxLUReoXe1YePnyoPZEk1KdOnZIvf/nLHRJhy8dydZF6znt5ny2XFjwmefnggw+UtLDnxRJ4axAWe54rGw6PAtRxSxQIlgf2rLCBybmJ1M/nnntO62qC+rmWpIWw4eGW5Ya6zrLEnh4SF5ZVvujBHnvOE2PvJa/TPd1uhrLxVJIWm0FFkBGTrPA1NBIWtuBeeeUVVTyChKWooGudwXyWFYKKRSVkOMieP/74Y23dksEzjCQvJFbWUJSxGZTRYXPAlhWSB/aucNycxJ5lxpYLq7vcH6STg2Dvs/6QqNjzdp9l4dy5c/LOO+/oG0Yk8Bw2YiVs7+O2Hwadd3BYCqhbBPWI+sjyQFLAtVY+//xzrYu/9rWvaXkgrPu1JiwW9nncsoHB59ryQNvBMLLskOxzuIokhmG1jXJ770YtJ2tKWsqRtom5HuCz7fNthlCodHNzc53ubWbqF77wBW3BMRPL7tcL/dKOXfFkzxwz5fow+/fvVwVk1x/Dboe7iOL4v4PDMNiyYvW92NPBFiR7V0ia2Sv5la98RXXPEpPifWsFWxGz7LIMcMiIZYDEiSSeLUjqe5EsMUw2bMslUQ5PDor6uVxdpXtKsV4leb969aoSFta5bOiyF4P6Sb+X4/9ag2G34McYf/GLX2gDnY0ODreSxNB2EMW02Wjl5akhLUTx+azwyI459sjJrqyM2ZXHDGT3NjOqnFnrqYD90o7nKKy4OWxEBs3wcz5BkT2zkDnS4rBUUF9shUshOeEcL5IVVnSs8L71rW+pntmyYssG9XGty0mxLHCfpIqNDS7UxQnzrIAZNva6cMKuLcd2u9bhc9i4KOrnSnSVdoP6ZoeCPvroIyUsHBYlYbG9FXRHPK7elaXAlpti+bFDuyw/XL6DvZUcamW5tmB8NlKZeepICxXOduexdcY3Ezg5ieuhsJuZYKVtK2Ibh/XOtH5px3MUW0BIXn7605/qq9k2Thw6YkEiadlIiuewcWH1ikKywoqN5J5dyuzJYE+kHYqk7tmK2t671nrGZ1jwWQwDyzT3WQY4AfLWrVva88gVptnyLQ6drnX4HDYuivq5XF2lexp329Bl7zzJMetZEmRetz2A3Lc2ZKOAYbJxpjCctIc8xzJOe8h9vnTCRi9th+152UjxWGPSgp+C79xVyePv250OikFZSiINDrq5Aj86TsxbOFPT03IDRIULxJFRvvzyK7KNqwfmL7sn+fLl+tVZ3Gsza70zjcpkwT2uj+XZyCFsDB0XFeLZW7dvy09+/GPxA0/OnH5Ju8t35F3mPbHgQceLRxc/esmsNWHMT2DHnufe8A+LOeTZsiYop3xRtyzYkuQ6D+w+JhHmt7G++c1v6qRCW/HZ+7hv9cdeW0uwsrXP5PNiVLwkTtzSaLDRwV6hn/3sZxp+vmrKScIs71oJa/AGh3Gx0K8mb9Y2ZTY/PNUp5CsSSsWcNumGA1PTDYNpwA0Cve/oKv7K/vFMB8ax6pg2dGE7rl25Kh99/JHsB3n/6te/DrIyqmt1gZ7ownD2w4q2bFiivBHAMPGP/4ylhpELvOCfCy7GrVgePpiQX777rsyA/J967jk5dPiwbN+2TSrseaFTpp2JmqZNEb1HK4HJO82T/BlFPfDzc2tKWrjIjs9ljPkERhASIw/NN1w9qZeimedzB71XF2JQwOlPxy9s45ivfs2DIT+Qs+fOojKek1fRWjxx4oiEdGeF8ME+dcVMKGFB/62iPy5oEHJoplHh8iCQVlV7PrCSBzRnCVTANErk0uUrcunCBWnAAD3/wvNQvu2yTdkzFDD3P82HAris+qNEhMJQYXAYTpOckkHr2p5ZML7Ohb8c+sIm2VqhvAy/HQ6ijpEQsLeCPRVsTfI8X7HnW3Q0+Ly+kbq8B4FxiUFi2JPKOS9sCXPS4fYdO2QMjRTt/kY60+DoTg6aGLtsYz/QdXGBr+WC/hfLtkMvPOgi7UQa+BIhH0wzjOkGvcNeYCvBQdBVwQeBOt5LIorVOlUBpkLziM/lcYoT0zMgK1evye0b12XEr8jx50/JoeNHdB1G3k6hHaFR3cirLad52AJr10Cw+J2xCGkWI8ZhWhG/HaIB78nnsJMkL1xJ9yU0fA8dPiS1sRElL0p2AH4br5h+jP+Kop/fkwaxISZc9NLmM6qaCJ5yVt1Ifm7NSAs9pYFizldUEfBARpYbCq4PbW3j0mKs2iaehfqZpyJX3+QSyq1WpF1fl9DiarWacuL4Cc2AsfFxdauJbL3RbX6Aa8XKyfr7uFDMfE0vxNUmF4sll/Evgpc60cBBm4UfZ+N8jRdOnOTqjK+8/LK+p0/27HmBhBUaIPMhuUWSe+lAQAIuX93xDzv4RxukW3CG5f1TDk2hNUyecsViSQsnpHNiId/IYU8L34DgEAt7MdjSZE8dSctmmR9l6wfGhfMOSMJiEJmTp56THdt3yJatW6QSmrgw/uoesljruJR8y4LT+sVg6zn85PmBnOnqbOljmatGKTPTmKspmx6YuUZD1+i6ePGC1qFf++rX5OTRY6h8AxhYOAN5p10r2pDMLk27AVFoPxpyoD3zBA9QXzPhscvPA7As0F5wnthFNHz37d8nR48dla1o+I6Nmg+d6qdritHN02Bx2PKVb/P7YusdjnnF5Lm5WDQXa0ZamBxNPNVH5AOItro1kWwgMkmGEQFcGnLV+FIKuSUW/LBac74hExMPQFjuynUwZH5A6syZl3Ssju7IJj2EwXQHernyIdUYxATnsJupJV8fmAwzUF1CnGzGkY6wuBRhYtG9rxGBtYKQsPDxvw2jw0r7rTff0lbmiy+d0fFYu4ZAJRxeUS8HDEeA52tXFbxV4qxXEB60dPikUtY5FKBpw0RcIxR1i5idmZWJyQm5dPGSfrSQY9qczKrlBBWz7VmxJGCj97SYUm1ICIWfBAiDUMkLjc/5s+cYGXn25LOya+cuJS9hgFYmv7CrhWh44pfTb1mA1073B6OF9GH9UOEwC7/nAJJMGIPLi8N0D9eVTQwALpezNldpA+4n89LUhUUfytXLV+XOvbvCD3xqQ3d01LgDMcntu/b+6A7F83F+45YNph/TkfbDBjpE8mrPKzlLEEsbO/yUAMt+grSP22btMk5wv3PrpmxFWTl08JDs2LldbUexLjA5tRQwE5jL3DL9uGUnB+mpCZl1oT1YapNxniQCWNOelpZGA0mFQFFZzHilAb80m5S+s6AGtgMmsUneflAFJrMoIU7aOsn26pXLcvb850pSXnv1Ndm+Y7veYSuygEwRZzQjIaieVQErDCuDzQAXgmcr7MeFYaSFl8KMHWYIYH5OP6POC3TE8HOYC5W1D6VirxO3SZzovBe+aaSTKg8ekCNHjmrPy/g4Jyr2tmKs15oWy40/SwfCkPqxxBowk8KBEkOku1J9h8cBq7uW1DMvqV8tENm52VkY8uvy8SefysEDB+SLX/qS1Oo1/Zghya2dP0KwR6Y46XajQmsdxjFXWzvXi41gzjuIm5FcvHRJfvnLX+pQKT/NweGvkfqIeCQulG7B0vhqCuKHZ1elugxTvuuwEDRcqLGQxm0kFWwE8i6GnaAkuFIZYhO0PpThPTE2Vy1IcO1vu9WU6Qd35Nat2yqcvH0GurF7725ThhA22wAzjUZ+F91aEdUMlKuNS1o4VM+wMw6xx1oZBAX2IgTR89FQj0BZUh3yMqmk5QY32J7Hdv6G3vVr12RktC4nTpyUvXt269ArCX/KAlcAS10v+HTCpJUxaF0heaILTiHh1BKGliMKIW0Jg5KPaz9S0lKszJjJbR0i4DmEAlt+EC2LkUgMA55aspGWVCs0nbreLQTuL7pP+Gl7kJUH9+/r2zOtqCXHjx/Rtwcq1dpCr/h8KiLBh6FGs0NpPMugsfCsF8qkheCnuAge+0lLeQrnBxllAQlDgQkRCeZtRHrK87yEeNqoWjSipirghYsX5cCB/dq63r/vgFR0vgvv1b4nvd8oca8HJe9KYAEwPSoBKAvFfKoLhUNbQtCFVTVXnyxYUrFWYHdvgrLIz9TzSXGUE/urV00FBGP9ymuvyu6dO2G0kT+lLu7ycMlah3e1YB03EAi6h7qCX22fb8zLxx9+JJeuXNKPyh0Bgd+ybauO3bNnxsx3gQ6jLKhZ47047k2NZaJUR250Avi4wQYucgd/EYwX51gh0f2apEmgNqNeqPOJsi6y93wYfG22d8EnsTE3MwPyfu26XPj0PAzyiHzjG7+mE7eLFWdGG4bMZ02mucZref7pVBnsau89zrPMbLT89TiCQM7nJZJFM7DHzTwuOI8IZLAfpF8W5aCbTodMmiAvH7z3nlxF3cEPofJV6X179iKbeoeNF9YT+nCISSxz2ZYmNCravMYe+hguE4mraOTWxkSqIzjyYEOMf2vY08LJMwgAEqJCQ9VEy+5hQ7y5VKoRkom6w8kuHZRTqHTcD4VEmUUlzMXhOH+FifjcqVPwAwmibDF31+Mn93EeREq3sPQRwhNvqYi3fVSCuieVdTSsZdKiCoDwa7pi/wEK9Qy77gIPScvCRM4PwoK0DqGcMWdb2egiDcoxidmCBjtuw4C99/77cu/uXXn9C18Ac96jz2JPFOHRgOG5HtOyAM6SHwQ+q5FVZQx7e5Guu5DZo+zqBWlJ1QCQYK1f2m5EFAs4s81m3aOAVvxAHMcyNzsj9+7dlyuXLsnt23fkC6+/Ls8+d1JqIPbMOC9kF7fJQ4vNZFgZ7qGkhUBa6yf98zQngbsE8s66gwts7Tt4QLbDYI2wBZkTFuOl+e0tCcsDfWBzwKE/aFgzGK3Ig+FCJRgmFfFnfInvRlJtV1FvcM5JAcV6hJUm7h0Mui2410PzGjPn/E1PzcizR56To8ePwS/kMnvciv4TzDqWh/xeVQZt8CLcW1Dv7kKDt9AbuZHKDg2/j1auH81JdP4zie7ekgoIG0kL62QvI+kohLcUdeSC9r5wHliK+nx2bk7f0GOj5zU0ekb52nfullhIWuyxTRudWq37RDWCjVBbFUsThHW2XpWdZ16SZP9+aaF+GoN/vPORkpZiINmSboLR0YjWIwTsVlOu//xz8W7My9icL3UENqqUFKyYv6w5e06UwaqkazjnZud0Dsv42BbZuQstRihdyp4dXGO4Mn7Du9CCTGiU4abWTsCd2tKGsk+OtMV7dpfsfeMFqR5EBlQfWdIsG8NISzuN5c9n5+XC1ENkbiDziFeCFjK7Jv2U3WmsaM13J/R+3MvxySISRh+XdTIVwDdGOHapr7Tiz34inX5YKWKhQvYiRFh2tlryxo5t8vLWcRkny4YXCcLahvrX1i9pNySK6cmULub/ahHHXBwu0vUluBjW5MSEnDl9RhciHOXS+8gTndVl9SWkng1GWRc2EhjuYaSFVSLnvJk4QNNxA/WdQ6h8S+TsZ2flHsjLtm38rtER2bN7D8jLKNLHlD2PLWjj1Ypg3zLZyGm4nmBjNvETaYG0MM1HGjWJ3r0j939ySbbNVSWpsfHTRbke8oaN3aEizdSuGGi+w0bMNeb0zdJDIKu1akXP03bw7ZgF/uN2hovlk7oUoZpsQ7KqL5VTO6T2TfMVfpu/GymfZxCWALZjDI2W2//+P8jEW2/L6GxD57VkqO+p4cXgluOe6ZASywBc5g0hmokIDV8OJXs8V7jH7Pb60QXrG9oeY2eYqj4JKm7isFUDjfE7IxV5/b/6L6T25S/K7PgYGr5rTFpYcTQQyTDzZaQZilycl5vf/aX4n0/JVjDnUbDRRmhefjaAIvTkLyNjI9QHGrku6VFFQoVCJeFrvEw/TRQGCf4ykYsKlMBYk11Wk1iqcQTli+VBHSz+lb1y8K++LnJiq2TraFntm1WdYRSSDmgIe/gaiN+/mp6Xd+7eFvA/aVZCiX2we5AVHwnPcUqdxGajm6dBERkKZIyWN1sFJHNK6gCmEfOxOJcBO7ihNy2GFUZeqbcjOQQS9Ft79so39uyQce1pgTriuRw6qpf8e5rQWYuCKcVkb6G1gxYPYbIdV4Ymz+C0XwDoPd8IunX7jnz08Yc66fQLr31RdsAoMw+1Jw2wPWl8bMZaDHmkZUrDATc0BnXoTMBx/GU8f43AdGLQujbKzIBjjcIlC2hQOCpurgBwR6d83Z7zJKxOMysMaWMRwzHKFnujPnj/A7l69Zq+Jv3ccydlz959cGvuMyVlZeBj2Z4dQb1Y1zLEAQoGwqQ1Q8JwPq1gGkQgLZwQWslCqU6jDv/hdbn9h+/Lvtm6RGO5wxy9hhWpN2wiLJyWX3m266povaf50NZeOKJcx2m5hRhtUe+08ddCmWiAjXov75D6f35Ctu/eaYaR4Ixu6VrLusL4vR4gaeHMoPHbd2XuD/69tH/0M9k6Na1EQW2tvi4+JHywkVqq1F4gRowgk5N1R24/etCTN4RNAwL7nVvM+Syt69OZE000wq+N1uXUP/pvRL78hjS2be3YjEdKWmjoCKsEDFTLb0sNdNS7GMnEH3ws1bOzMhLxkUwgxtgCCZpXoEuBCXQx6FaVlgjtjeAmRiiQEUkgU5VYWq9vl61/43mpgLTkIyTrAp00heenaHpQqTwdxgqlBY4xid1/N9WQt+/dlnuIRSusSgjSUiGjAXjPQoUZjnIBLaPMusso3x+DmpyMIvmrO3bLb+7docNDplogkYTb4Vb5iQbnVOAXJQAZPIn9yw8leNhSdY5R+bFkcF7SIHiccTUkv3g/SW4V/ietts5d4Vo9B44eli3btyHpzVCQhZLUfJ9Iqy08gz12oQScFZe0pTUWS+3lfTK3HQYXV4dry9qDyykwzCQAASwH53VNIU73Qf5uRw2Z91NUfIbAh2zboDyRzPCNxd7QUxfzXYJ6DjdMk5s3boDofSy7d+3SoVPCLCA2OHPYEKIMQoTAjKB0nPHq8myFM73ayHPGBQ2ozLQ8h2T9UwG+pGGao4FUZ2BDfnJT7v+b9+TQ9CgaW0VNLQHJvlzNtD0GCpLXoa9Us/4yeaVvQbKgIaxN5OlULRbvzA7Z+Z+9KOH+cYnYS486jzmskyWpNxq09ctdXTOLYXh4Xyb+1R9I/Yc/kJHGQ0nZSEk49MZwDknfRbFY3BbJmziVVpW9QWgWpRW5MF6Tg//9P5TKV74itXAc9tD4/1hJy9QffiqVz2dkpE2WhjYPaarFChRuVVgCaSlP6lrMsD9KLIW0vHPvrtyFiYqqNVwxc1kIR1o2ONC6014AEILm5Sm5/efvi3f2vozgmN3NFZAFnQfWg25ZIaHg7yDo8Af0pcqhDFQEWQp6FIaShSAxuJXH+DWOAQ6NFHMjQSVMEmAMsEjDj6R9IJRT/9nXpX1sTEYCrYrXDVSdBKSEYWM9xiHRGAbnAdT+gwf35I9QKc+D9bUQV87zqoEMcF0gzvOLqafFyGK/R7dxWesv/qkRY49k2wyXMtJl9yVQtZH6+dFCjCWRPJO05Bvb9sqXdu2VUZBUzj9LPRhokhb6/zSXDWDdSAvvHfJKtdZfyBuWXUNa4J6kpdKWqSpJy05HWoZCE2AwFpCWETn03/83EoK0VIPxTksOoXx86BT23KbyyMpKsNr7h4FhLcpGg1asBVlUIVaJ8vPK4rB0cIE9TjKk4lYiT7bMhbJ7uiIHJqryzIMatqOyZ3KsJCMd2fWwJrseVAfKblzfPVWX7Q+rsgPbnVMjsn2iJttxbed9XJ/0emTPtC97C3Lwbl0O34Hcq8reyVC2T4uMNjypguus99CQPh3pRrJitZ7GgNMzuS7UNCqX20Fd7oQjKrcht7y63ITcCcy5u9h2BMf3KqNdCUfljg938OMu5BbMDs/x2n11MyL3q9gfIPcqY0PlAQjfdBbKHFKyDSKUancuqRW2G6+aefrAhvcAYZNLM0kVj9v82GFNoHYFoqmMLLB47KRFhX/KcLvCQPWeWVx04kou5q+/u37yREDz9PFkobY6h4jD0sHUotENQAIqsQ8JIFWRdl38qK6vd0YorDTEKthnD4GVNtI7CgZLHMINpAnVaOE4qYfSqvAaHkFBq76NFqWVCAa0VRC2uigewlSNKlJNQwnZOeOHUuG8MeyuK5B2Ng2V+6FOYSOSy31nYSAjaVVqcSj1uCJ1RLjaBuFCOlexX2/7MpoUJVggY2jpsdfLuuV+DRlRbXGuljk/SOh2mHBAax7EpeUhT3Ck1RfyVGOE/SencloLLJ44NgmXKr3o56Kf0IKWjnU+SMGybngw3OuMYhL2CY5pDOcXyelzN0MtXrGX4VG0pk2rnMWThi7fdv6AAglZkhRBfennZoDgd1EU478hwLD3AOk2IF9MWneljMWul0GSOUwclg6dZ2H6ipERHLLxQSYCNbhJJZQkZDFtw5hxmIaT39qSYGsl82FBh4jnYUuptCWrcJJ5S7IgUuF5Dl/omgy5cGl0juVbadYDSCiNGskOewTM0AoLjU5iXW+U1BUarOWZxCUBk/FhQDhXBJQNFVwigc9VPnmOb6TE2C8Kh34WSsBh48K+laKbvoLnDhOGMwZR1B4Wlj2cMRMhXRnqC+Rpp1G0WF28TBugsgA8txQhsEV5UBtBW9E5v8GhvXvrD5Ni3b8ymOsp5//hEvftMhuLht4atA1lvB0cNjVoqky54nA355nokFGQgrzwrYlEanGClrsR7vPV/B6J44FSbZttndsEWys8VsmGShvhiCCca8G5IyQDWm2gLuBn69azJuCzzVwvc0zYXV7jNIP5SiKNaiZzlBr2KwJJsc/jTOar6ZpJo8+5orR1XJ4hpgZwdoQhUoiROV2Il8M6gBZxkBjt406+zaUzVOTwOKBZMQjFFvjTTlqKvRLFdHFwWC64Vg2/gk2ywg4XtrTDNJYwIUmBEWNPc74ms5HiPntGCvtDJEWLPsmHgrjlAoR6zVayA2QUJGmMEiUyEqcgPuwNwK00s49pOHIQGAydUMt9WwxxkqHiIfsuJKtir4KogK1g38O+D+Ei8F4WQsyaRmslXJl6kHACJ5NZ8xwtR/YEeR5jg0y38XFYH6hqa3fNADHlo7OvUkT52GEtsCTSsnLCwvv9wqxp0wlkBK1NVtpDZCj6uC/K8JgxZDYkBAIIZcy08jDnWPmtKznBo4sh1BN5nMy5vOBo4jL8ONaZ37y6juF2WBQsBexZMTmVCT8oGrKMgSCwyzoNPGmGvjQruWC/hW1HwmCoRHY/MBKBrLRy0Wuw5c1qNlACkKcApMVPUuzjGMHSDgLKhtAt6jnDwcLOrb6LhSNPPxNRiyER56/kkuAYYuacYB/n1lI6z+0j/I5KoZ8NYvfzDnJz8NTCrE9l3o9TaKLkyYJr/er6oiyGfvd0hNfxpEHSRb9MMufsFXjX39k6I9cyoBA4nHo8QbXPLoJPLouB0o7eUwpN20GwZGVlvQvMaPiB21K+0M5XnGFU9RxamfZ1ykGyGPrdU5bhQAsn09mFqDrYKoWx4BrHHJdGoPX1MGC9iIvGgWmXbzWnEBYeU3Q9ZsSBiyXpmwc8yzkNSrzUMWSDAkGzOrUy3drcYAu7xm8BIZO5YBUnYnJxQOFCfyF7AwRGNoGwl4OSSBUkoispJBsoJEAhyE8VhKOO4xEIe0sqOKcECbrNNX0GScLJuwhKUkG4sOUn42NmkWZTPoaf43H3wLLmqEobcYTWs4yycKDMmr4Xan4FIeSQFgVhQ93DeUA6Pwhlhlt+02athMNpCeq6QcKGEYXh4wcAkSsqpncM4X28ybnxwCxDvrIHiqJv7tiePuS5bobIUKBa7HdPr3RJykKhB3lvZWefWwrqMWzxi3PUU8bB7HNj6/L1Beoa3dJWsNyYBGEotQNJr/amxvJkMdB/+4wcmna52HRVgcsspskDEG5dpsHAXHVwcHAYBq08uMl3Ngm0OgWx6siSKlcHB4eNCkdaHBwchqLTG6aSn9xMyMmK9gpRHBwcNi0eA2nZLLUcOwCBjUrjCnWthtPWv5uxDnZ2Y0nYKNlLwmI/oLnhUS4U2NWjjZCQZSxCAh/30JvDysBsNHk5JDMdlg2r/pq8Pvt4TfquaU20mfLQLj/BxdqYVhuvukCIkIuapPgx3d12lcbFYVvLnVbzY4Lpkl8IE/6uPM1YUAiRP5oiTBemj55cP5jqQpUuP7PxYDU6STjnJj9gkDX1+JuffIy6PxQIRqAV8cIqmOWBn0RxZWNzwJJ6t8jm2sALfPG5qGWevpuk+eTg4OCwfLCaU6LOP26dYXFw2NRwpMXBweEJB4gKe1g2Si+Lg4PDirFmpEVbOBkfgL2Ui2Nx2AUnvBT/dpiDxwMEbtWPQcK3trAdJHQzHHwO13cwr2AlgQg/DcJX07gmhb5it47QOPYJA88zfiaCdNBGDMzrYHxNm69rm2XB7atl/aX8Ml9Z+t1TlOJf8Xz3XoLHeVz0nBmDYxo/zdDXHyE2lQibbuYLv/pyZU/adfcXh+ZJsSytQHryCPudQ17OdzcWuqHytVyb12Q5/ELxc8KyWNh5vU9y9MhQ0M2QP15VL/Bjys5C2CFcytOJPK/yoTGWCb5yr2/FLoLiG7QLhA7KmVmWITDl1nzsVF3m7nUYj9v8r4vuvtbG656deQDSFDaOS34gVDpXDec1LhCm+SBh7FCoVip9QUOuqUPxJUhQWsEPuPAmP8kRIGz8RhtOd8AQrw00kokEXKdc32ev5A9OtDLhZ70zXbdgkDASvKG/6C/JzwDhIl39Eq4jSCR+00W/3gm3XKW0FXK9DCQSKwz6X6o87BjzYxlnRvQRTM2g4tMYEh/XGEKP69/4LRy0TZlLK7q4FtfisEZwkLBCGCYL3CMwRUkRCJOGHHs3RkIF9/osDMhyXg2Ql5p6uiYO0934+DSDqZVAp5gOSr41zanvPMOtnsRFe1w4r7IItFJd+R/Laeep2Fejz1zUIPFHc1SxkQyrlgkEMpQY6sd1PqiGWu1BTFXH+GlZGSAaR2yGSumeHuEfrNMgof+sG/nHRGb56Ydy3fO0wQfL8Lg2B7KNJqQFadKM9ObEAslroQFi8n/YXz8/rfAqG7YkLTSoBuYusy4QrZueMjYid8JsJ+nSa+sINcW6E0s1aetaTpKF0EBcUD20pb6/rPZPM7NQBjRX1HYYiXxfQiSUn8Ayh5lEVa4thdKLRG8yC3IwtGsCsmOSgwiiC1NpxcE/PpKBD6GUg4VVTxT4K5Y2hR+iGyBJwGfUkGghMg9VW95LwYW+ojxtNzaY5SYtmf1cXp1C0sWCZb4RM1gWu16WFGlUFA+ieaqENESC5fv5MakKw9P2uA/o0vPM/zVUuk0CpoHtzeO+FdYZ3LKVQR3kV5kjJG0731phq3EYFltKfjEJoPx8BIXhNMYYKIR5IyPjJwtUb02ZyFg2WE50i3KDCAwV+jFAtIdsiPD6MKEbh0WANCKpj1lnwNL6KBBc1ZirGXs4XpXoZxyGSL97ciGRohGtYF8b41oSTEkx9SCON3L+UoEJpC3LRYK6mftaK6Pu0ZW4q4OFC9Kxs2GlYpSf6ZSLVmRdqZCkauON1iMPLCsf7Hc4IkDXawayz86zEJjOsIsGHhEBORkoHK8ZCvqxcqjR9kFauBolFK6KROVy5WxJssCoTm5g2NYDK2GmhWY1EjiGtEJ+6I5xQCU9SFiBD5OSe6pRUWgE1BCoChkCpYJ7uWVB4JZ+kbQkPA/RUBcU8GkEy4ApBxBkXOe4AGsE1Znd5kKYXB8gqFj7VbpLFjyE4WEvkCUsNnwsIxsZGcsu9Q5CnUtRDrSs5Hppy/Yg0WEERHig4Bn97rPC69pgGyQaSoehQDrzM5LMPyYYCUKVjSTYBFtWViYkQPBjmPS9LxcaX7QIuaI0G7jIUA1ssSdNiwdPW+A+ZLua6eLp9QBS04QBZaCFOr2JhnszrKCBBBuoBJG2l731/SXlatPeyiUOKEFHIj/sEV3BWisdT9ra+M7TE4lI7mDBeDwyFLsyuRekmVRAVmp8snYDJQgYxOdS2jGOuJ/2lQxi+gPKkiACibbl2bGlxyrFfXYNd7ud+gkTiK1ZGnpoI3hLbo7hN8fUmHYbEex1ZEEw1V+eJmkbadJGmLmceYSyxM/gx4hHV7ySBBnOF4T32n2bhpLAX6YJth7dFIXnKHymPj+/N5eRdgQiyHMmpIboUCtMuJ92sBIsQg9zo8eyW0ESqaAiBAfVJf+tLKabJIzFinT5f6b8WmF+dfUuD+sGhGoa//NwKmBgkAR6bM6ZGA2CdTdIFqsxFwxDl4S+6C9+mI3DQ/MUAgli1Jt6iMTGcQyFjzmxIWyjvobdKEoIK1KU8nXcF9t9XodfKer8DAWJkoKFF4XuB0kKYejoh36uQc9zH9v80wzUNQabvWrFvGWZXkR11h5MWCheEvgyWwnlQa0qD6p1eVCpyQS2Db8q7axX4oJMB1V5WF25PKhUeuQhnt/jpl6VSQrP4/o0SA6/l0aw3rPwWq1W4XD1sPM9NIOiGE/DQ9m/fWVe7v6HdyQ9PyFhQsrhw7jBDdg0J8mVx27Z48FvpXRhKlM9g2t0noJgZCnaVMgEXu+Za4LrbHUNQhvMMoJw/keF8y38SKaqLZHTu2XfX3lN6se2S1YtPv/xwmN3GqIVo3CwrRjECAvC20ScprH7xzMP5b17t2USpYHUgq0IpifHWjkkVwczNilmsGAeDokZ0x27vMJ1IfgufJogZ7D1kG8JP5qHtE1wbgHAgnmjLYi4Q7csnEQ1a8mBdiq/vvegfGHfThnBOfa5MIw0pMPy5kkH6ZtWIBykPzcr03/ysYSfPZTRCC0RpD1JM6crDYL5dlcB5bTUbtcuuPZQD6ALxfvLZS/lt3xywsNvhs1WWjL9TCCH//7XJHpui4TQL3sP9ap8/9qCz4ugvnVD/CheCxVuKNehYe/em5LvPpiQOaRjFIYSoIXH7nzS5jbiwkaK6do30JBTly1YLnoStxdqlMoo3d+bur3w05bsa7fkt7bukG/t2i27K5wfBoOIMhxkHGJl2RgSgCcd0CXqlKYh67R5kYc/uyJ3v/uB7J+B8dRvrnXBuqoD3JKW6zlA59zB3wAGMGMa41ySom5jTxyuhUEo7bit20Tn3vUH9Y32gr0A/Go6qmb4Bb2qsIygEf3CLtn/+6/LyL4xGFvkKPKRDQ7GQ3v88GDzksT6wItAsGD9o8aM3PqTH0r73Y9RdOYRvERGUVdzLiKDa2GKdTd9UXp6rhu7XapbCmAaF8GpF0X/yuAEerX5kJmKL7dHavL63/7bsv3UC5JWxsRDWSHWlrS0EEUYPR0uuNeE8n0m7ZtTOA50vJIZaoq7+S2CCsHxQwvu2cqRBnZ2dlYeTNxXRduzd7dUQn6OvgBzg9nvgxiJHYccstBOY0gsTYkkPLJDdn/hlFT3jUuWJ9J6YAFpSRiWUFo4PQP5YGZKLk3exz4LUAUkAS1yOGEroIUWRZWkZUHwuycy+GeSx6RRs9mQ+/fvSxAEMvHwoRw7+ayMjY7lhAVVSMmvJDT3qeEA+Cz7PF4J0LLZifx/eetOeXbXTqmwFYI/kht+EK1v5f+UgKQF9QMKnyEtE5a0tNlVy/HyvLIbABZ+02tlYCr4/ABgObEksh8WVOzqvgtWTtAONaCslOdA5qefCeXo/+Xr0gJpqfDpRnm0vG8U0nID9cqv7k/Jf3xwX2YRpBZaar4XSg1GgykWQQdjKGmg87EMTMiL4S+lJaUQP31k0TlRcM+8YIt7EII0kr1x5EjLAHD4Ths2CdMQCR17cv+TG3L/7Quyrck5GEMKBlDOGqvrPO+DtKBJIFNTU/Lg/j21I/sPHJDx8S0StyO0n9k/39UNHBSzVgkH9YjzJTnszY4XfpyUvTjzlViqh7fL/q+9KNXdddiSBHUeyjGVBfrHRhp3WZevF7wI5Rq2Yd6LRS7dkdqtCYlB0mIYjnqb0wpixK0bPm3SFhK0GqH+LiQ/1zwaTEFM2vfGtpC2gPG6+wD2bVT4YVfYnBb8nqqFsu3ZE1IZ2yZ+pUbGqO7WkLQgMEiICIWyDWWpNcBEHzRhHXGdn9dHdGrmw6y8Kd8pAvfr5KYcuRN+7fHB/Qdy/fp1mZmZFA9Gdmx0VA4ePCj79+83jghWNN30WAijQdq9xxn8HGpir002AmO/fUzSGjLEWuR1QH/SEmhmzuNSK05kOmpJW8kaJzFROKsdzB+Kab6Aq17l6I0L88canImJCfn4449lfn5ejh45Jh988L4cfOawvPLqK0pcbC9MEbCvik79ShKU7xKtaipbWrHsTUPZWq1q459R4pM50bMcnqcKqHjZoPCbaPmdn5X7f/yRhJ8+QMXBnhakDfJkmN3S8fQhYC9ljwv6l+8Stox2ULqu9BLP4Fdr2dMyV2nJzJFQjv9fvy5NkJYq9YHlC1h/0oIfHDf9CkiLL+9PTMv37t+VOQSpwdawkhaSAb6dYEiLn+TK2w/WzxxMmfKCdMXkN0677k1tMtiw+hlIS9J2pGUAIuiSTidAy9+APQORZFMRznMWem/alHW5Vxepxzin+Qf6Hcdy9/ZNuXDxIvQCjb+ZWdiNA/L8Cy9ItVZXkpJmJd3o8R7+oeyyYcE5UpzbUsUDEEKZ92PxYDtGt2yRbIxvO5meCzYmtfJDuFglry9paStpmYJZ3RKhHmYLGPtNNN6rIGB8G7XA5xeUa+0lKqp2qVwsACu5IpgAReRDPxbzaAhXwRlC2DamNYfx2pWKhBwRwXOzNSctjDAe1MKDkJ3aC1ADU9MSj8BxCKNajEQnguYcj3hKvcMpnm22Irl7955cuXoFF1I5feaMtFpNeeedd6RarcmXvvQl2bVjh3lRBbA+slVLFHuymAh0wE/wU+2YIcgzXIBy55nhr2PlwcmUjDTHThkaDhlQ+WnUqGsjOGQUdP0CbCsIO/OUt/HtIb0HYmGTl3EleL0NJb5x47pcunhJSeDv/u7vys5du+Thgwfy53/xfTly9KgcABF85sgRM2SEPyZNgrSyaUTYve4ZKCBCN4pt3WYi7idpoTml0V3PwrveYEucaVhphdK+PC23vv+RpOceyGibb7RBeYuVhRaAXtBYF9OalQudhezVxE4031AvKkEInUe+Ma/ojb0J+0VfLQGxiDqHrGjRMgtbEh2qy8m/9VWJj2+VCu62t6wLaUGNgtojJ3b8aUsDFeBDaPynE1Py5/fuSwPn0XZG3FDhsSSgEtC5CAhrgnt70U0N+qmvgnIfbhk/NpRaqHuCMFDjxq5+24osx5xne0lLcR+t1bQN0hLLl7fvkq+BtOygjeR8CGxgRpQoMoZPK9pIc7R3UInl6YbioOlMu4FTtP+LA/ULnLNMsOKj/s+hQXbu3Fm5ce2alolvfO3rMteYlw8/+ECeeeaIbN+xXfbt3a+9MVpx9mZbB3y+rXNp09SOAHwBguUI3EWXJWNj0we5D9Uz5ucGIC1tkBYEeA71RCUDmU84GdeUdwRZe3d7kpfBLqCdx3ulMKkwGA0Iw8H8pzumdYr8qzJd1Tabpz9y0jIMw1lxL0xlgZYR2DGBcMrly5dBWu7KLhjW48ePy9atW/XaAxjZzz//XKIokiMwsOx1qdfrHf/tczn0QZTD8TSAwzy2EiYajYZcuHBBe1h27twp3/zmN0H8TGVOd+xC/clPfoLWyIx87Wtfk0OHDuk1piH9qoABL4Zy+jsY6IQ9GMKwDRL6cF7unrsp7fvzUo8qaPGAZDDd8M9066ZdNw0TEIncYudgOqOFEla0fEzem5SknciBg/tlC1p+HEKl4R00/rygFw3h4+M4bMoJkE2/Lf6uMTlw5oQE20clK9v8xwjVKBoK7kBIhDmYRRrD+Qh3Z+fl/elWT9pZPSTYTd/mPLsCLJEnmBIh6h3ewbOzszNy7/4DmZubhVHyZQzpefDIUb1O4qJkvpCunCPRM/IPT7q+i4wmkexAOA9s3SaHxrfKOMLDdDbEhffx1dvFy5ZDf9BmML8p3KdNYF334YcfypUrV+SFF16Q1157reP24cOH8umnn6qb119/XQ4cONBTX7G+Kx4/zSinQ7FcPU6sK2kZBrqltMEOOdfi4sWLSlxISE6dOqVuwpC8zLjlHBcq382bN+X555+XY8eOKXEhrBLbRF5OOJ4UMO2YXiyok5OT8tlnn2nvyosvvqjpVavVepSQ7prNprz55ps6bHTy5EklhCzErKgdaVk5dNEsdv9xQRZOCmXTjc0w2iwmFdWadjBPtsWSj9fZML1+/ZqcP3tOtm3ZqnnHPN27d58SzmoVrXg8gm4L2WxQPm5B+EwKr7GZU0N5HPEkCtASXnDD44M+memUB0F7FhFQvg3IHoo2ItjyuEaLAZ3ZfYJJO2yqGht0XMiKk9BJAG/fvoU6KJbR0RGZmpySqfsP5UsvvyaHDx9WEsNe3UKnI0dJ1Y9BaKOly7COIINZOyFZQVJAYnHOtMTxt7TuBIc+sHWNtR23bt2SO3fuyKVLl+QLX/iCPPvss1ov8Tq3bIBNT09r440E58SJE7Jnzx4tO6zrbEPXwaBYlxftxePEhiUtNJo0liQhJCxUri9/+cuye/fu3IVB0TCSLZNNU1H37TOV9bZt2zpubItyOeF4UsD0Y6+VJYAkLmfOnNHKl+ljWozdLd1TWGg/+OADLdQs8C+//LKSwaUU5mLeOHTh0bLR8BIcalDeYrqPbUp1tkg7m44W7GQpdrTMzs7LZej9lcuXZRfKxwsvnpJatSrvvvuu3H/wQF7K87laYxdJl7wPgo+wsTOH3d86bwQ77N2JkeXsDxjJ+Gba+qEYdyUtavRNmrH7vZaSxnCf4G/hBsJMruqixDrm5hpy89ZNuXXzlqYjh6HHx8ZkHvULhxgm7t+VZ44clf2oY8ZRv6Aw5DcTNmNzlB4VB74OW+lbiwg8J4bSDXuAGBdiPd8w2exgeaHtYCONjbIbN26AcI7K6dOnO41Y29glWCfyHhIc2+h95pln5LnnntP7bFlZrMw4PD6s+/BQsVK2+zSWHJY4d+4cWjq30Vrcq116HL4oui+D18iWqagcLuLwEbsDd3CeC+4pk5ZB/jwJYByLaUUCyHRhQbbpwtYEe0yY3jZtrHsWfO7TD17nUNJbb72l84aYnswTXqdYclOG9cumt4MBR18MkEd5C5tLg/M0f9n6JnHgUY+9tepqJmKRicpttCKvXbsud+/d0R7IE8eOS1BjXpr8/+ijj2Vqekp2bN8uR545IqNjoxJUcD/9N1kOwGPrNzATmF409lfQuHKmDa/H2ofAyYfrO3xRJC2aDCAtnLdA4sJrQVJ4LTbXwQ5w2CpMsNe9XD+ZXo2pWbnx2WV5+HBChwpOvfA8PGR6IcHSRObaIC43L8nF8xdl997d8tLpMzK2ZTz3CMjLBKGEpARQEyUl7FExsx7pxoSdHW8MP2e1OCwN5bqFxxzaZsOMLxiQgBw9elTrJ5IVXrf1WnHL+o624+rVq3L27Flt9PI+9rpYf+nO1pNPK6xuE0yT9cBjJS1llCNtWS97A0hY2BtA40rFs637YQllr1EByZipfDTK7PLjPBga6SLKCrgRMuRRgS0HxoFpRgLInhL2RLHFzflA5bRYDGy5MD84Nszu1F/7tV+T7TCErAj4rOX69zSDJqu7ZwSZhWMYRm67apiD1/Nd7sQeSGjD9EKev6Br6bDre+fOXVBq3GxeqzHOgWuXr8j7778nu3fv0d61Ldu34VG4Trd2W0AjJCnJ1Jxy7lu3XUpwBsk6TmoBiqRFgeDbU9wOWwOI19skObkbdY/6gpPSH048lCuXrkhjck5OPX9Kh6Kr1bDcESONqAHjdg2G8YL2/HLYlGXB8wLkBQwb8oOB6mfeQq4DknGeHgOtKYxd1YB8eIjCI4elgHWPrcfZeOKQHntMWO+RxLO+WypYX5K4sGH33nvvaS89G8vc2kacnffnsH5YV9JiQWWhUtCoUmHIkqmIlrBY9GvNF2GJBpWL+yQ/NNac78I5GWTOReNaJClE+Xgzg4WZJPDatWva8mCP1de//nUZHx9XorFYWpZhKwe2Xn70ox9pJc0uVPa4kBg+7S2Q5YDrrJgZGIZfqBG2PSsgEezI6L7BY8E+GPyhnHBuxXmQlWvXruqbDywnW9DatxNC+VvMDS7ydPvWbfn4k49l+7btsnffXjl44KCElW7Lk/MzLHR4KN/XsGm5oJjyxdc91xMLSEsPzLfDBoHpHZYmnczNzctVELsbIIGVkaocOfWcHDiwH2kD9yW/uDZH0AJxw8V79+/p3DDm5amTp3TJBZ+9WMOSRwMPTzSB+ZO/LYR/XtHTeTo7LA4SFYJ1PG0HSQvnc337299eUT3H8kU/+XIHbQfrNpJXTjWgf0uZy+ewtlh30mKVhK14DkFw0hSZ7Re/+EUZGRnR6wSVz5KKfuSClYitgO0x/aXBJvNmbwPnZFD56G8/P4rn+l3fTJibm4NhO68T0Ej8ONmWY7RMExKMlRRmm77sdXn77bc1z9iF/uqrr7oWyDLAAsfhAEJf5eSWP3lJtNeK4JsqlLsoH+9/9J7mAV9FP37ihBJRewvzJ8xX/bRIEpYxTqxuaAvy9u07KF9v5D0JlQW67nNWr7IpHoFgaVeDFWJ9jaqGYlAQeH6RskvyZ+qLBCR8Ui6DsFCXWe+8+torME42rkbfi28HZUjHlKtTA+ykYsPo888/0/R97uSzIC4HpJbPncADzLYnPIWA4zQJC6U3xAU3DkPB+oxvALGuo+3giwV2OIiy3MaUree4ZSP6/fff12F1+muH1B3WF17U5OIpKCZ5qSkWl8LQ78pQKImm/LJNYg6MAfS1O47s+OOPP5FZEIszL52Gcryo7nSRJSgP5wBwCWZ6yPNah6jfhtCoW/rJA60IANYoXIY+DLSCv8KWFJRvx84dcvz4Mdk6vlVbROzEZRuWW76/b8H06Gc8LDot5GHA/ezypTMKveu5b9j9WtENCUAO9Ztx5+JujA/icP/ePRDA83Lr1k2dgHb0yFGdhMl1BOwjFydlJi06eoEb9bVZGjA+L4rlxz/9qVy7elW++MYX5eRzJ6USwgDma4UU03ItYCct6gZhK8dmIy/QxbBqvumByROK0Waz5k45+BF1mJNtL12W2eacvPGFL+grzVyHRIcjivlZVlySEPqHPEnjWN588xcStdtKWth9PjIy2g0U/dEJNTjArlnJ04jFRpgo2glNOSj9gqbKqzuoSEQXAkvasdy9d1cuXriItIjklZdfkT179/HzqRLo2125e6KgyySO7AXjUBA9pdccLuUwHY0mG0XPnzolNTSMiO6dhpiQpHKdok65MptufDY4LMk2Cor46z7io+cZN554lKCHNnVoN/BUEETqPD85cuPGTTRKP0YQfDTMTunaUrwjRv6yV6Rcz+lH+Yiul920x34Gu8F7WIcR7MHhvDDWpRxaZSONywhYfxevR5cDBsbaNOMvk9Xu83cDV2uPDV7UAGnJ053poYmUp4xdOKc/kLH53kAUUxi7ymJ1h3yCb7NQ6a6jpXJWlfBLX/yS7Nq9S7uqGQ4u0MMFbwJaKGulWAtQeMjXRnPQPX0vvhiQr0WjikVyxF4H9uZwHJrzXKh8WuFTUbHlehZLxWLKw1VJGWkOW3NaII9YzfGNDFOBMqCFwJbBgjPkMjkZ48XFd1iRJrGZw6JDYp98AgexnEbLYO++fdqa9pcRN4Jf+zU7ZqNApDX/uNvOdOlrEsEPP/pItm5FK/WVV9Fa3ar57OOZgwFPh8TNwDynH6iwVh0I7jI/7Cm9c7EM2sAo9mpR2EtI3eU6RdTdl156qbNGUdHdUsGywDljHDrkpGq2Itn7aFuly+2F28hg+sQgajZuTCdOSmfcOZzA3ke2oM2cFJOOy0lL5hVb++zZZI/uPTQYuNwCZWxsrKelvxx/Nyp00UvdofDjrKwRoC+6evlSScvyy6begbwkYeF3gpjunFd06dJFJSdf/epXZaQ+ogsADoMl38UQaFTyE8V6BY+TBM9po7xcvnxJPvvsc+jJNnnllddk2/at6keI/F1qvqqr4oNL4CRtYy3gkjYQW4aXTWqeo8V99KRw88GLWvN5MiBhuFdI//KbgQuxmINiCqPyQAtGK1kcTU/PgKyck9u3bmlFzCEGkggaYPWXhQEbEg9mFIs+r1CpmJH8CxhAemav8ZfXsc9L3BJ0y2sxlJ0r6l66eEEV8sjRY2ht7ofS5V2J1jOA30rUV1MHgGWUKwQOAteCGGY3I9+o6CBw1c9hLjhNkt6zl4hooCK+gAL88MFDLbivvvQFVJrj6oKFyvRUFTEkcEC1QAgVJeeJTiY0IHH5/vd/oD1Yr3Lpfzy3Uhk+XMR5HSsHVzVl35gFU8GG104gHV55bWTQCLJSpnBsnRNu2ZqnITRrrlRXZQCtIWfPDd+yY28L/SWBIWhonwQDS9i42gnjTEe+IcI5Xuxp6rdG0XLiTv8pBP0nESIhop8cptB5LkhP64bY1GlrW1Jaudkyh3NonfEKP9iKAz3bH8OuLQSH8Ag+ieU6ikwefn7urLQaTSWbr77+mj4bCSuB9oD1B934SeF6HhULRi0CEbMwMTHhbcds9F6Rs59/Jnv27pWTJ5/V8sKeTuNN8Xcwhl3n6rnmrUECLnWiduEOnhpmVJ4SeK1oPk8HpojdmoTiF1GHgWRgOLr3a+WRxMqUOX58/sJ5uX/vASrLw/La66/TRW5YcY/+5y1ILewU0A4E1BIpLnltDRODS2e8x+Y5g94JPisJOOC3J4iHExPyycefgkGn2spib0QFhn6hvlsPlo80MD1R9nMBKgwG9LDDtYZ4H2hhNQW2P1gRskVuxtWvobK8ecMMBz3zzGHcz4oYhYDj8/SGcdOHWgx5OBHwS7/5vrakuM1pAvajLNLhJj6DEz3nZufkF2/+QrZv3a5DcM+fet647QeEw7QehsBWjn1QvKJ5r7lO2qK0VaMabOJVRUlaOJmQZJAGkC12TnpmBU1YUkEpGsOlgv7be9kzQPLCbnDqDhsQT9pkQ5I/9i4xPe0kf0tYmAbF3hBiOaSC91NsesaoYzhMRDJI4sJeLLvkAlF+1mZDt7GBOKPw2SP7Gj/f4raGvj+Wo6+os1G3kBhwn6SQeXj9+g25c/e2fPM3v6k9jvqpCgSEoQmG9CgzrD57kItByCNgeljY4OHKil3wzTIL2i6ue8QeFzaAT5x4FsT0mTxvWR65yT1cEfjBxlCDpMNwpnLDg/WiqYZdV4t4zWbEpLF5ZxIph14Ygu56EzmK7m1is4zyPAxnozkvt27d1m5uthZPv3BGv/ng23cK6dbeQxT3QVj4sSoNHpwzbLTFg7JQe0rscg3qP06w54Q9CDC0rbmGXLp4VR4+fKDfnDh85LDURvm1nByot/kxxUHgWwTDOEVUNb0B7HHpfLEXweCbDQzW2CL3K4oKWgwK04STAdNMrt+4jpbjFe3GZAW5k+yfr6wygRjtIorH5RZROapa9nmDIV96a8G5hr2TNxBcYxf5+++9r2+qvPHFN/RVUF0/Q4ffSoEpHS5A8VlF9Duf+2W6qo2D5Riexw1r5CzKho+Tx9m7wh4BjqHzzTe70NWjiBeNOGGfR8LCidU0qHwbjBPW7YTDfs/jPcSjCMtawYaRcaVekqxw7hyPv/GNb/RNz9XEh8+zYp/Jeo5pyzykkAyyx2cjp9ti4HpCBqQI+KMqMTp5/WGr8hWjVL7zbFQSf+H8Bblw8YKmJQnnFk5Ah85q/ZI/GFV7L4r+wQnX6LG997yDcSBh4aLUnKsVFnvXOQZvA0DwBhD+2ekp+eCDDzVMLyAcB0CAPfYs07Ys6NEuQMNGTywKfhOIA+0D+6zoSr/RxnS1znDSkRYkw3wj0k4oJiiTgybKJAszt5jAOFPMQCZscfyorCxAlsSmgOK26ZlpuXjpoo7Pc+7IF954Q2p1M1ltIFi52ozWR8EjBoFaBkIRBd2uPJvRhN0WQ1uGcupGWz4/e1aNw0EUhOPPnpDxMRYE+MD0gBi/FvrIM/ZsP5Ax0wW7+zpqjLTQJcchJFXDOrISKH8x+VmWeMg8YJpOz8zKhQuX0PK4rt2VL774goyPj6lbJrkZWuo+oDfv6IbXi2CFa/bofzU2wzs8pa2QXD9sltf6DJ2lMYc1Ep2jxAlye/buVoPLL0VzQnQHfBADOQwl3evABtsWXtNE6gXDukgv4TBY4zMITJ9hhmfYvYTNQ5IE7tvhIII9H1xfiOCQDStoO9/EPncx/5cLPpuT1bkGD+d8sVeHvS4kLnyuDad9rt0ulg7rBZuWTFft1T1/XnsjuT4RCRnTc61QTCcSF/a4ME/5XJL4fkN7GzENB6HTcEQhgxbjhElrM8E1kSoXPhyGcrkuR9143gHrlMnJhzpPbxJknqsQ8xtBIXsD+ehyY6gMzQvjho2aOdgNhrCCe7WKYHjwz1ixKvG8weE32WrKLsnoRZDS69euye5du7TBWIc9M2v0AHBj9grh0+f0wuoKwTo56LRkubSjuTdFGGnfaJZon592aE8L8y32+JmvJoTrXppugEDn0ltYMtOFzZZBQHWsRmzi4QQY8iVpNOZReE/KPhhZtjr42fjBoBrRxLNwcG1Jfq01EH4OPMSWbwZJ2rSahG1BOXgKTqKC94aId93o3Bn4xSErrnfBVhGVjpXLrl27QSq41DbiN6BC4dAov6Y8CDWuec6uSA4TcRfndP0LsneWjgBxG9KTk6DJUBxCYeqTlvGDbM35hnzw8Sf6uYITx0+Ycfl66VW8zE7/NSgWDkXJ2GuPCLb6pVJIGIMAgRiwMor9WD+iR70wgzAiI/rbhfG9G0YuKf8BjCBfI+UquiQuFowLc3U4+qe7uZvayX4s/GUcCQ6hqVVkOSsyc99qWiRFw9MPrLSGGZph91pYP2hgKRy+sHMtaGw5bMmhGs61sm6HPXM14PMtceLaFJykaxfm4pAUDW0xTex2LcO0GjAeJGFMS5IwhpfkmfNLLBFbKxTTiWnDfGUYGBYucMlhKW6L6bYR03AQ2H/MX9ZNrHITtRf8uAPrG9qMxbCctM/07a4LFy8qAXzt1VfliA7HmKcsJd2YF3RHl6ydMtQRNZKAFuov7a027tiTD8WQuFaIQal6VrpGZ6jT+Yo7dYyklGHk25PUsVo11y88kESjGF16x14hC93LdYWosccI/mpg2WUEApShsadfV4aE+FM/n3J4rWg2iySSVjYnk/P3YKBaUL8IdX8bidprCIvJxaQuLzJVSH84VhfSilpy9coVJS6nX+I3PMaNItG3wv30u6iExjQZ0kKr76cVqWQVGfXqsq22RcaaKDa3Hkpjfs6ECxnO7jRVOdxqvOr6twAMLC7zmQzP7Tu3dfY/CQtZc7XCtRbgG5yZORO9YOiGee+lIQwnFG4M4d61RQL2KjVbktyfFm+Os+6buN6dzLoQquJmNwcflySZTEyg5YGwvvjiaf3WjB1eS2IwdTJ9xqtESoqFhUh1CfGFEeC8IrYWsqMHxB+p6BDZXDonDxoTEgVtPU79RCrFnhamUZ75mof4Z6GempqQn//iTV3qnJNIrRvmbfeTdoOwMM01XvgjkYoQBh9pTL0Ikxo0tS5jla0yWuWaJSFI5+rWjbFh7YfFKsth91pYP+iW60xwHgSJsx0Ost9JKZKWtUKxp4dgONg7Ecexfu/LfrKhk3/5dq3DtRIwbDRw7K2yE2K55hPJM68xvGs5Z4fPsM8hioSUC9Fxfgt7sRiezThU5OlcO4QZ/6xiYDmkCdsxMX8fJbYlaVCaE5LrShe9NkNjX0iConvuvvXmmzIzOyPf+ua3zGKINOza84f6f7G0y73ihm5rXlUOyVHxGi1p3HqAergpdURC6xQGC/VosQea9VRvvQlLgEMzl8+Ej+fu3L2r+btv335d/n9kpK7zX0zwumEk8eit1agr+S6gE3HxmyAcLfYgjdZldPdO8cbqaMTimT7nuxRI1VMKkJaZrCVzcje+Ju9c/InM+ZNItBYyi8YpXyQpRzf5mdzsnSme6b1O0H7GyLxJGNnRsbHOODK/oKrKaQamFPSq07WmYIueBcT0tFCrKu2q7KsclJf3vSx75+vS+PF7MvvJ58xm+AdDGpuulTTIpAoWzQ+SdcDHaagN9Ep+mWEiO37w4L40QSz27EELd2QUlIkVNcKhBprS9c+Oiw4CvyPSqgTS2rtHdvzaGzJ+9JCkN+7Jgx+/Jd6N21Ll91GU2OUoai/ga8uleB2Cx3Ntgqht3oYIIOwmZW8WCxev6aQ0OPV1qfVueItxV4C0sBDxim5wf4IWDN9qiquhjP/978iWQ7ulUW3Jpblz8sG1d6VdaShh0WwrkSJj9MwzWAlolsHPOZBK9rCxMJueZONm+FofcMjKo+PEPMtUUtAHH4aAeY44sKelAuIynm6Vo9ufl+f3vg76sgUEd3jh7iY9453pmLamBQLJnjyNwwoxNGoEHGg5QJrdQ4XHN044Ps5WOElLUOMHCZmDhTBo3CHMNCgeN/oYnrbPo7/YJNQB7Jtv3JjeMn3jDjeR2MfI42LlyXAUjW0IPeCEx3fefhtGdmc+WX1vJ16dlMXD+Dzz0wXTMN8rbQ3Yc6fj9Ygj84F7+vw8U0w+D4bJKwNzh/mlDk48eCDn0frlW1c7d+7UoQT2QtJPPoOk3LbUDXqfpUFA+Jm+vMYyri8D4ILO50BDi19h1ieqG6Orqi/UOb1gGyN8ZiJJnnB3bt3RXqx223xNmGuKsBzTCFqYHOse58FYOvgoEwkTFIDpnCUIIfwxj7JXlg+P9ZKWLdYfmTS8WbkTXZMPr70lU/FdkQoaZB3/oXuFeoEwzZVuhIpxJ1jfFsHpBCOjI2hEmmE1q4PcZ/1S9JtgvvnIHyaBznFjbzFsQVVGZO/IAfnqtt+U+s0Hcvm7P5DRiRmpwg8d8kKZYbU2UvxuFWCfV4YNNhsVJP18o4lh3blzN8JbV/tZ1mMNbc85BjLfBRK/grLBL32h3gRBSw8fkv1f+4qMHz9qjCnjX+ooeBrhRc1W1vSn5Fz0vvyfn/wfcs+7Jl4lliBh4g2v+NkPUkS527U8rUCJSg7apJ5PsCMvteDnoGGiMtFIsbLgX6U9IsfDF+Rbh35HjsztlMYf/ql4f/qXMFBzypTHm1VU0GCplQStb3bmLSOD7fOVbZtTXLCNYTavYeN6N3iLI4glDmsyffRZGf1735GRV16Q8NNLMvOv/lBqaAVWWZkV4qsUvoi+jAjh0TKNmPWspWHCyWvUabOCJ/wueqGP6j6PeROr8TNr4bCejcKKPAx9malW5OA//iey7flDMlmfkXfmfiY//OwPJalPMHnESyrIk960ZcuiC6QZyA3DwWEn/hVb8gQHv4aD1xleGw/GN38m/Eqzti7yxdVaq2kou7K98vquX5evP/M3ZSzZjuf2Sz8DxForNQqPmA5m2fwUes8PBEL3i/FjnDUsXdCPQWBWlureHnCIMEliNaxnz57Tlhl7orZv3ykVEF12B5M2cd4TGAV+4B4tLxofJKtOktbKmPHHIfVTCQqc+vA74jgkWvc13qsVMu5HdAKSPI5popwao2xQrvx11BLxb8zN6Re+WRmz95GkiqTYvhlnUS4Xnn0dXh9ipZueWdBEmAMJKqOMCNzjehJBB0nkER62MgeiN6yErVdIjvVLvXduyOuvvqZEi/Pn+g8H2XDlktdFShngH4kdj3RiJtOHOlJBrlerSP660pIEaRvLFKLZxBHiIWiU0RNpwpfeMBLMp7t37sqHH34gbTTcXn3lZZ3E2Uta8kbaCkE6SoF26BGH1SsMV1JHuDk/ia4Whm2pYA+8j4aCXcdpLpiRi/H78mdn/63cTi5JSN0DbJ701gvI4qLiEQsq1d7e54VrBvUes0e3CPYEV9sV6DD1FHUwbEEW+bIl2SXHx1+Uv3L49+XQZzfl4j/953Lw3pTUOM4QJGo3tHytIGm0sYj7WSebergbJpYXC1Mn9Ia3iBi6yjCEMcg39Gz69BnZ/bd+X3ZAlw3PZlkup9fThx7S8t1P/7U8CK5BL9ASSoIhyWuSnkXDgklZZpYLil5JIdja6qKUGTlRoS+GtIDEt+td0jK7Q1r/9nvi/9mPUShJWjIZA2mhsaES8sNkSxlhtTC6AMUtBJpKZgiLTYkFMRqILIwRjrpMHTkh43/v92Xk1RckUNLyb6V+9nOpcIGk3C1R1kX2M5UTjNUiwXTXwozLrJyM0cE+wqqFh57llUoXvQ/QFje9IGmBIWQl1Ear7wFJSy2U/f/4/yHbToG0jMzIuyAtP8hJC7O4H2kphzXJ1ztgeEheyi2o4euowC9aYN017uyKm/kB8gakBfHk6Soq0Z3JniWTFp2ng3TTlXkYd7ZCKWxkMdiMWmm6VdG33pRcCKqMqs0g4FqM1t+dO7eVEBzcf0C27dhiKjV4zjhprK0fiEsTlbF2JFZ8GcF1ZjHd0Qlb8iQttBdpK5Lm5xckhXGsgxiBAkkbF2LEmXleYzxLulEqtghcS7wqmRG0C+TnzTff1DWUzqAS9dACbJXTRsPZjbCneUZPc9G84zPNg1IvlmatJjtefEHQNOUiGNK4fF3iK9dkC3R5dsiwKX1QMlaAqj8ucN2OO/cR721jOh9I9a5EllWvNKNtuIpCoN7zq1o2CFM2UpQNT5KtNake3i+1Q4d0jtdE657cnr0krWBCvUqzGrQKlMGPkCamzmLi2HrRGnL2qvE18xoM07Hjx3tIFV3gDnOwAvhQIg7h0AcfDc9aNir7x4/IzvoBUK2tyIVh5W5xlEnLbDAtl6IP5M/Ok7Rc5EP1vI1CeVias+KKZ2iki+j20hksJJy9aWPrPkLrQpQVS1oS2LGEpKUdyni8U46NPS+/e+jvyP5Prsmlf/ov5JnJGRCEFspVivqKzwZpKanLYqDzcgg5p8+i+E0vPdubHD1IOCwPXeEowUPoxtSZ07Lr9y1pYbwdaSF6ScvnIC3saYHB9UhaULkMA9Qh3zNAdZjvGZQzswi6NJVbAYXMNi1duEJtoKQFu5WoS1qOzm6X6A++K8Gf/gT1+Lw2lGrNCm4xyhrAr2W1WGhcsdEYsXLRqPD5hTguqN0Hg4y/QdLyzAnZ8vf/c0NaPjkP0vIHUj/3OQoWW2e9fhd9Lxt5RR4mBsO+6qeVo3VL73DNFJThYfUyEg+mK6gdbucwSwKmfx9GcQYGa9///X+QLSAtU6MgLbM/k7/4/A8lHumSlvLicMVkgme4DutPtwPCwYpvMOiZjX+uI9oSNn5pOx8Vs/a0IByVNJAd8a5lkBZOG2TFHkjIdwwn2jJ3eULkfktGwQxIAExL1cAaGwtDxPrHi6Dz0i29wDXerU9hpatedatv7TnB1hATxBOWc7bSlmwPzM6xfVLbMaKFi2VCHwP3SHLxUdk15+ak9S/+QNoffCoj7RbiEoGwQJDJJC38REDEypH35SjuE4HgPk1uM5TLORlxHOtbNyTLuqpzASau3ZOezifSwJtj6mOef3Q1Cf26s2VEnv+7f1NGXzuD5npDbvzZD2X6+z+Tgw3zft0g8JpZwGwhdK4BAsNeVho7m7a9QxBUdjJTe86ESwXOUzRpYw+kRZ8Bv7AhiZiH0Uh3b5Htv/FlGf3tX0fZbsnZ+5/Ihzd/JjPBbWkHbIRUQSDZz8EhEtyHsFjdYRi4xyexRc4hhTaXmg85h6xbD5qndqHlxwZ1SYBeoz7wUbdyrtdotFVePvglOb3/Ddnm7cZ5DvkzzivDAtIC23EBpOXPSVriSxJXbGPFNLGKcSHYXCifK4Jko4gFIaWiF2B7wS2UtMQVkA/aAeo9FB7kbSzaKUdGnpPvHPovZO8nV+XaP/3ncvjhLLxDXuEePpbzAM2cnaWh9GiFaaBZP1hP5LuK4enezklLJU7lIUj95GmSlr8p27l4nlYG0CdHWhb2tNwLrqEQtZW0MNPXClTp3p6WfkrA1l6XtFTbdTlG0nLwt5W0tP/gP0r4pz9GVTEntIFhTloyKKpZlG64kvTABkXDwJ+ScixTV1KEYT4YkcnDJ0Fa/o6MvXpa/E/PgbT8G6md+0TqMCj5wwzK/i9IjNyBbvDDLd3QWdktS0pvaQFKbtKq2hEaRW1doMBmQVUeVALtadkD0jJ+6rBMj07L27M/kR+e/Q/SrsOwIy+8lKQF9yzMMAWNceL3jg0HPeFB3qcDSEvHGQs+8y8/YQKrseAvh5f4BLaQSFp2JrvktV2/IV8//B0ZB2mBcult/QFCC0KeQmnCBvT8wrRc/4tPJL4whXvRmm7D/HCoogA1HhaIS3ksvgitSHseD7fF2yF0Q+KjRq3HLdMXcYcjVqTsCWPFO1lvSPj8Lnnm26+JnNjF7DO3Gc80ulzBuTk9K9H/9D9L8t4HMtpqSZhGyAu0JkFamG4kLexj6nlkCZUAOahDS7iDPRXY8jHao9Mn7uWhvw6h0/LNipsVuS2LnrS8Ebm8a0yO/IO/K+Pf+JKkM7Ny+z98T9L/8y/k8HRLWr1T6XpAH3splzlH8CyHI4JcL/mpkLBACAw0obDFXR0i3BUSFBJyElseBUhb1IZaJtq7t8r23/4tGfnOX5eZyqy8f/dteev6n8t07Za0wyY0toLigZoNRstkazec3TTh8/ns/FopLbt35Oi93MdBL9posLGX1keZqEWjsiXaLV889Ovy+oFfk12yH2m3ugnqC4eHpuV8633tabkL0hJVUK/lYe5H7ElaeiPR64ZDmP1BvaPuLtKQRv1URaNKe1pQBzE9PJCW0dZ2OTryvPzNg/+l7Pnkmtz4n/6FHHowg6DAxlHf4Tk74aBAxqPlQPOUO3lcOnnb+emidFhEikYjg8DhIZKWiTOnZWeRtCDd3JyWklXvSQ+kO5N+mCyGfvdYYT9IWXTiVEfgCGeNa8JWjLiWnzf5byp+NqoM7BOWiZ7b+miWvb5E0d4PdtNiX9/kQYTsCpLaBaoXcGTFXCkIM6Mg6s4eY18TiOchXNCIWyt6fxk8VxD+a8Wcn8p7a3yES4XxsGBQUWj4SDOpE+d0y5xghy8q6fyYYoKoD+gIqwIr9JpJUhbDS7Cjz2KrwxxTjJuurihwzsIU6hyF3X7QSapQGF2HCNEOGp7snAlk31QoeydD2TFdkbE5tM4KMjoX9Eh9frCMqvui9N47AhmbN+e57ZWKjDarEIShVZUtzZpsx7ntc1WpNJmwIHsINkuBpiTiwuiqZiEujFczbEsTxoMGJAoaICx866uNbSxRyCGjCOa1K1WY5SqMkRUf5IdDZ0wfTsoNseV+Fee4H0HdisKhk6K08PxWhRIVpIlwQfymVEGkggzGFfpHrVM7leHZGQxeNicx3A2SJGiCiIHAFSTIRY89xDk0ktYY3+6xkbYJN5KLnWwRFN1seQ4EBQw+gxsPbkM8K/CaSNkmlCSWrA5dDEm26wh3qPNeOH8o8mNpQSIYyZgT1bU3gaSX61ShDlCSRGMLsfvcFs93pA197wqPhT3ePcJz/SVFeLiSOUlqO0zyoUGUHxINrpJNnX+EoN6x6Kmvdod1AOsCLam9opd7/vJbcuFdC/60TqGfqvFDxLjlHwsDo9qpl3gO6aBP1DLDp+lNXXCfp5crGm9K4bh8zsowsPHBOVSoi9VG5GWbP5oGDgrWgkNQTO0+YrRisPS7JxdkD9RqmNAdFQ2ZpxQY+2pJrfARMGyIAVtGhoEaSe04qCrNegn/TTiVrBiLrLEyphvoe58VuOfsKyswIzZ+faXoVqWfn0VhJYI/m6Y4RVLAlgrFlhGcVrBngMLWNqtlUxnA6GBriAwriVyQe33DmAvzVv0piP7hmdzqs+wfr/ECwN9cE8w5/heuLxdtrVy4x3VpYJTbaCXTeiGfIhjfQcL5DpzPOlBwfcF9eJYVvs7YI7helLQCQ4oGcYPHAeeWVRDVEMY2kLkqe0BtrhhoXuXCob56nMhIkshYlMpIlMkoGpNbWj4EpCkyk/1Y/jrCclQ+LoiSYi4OmEsd6VRHOlkZwfEIt7mMtj08B4LzFD3HY8gI0rlFo8q01xY76FESKLFP1ZDHIGvZQBlpQyegs4OEZW4Ezx8sgvBAYriD/e9K9xhcR2pIt6AFTcXz6rg2hntriEeAsLJVzh4+o/tGR6mY7J32OeM5L6t89d7sL0eQDvDLiqo5t7kYMP/7S4j0rCAc7GkwPdlUDFzhvtldU1CDqI+DhGHykdeDpE+UOmB693dghLrLEJieRJOWPXrN49w5H0Xf9NYc6v86ig0tM537ZrTACP+KYX2awVweAqMEayflAlsU5hAzjLAZZo+5h8INPyhWIa1xN/u5kq6TEPy1e/bPHDE+C+/pES68VxAe03ANkqJbdZ+nySAhDOFDceCrRNyi0jetEhyqi+6W5wzN4ZbgL4/6CTfIi2Gi93eFk9fU9/x2U1vrTudUEezJMoTGhmMZQNpzLQTOKpoHOYgR/zbiHpNwsaWKNGCSDBJchpFFKg6SknszSbYrjFvxz4SpKzCFENN7xS+cB2BCVUgIg9jzxh2B220eEcYLMzzKcMCSQ5DeKRfeq0NGEJ4atKNSEPahdAWOICTWuejkykJ+IZ0Qka6Uj9WPgnDslt+CgnC+Swu7bZRP8zZTCO/NHAQaEk0wDfMgATHAdpCYeXJ4wECBH4yPCnsnwFC0lwJbPZeCOOYNHwpJG+oVLgcQ436kLPKljWSH4H72qoDGKlms6iRnHlGHTHC7vYRLE4QCW5IhI5xAbRsSFHOMXBkgFehILQkRFiYlzTdDjAPEj22VtQaH5sIhQjLFRTsHiSr0QCHoZrCw3uts1T+7NUSGaUyoj9yn4DLP01mxXD7+PyhRXp8hmxE2G2+eM+cdNLuYayzo2KKlE6Ag6hd8eVrZ+SKS328+alWSfu47AifLQvkGZGx+zvzCT0XRHc+tj7DQdNg+lK/bE8F9G/L+9xqhi5JQiQcI/3rdE/38zUW7prGhMWHtSn9YZertDDurT7q1+ZkgRrwHMbOVQcE/9p50ZTh4Zz90iIuC/hqYJ5j8ZkWsLRDoG+fjmHjgGLUOJ9balB0G4xMMae6WxkErfQQsDVHJw3jRCK1OWEHngiAWSQyXEKdRscKF+ipwZ4VEhWsMVRCoEK18khwSH/oVovlN28qWM1umTBtWuHCgCcuhvTioSCvwQQ74MD6UkxJDibUXhzfzn2llBAkJD7piVIoVpxHNUDzbCmxir1RgFgsSV/xcYOixjSAtPIZvHbVCakgmVcYD3mo2gEDWNc1AFnBPAveDRMmEWpcBQkIKlV6yVBGfjiTSrPKtv1TaQYBwVySu47k1mBOQmSjMpMH0UyKAm5mOQYRHUieRlkwvlhslOmxQwSUSU7f4TaC7mpSFY27tOQr9ND9dQaobKOswx/2E0H2dCArf2FWjZ7jNz60arAtyIDiMsZJS5qaWxW64+4kpe4Ol3z1W2HdV1NuO7uZierRNzUvfCNVl1TRTVliOGGpeYH2s+4A+nYd0uk5iw8ywcbI5/1isTUMlb4w7aHIBUDpNmDbKGtoJKVsPJpOHiRZO60We3kX0u6cophANEsK40m2nYjXQI7JSFExmNhXVsFRUhqxcNYvXT5gubOeYmLDlhcqJpEX/DPrd1xVWACQORlgZLia97vv52RWteGn0YHX45hALCu9jbpqJtmh9aqpSN1hRISZsrfFePWYOqGsjvL1HEP4+ohVKNxuHoKtb1njydU6YEPXDzH1BmPh6LCtLhIlvTJi4mVQfBFYCbNVV4baepEoU9Fnwk7nmw7+eqCxTOEzBSscKFzssivZolaX4B+OdcaIy8od8EkwFRj8WM18CcQXYzW4qaeQa3FBYhxMhiGgF8fNRjtVYaaDolvnbRDyZZiUp6k/eu9ARpk1BArC7YcK1TYxwvaQEBCVBeLDNpYIyO9KG/uG5jTrMdjWFG5I5aLHPoQ2UnAGiVEAt0QBBZAM8b7AgmTh8omLDDPOHZKKQTI0lLalFCE8Mooe04H3jcQsEky8mcDkIuM9G8ThOZmePC57qVZXYiN/qTS0TJKOSNJiso4rHuuU5I0pGi3/MR+oryiGXCaBwSK0ryFcIe60ClGN9Mw560kZaIGoIF360wDE0Syp4i4D+YZOntR5wmE9tAfuYtAQNFjgfJmYi80LRss0ybkLQEdyC5zNdTb3G+sHUh7QLTE/WHXAL4T57e9Q9rmn4lakgZKxbmP4IxLoJ/hhY1gdt7HKZBx3iwzW1cKWKszg0PuxtxicNzPcVI0ALiUPTzPSERkkVoSgODg4Omxtq4kBsuTUmYq3Ra5p71vqAYeWQqBUHh6cNqyItunS8lmKw4T4tMgcHB4dNj7w1ayd/ryVIUOxr5eXXyw1h4R5/clnj8Dg4bDT0MAstBigVLCdLeSODY7LsUWFvi+11KcqyUXwknq9tG/xrIPPCazbWYd6lBvSEdoPwJYbVdNuZMBqYFps9o7HUtO6JweMHH28YqELDZzMxT/tHAjzCxNcSWyOmsua+fRa3Nn8pTCno2xolk+YV/x5lXFeNYvyt2F+D3vAycawgVVdUCNcGmr4MTiG8JpRrlKGPFL3p2HOE4C+l+Jr4s46knqO+xJYNPTOsYtDfH3PCrrJqko8/uegx/MDW1CxAvjG6A/T199GCYS9k7SMHqybWG9wWxYAP7v9wLR/8Z9pbN9jvVEHmZ4MAgdI45aW+HKVOfBdiKfb6SUFPjjHiJvLI1HTxrsdHrqTqXyFImg8mMzQTO3v5hlLWuUIlsGGQBykPObBQwTaCytkc7xjCPC274V49OO2QFbAltlbMU3THVCg9oF7qhnvYX1w3lwU8lnHWtV5MEDYENDgMD8OW72veMFv0PF3pD4DEYbIgbVjldfLQJtw6Q1dIhbDnwAaNYVuY1xsQNrwE91VhOc+A4adSkk4vJSK2bsL9SATTk5KfUtAfzcSOGOPcq+9MPysWXUPOUBWAA63XlxjClWLth6pMvcFtryxMiyJsOdDPAWC3kwY9iqc5qdfXFRqkfM6fhoUlWU91YG00ReusQsTtcfn8kwZbigyg9VRtjW/vlRw8WZRHDds1uhZ+P15o5YH01EotBwuGGYu255HWVEvz/1SD6dVPTFoxzWwFxQK5+fVjLUHypXrF2k4L89OuXatBXlb5n29Xi14dN3pNrNTQ2PJhy0gP4KWWGdStTgsA5qHWIWyYMz+RbqyndT9347Ch0VP7G0NK9DcMdox1YQvh0cC2LLXC5c4mhxpcFAZrQJi85pwpHya57fXNH9/VgRXuQuGf0Uqrm8TTnlbDQdJvyq9Lp1UjL6j8M4dFPVw+aBuL+m3rBIvlNthsHdKVXrBuMUTfyNOuEkx1tS2UPO00DVUWpp/DxoOvi2lJU9KwLVngoVBx/Qu+VIo85Cu6Bel9TTKB8BzMir4iytfdeqV8/2Ki9+h9fPWS3dwAlCvFDl/91LU0KOBaNPVcDIyra5J66YoHIcODrce1KkxFM/wv19UVCF9r5VLZg4Qwr6WapAr5uh4iYl5bNAWGIaDLDOEv+m1kdX9mKe8hgrSKIO0QYcCx5iPCzVd0Y+hEpgtxcRWJCBHJX+NEJoQUxCdBPlH4Cq7mH7dFyfN0kCCVemTQ/UbHjK6ZdVmoF3x11aQt173RRbeCBGGHG4QTjvR3yTA3KToGhO9IDhTjZBgYgpUKwWhruHJdMSua5qLQixDrMD9Pt0gfnk/T/JVlDXOMooQt9I8ueMdKZfVgWLtCgsXRaM7xWGiEF0r/s10Zjm4Z6ffHlOGrsSikWq/pxxdxF8s06xiW4YySf8U8lRrOIh56DB/42jFaJeUhnTKsmtF2mnSw4H3MPyN8/d5UIrmU0L3fSoBfhLhzj4+jiklb9Xu1QHgYjFwXqVosn1yrRisyfcZgKdYBj1pY73OJhkzXNAF4HuFlvE2vFoOMfIJ90W+P6bIOSGMuxUAFZI/LsD/WL0OEr7yX7cByhOGHRwhHFeGBaHriHM7rpxh69GQhiuT3SYZ2JHN9Fr7fToXXd+65NkeprFCYfkVhh6NKn2uU8v2LCTSpcy+zi2HjE/jHM3xvnZUu1xXhe/skBSwKtZjrFGh1g3AHEpLzAGYdi7URVl4hF/8aIKw6WKPw3XocQiG5zyjifkhnOWtc9BD+fs9YjXDtiX7hssI8I1fhugVcrIxpXuF9+fksqzGwOG1JJMG0571wwBpAa4E8/8p/9vwA4X1FKdxp/ngOwnBqnPI/+zyNBzKf+7is6ZoW3S0b5j7tKi4GbKAMBurK1YlGCB5xi2NubRroug16kRfUcX5M4FgPaVhQkWqlB/KJjQdSx9xk+clN84oFvi1BBgHXNA69wgqXvQym3rVx6i/9wmTF+DcY6gPSY5DkoVFCz3VxSFpwRb/hA1oMnaOecc2RCNFAWNKaprMaQH00jCYiYYtIP9g4mi1uKwQZuYYTBbH53JH8pgJ4vxWu6EKiSoKqohHjqsQkq+benp6XZYKEmHqo5oLeUWH1+0gaci2veOJAKUatn+B/xQIf4AfXnbJDYUxjq/c8ZL4x4PjF+d60xmmIlrNBgjpnmGh9DneDRL/lBXeDRMOrxpT2jatT5+cQUpP7JlbDYHTPyJMKcBUkWFqHkatKoEtqB7oAE/MxQIEsir+IlN0vX8gw6VcVZQCtA2YTKl9mNpen7kjsS63Nr5hWsUWljHBXo1AC7rdBuHA+5JYFdaBw8S5sVyp4psR8dn/hYkHsAeDqms0KBJUgVwNlzwZ7QYxBQjG24Sn73xPWFYh+IGew+C2QO6ZZhDCANHElqqDNJcCNMP21suMSbNgmXqjf6mlxVdAqezr65d+jF6tbnt1PuM9wsSLgwl/81kqoC4Hxa88Vxp0l3GEdYY1rP1lK5rByHiarQT//CtIJXsfM6pFuWWY7x48S9lmmeVaEpuSGMkQ2HcwuzWkCQsxF7biAphpblNFB0q+MFyVchfhqM9gAh3AhQiSXJQuGUCB1sxEEGraONgZh5YcvG/ple18akL51aUdoU4ZIUhEftmeQeBCJBwvDyg+N8qOe7aCNNCXhMjaQiy/SbDiwlCAhuNqegvrIbi6yZn7VlNvHKLBGZp9/aN0nCEOqq4DmKxyi0JoeoTauJ2YlUOgSGxfgWqpXGhWIrkoKkjBY0G6qrFwyGG8+d6AgxKaXgMGh8hnGr4UJRJHDMNqaGxSOBeFdnqAUIxxDREs00tJ0t6jEllzhulZLOM148I/5wuEXFqZW2NJj/VhcJ8/yYR2V/NxyZMD9vc/APsKQIdzUjYS6wQQmGB2t1BE3h3UG82GYrAa5wVwz0P9h8mhhXoFGXZHLAiwgKqtNv9WBPdxmB4LgokRq2bR5yzLKenyQ2HI9SFbzp/77TfgTwRbQRhT8zO0ae0zY48LveNVQ/eG0qTdwjcPi/erSorCOHCT8LITwY6YrFDZmOVTF70XpkBXIig/bx1SGizXQvs0J/ShpzM+q0wiEICowWJrBen6+I0nQWCDF6wul5HZR9/MwiLn7kBLhHhgnNUxUO7J5EhWwUBjNdtjEMT8FT3KTwNjG+kl+fkJe9DP81EjsF0SHOWioO9J7vVeK7hgG3s+CYESNdyUeKKiB9EN3IyAo/MruWJtfnxXz4Tsu0a5dWSRlJlyPWiKEIeJ3VAYIx9CY38rsVZCGCE+b356CpCj8aB6goLDVEivZMp9Lh6AgMZ/SXDr525Fy3ub5mktfXbDnVagLRsw1s02wpcRBE9dibFFFgnzpWDYrHIbfQ6UVtIx2LwtKlUXtBrLGRnWgGGcdKaJ8bbmiGNR1P7Dmyu/M56NtJrAHgUMVKecVKGwVbaXYGqC1HI5izwT/FgCt7oGi/kP0Nh7b89zFeYgdVlG/eQrH3aEWs8/Dfi8rdF42yN30Q/HtIvrXiwE3DQFMt6aFiZRGbBXA8/Ngqf1HvcwdztWrxFXUHa28DBux5binPA+RFHV/j8CPoiRw0yPwsyOoZ2gfOKxnPi4JMoEt5+wlrLdRZ5u5N22EF+FOIUkstYhfFk9QTy+sR4s2gY0l24iygid1/mLWu2iEDpIWpIkwWOFxUYhqmyMGgQ4XsecFD4ZwWX8+T5089fAjKFkCw5QyE5FI7Hr34xHYNH5bAwU0F02xkhSvL5SS20XdQ+DGduPp2GTCYatRcIYRCL9QG6IA+lBC7OKPH5MD+ZUswREKEh9FgqPZz4LUNkMeXeE5QyYCzoMhxxkk0NOicJ4MykNH+JBi5VKWhh9KKwhh4EIwegQY96PkYBPIfMhxbw9+ctjL+K3PAbHpSh7WARKS/AwRfr8mGSKcTJggnRkefpGG80GYgGSxTB9WACQtnAFRySpSa9dkpFVDAa9DRtWtzbfifn/pva7dtMysXPrpRvHLvfbLsPY8v7nCoSsOGXkJtmjiZKg06R3oFAo4E3sZwH0Krc+LB0MEedyRfiheX64ANhQKnWdjYM73XC2AFVwXXUO6PPQY/Tw8ywPDMUx6wWdAA6CXIMYIM+eIFMXEtyjLgCZpOS7l8BSFYBiwoULxedyn7uGv561KnKcL9pBoWqvwGC6L7kqw17tu9AEqlrZ1wfOrBLww8c8P87TopsfKgZIpVZS/agv1QmsM9TFfNDDllaIT9wti6vbBssA9jXdBtC4oCuurXLSuSMYg47Bh42ZL25HWtc4IOYTDic2oI1rVFMQB++zh8KFniIfPsKPus8J6NIh5zoipW8OS8LwRuinrbq+QmKOutaI2BOdyaUsVxGdUIqlLU2rSkhDnWK+hPoZeUR0N2c317SmFNx/NZi2ZlavNT+S7H/xbmfEnpOJVkAlIwBoMFwD1RoKjQBVnlpXSjMWvmJDqslQohiU0ndLYc2VdODTPw0MqMPokMGxNUykPVJ6Rrx7+DTk6v0Pm/vCH0vzJz6Qez8h8FZ54VexDOWC04FTq/ARtDq0M+BD4rVWFBmVhFdEFFSPfBTQ8hejgMVD2/KAPmlVf2hwz3f2MHP7b35GtL5+S1rkLcu3f/ntpXf5ctoHVV2ms8RA+h0HDr96rgJIPhYatG8ByBQSyTt42EGEaoYBUJfI5touwcGIhvJgPxqQRjsvRf/zfyfaTJxCPpnx0/z356dnvSbMyrXHOQGLY6lkOFtONIuwVewc7pXTfbvGbeSEKMikKyCsqzR3+Xnlp75fkjcPfkJFsK6tSddkPJFEcVmqB4FZbSP8PZ2Tqe+clPDstoyDCqMaU1A0Gr3Wv616xWV0gGSsBR+50AjcqU5JyUrGp+rzMv7xN9v7e6xKc2AJHqPH4EORHxLKBUIQRTjyYlsY/+/9I+71fSX2+BR2DO7QS2SOl5BAFg6pVDJ/HhbcKWGxhyUU0Ex6wR2Qw5kJP7o5uk/3/8L+U7Ntfldp0Q1r/2x/K/J/+iWzJ5nV+UhG99QbSFvk2FIzzQCDv+aLBAPBtHT6u5Vfgjy+1OMIj2zJZD2Vq337Z9jt/Xbb83u/KRHVS3n34M/n5je8hPjfhFASfc61QV5XDZ+oNniNR4f5gmCbXkPhpvTDYE74plNAwey00iOqypXVI3tj/n8gX9n5N9qCM8Gv8xbxfLjhMbxQIYcB/w5+R63Ofy08++ROZiG9Kq8bhme4TyvXS0GIFFG5VlO8fZkMYnjgMtIHlw24k0PuI+QIvRqJxeWb0hHz78F+THRduycf/7F/K+MNJ+IeyDv2voGFZRX4HSaHBo1HsPk/LpL5VadEbNrWT5QgUwCvFq2a/m9dtH3mDei2E3ZoNUCM/f0ye+Rt/Vba/fBrxqsEuM38H+/+0wIvmI6hFQ+7G1+S9O29J05+XKtheBRkf1ZGhuMpKjLpTroqLCsWsXd2iX8Yv+kG9ZE8KWXGgxANFRStpT7bLTjk59rxsS3bKxKdnpf7Zp1JLZmVmBG6Q4SQtLLQ0rlW0wi1UNRheeK6hVF3sjU8RpmzoTwFd9+wOZLfrIKRhLF4b2/puGf3KF8U/sl/8O3dl9u13JH5wA8aIk8ZAyHpqsYJ/ZF1DMPjJBrQbNGWDEICqtr0aJISBT8DtUViRPpE3hhbIuBz6KzAmu3ZLjBbJ5ZlLcvH+h9KuzKmf+jo0K8ZhKAWwN55Az3VoVsl9Xica4TWI9YFmhxVS6kWa16ygxrPtcmTslBzd+jyIbp2vQuWuF2IhaZmWyT++IOG5KRmF4fc50D0k7fJQmV1A94qVKSIz+OmLw1PS8/hIix/0koyyoSiTmOGaCYCsD8McIjWUtLR7n9BTryCZFyMt2TDDozKYVAVIS2ZlC2SeFtaQlhikJXCkBaDZNgoEQTAiryET7Rty9s570vAeQFPH4KqbX2o/Cg9kuR4G6vFwDA49r3DIuBrXYPgDGHo0zMIW6odU6q267Az3ysndr8vWexNy+4c/lWrUgL1DPR5wEj8avDAakXajd9Hb2ELsUV8OAofPPf0S+ACwR6fYQEDCsKFukUI5oCEy1g6RjoFE+3fL2MsvSO3gAakgjAyKebvo6YaSFhaSljcnczKN1je5ZEW7ymj4maiqePkNReh75UNQrMeJovIaLFRQqyRk9Cwg/Bw5oRUBLlWhXCPJOLK0Js32nIzNzuJiW9Iq7yBTpkFSyqMV9CDwOQufXsDQi4AOpw2pXJCOHhMQxCDatlXa9arUokjC6WkwngbCWEEY+WqiOtZb4GG+BWhYdZufK4W3c82ez9OtA70vvxcot1BYwFJUYOx65ARnVtbq3KtKjFZmOIIKOKigDvZkPp2TVjqLwt2GE8QJFVbXZ4MF/udbi8E5kVfRBeWwe10/cqKpe0ROWqAf2qGO8FSSitT9LTLijRtSwubVQHCMO5M2fKu1EP8Pp2T6e2clODslIyAxaliGVQ40/mo8cmig8tDydF4xZTF0gJPscK1MBIrI7+yCfcHwSPUDv5wUf68+I+1XtsrBv/66+Me34jLjDWdwSkPAXT8B6Zyckfn/5f8lDZKWKEF5IVlhOrHKZbhZ8SL/CvmlS5wXwfztsS69hmdo0hLlclc6nAOhvD06Isf/678n47/5FZHpebn/b74rM3/yA9nDSr/UU9IpqxpmxqNc7kyAOmk8JK2JDHo/DPSd61WxyuGESDZPZlC/RLt2yJ7f+W0Z/c7vyjRIy6/u/Vzevv4jmfXvomy04DHLhYfy0+/5PIfw58mqLvqGk+e658sxNfMcck+AUrFD3jCtWHdy+Lwu4+198trBX5dX931NdpG0oN5ccNOyYPRIlY5HMPqRgFBHkzoPUTKSloL/iGNPLBd5drDI9aKR7wfOM7FDyuatJr7EkUnY5puFdalWtqKhAmIyOYmwwC/oZgr9NxOMaTt6da8YXtU8DjFZMCiF4HrQFfZaD4LWkahceuqC4j6uq+po+UF4qqif6zXJalUc4RxuH9aTsxFQjFvZJjwqeK1Wa0mpoMSlpDBttvZWDGbM4Egxb/hSi4VWXEUFgtHlW0WDkVd0OYxXXQ95dXiSGiWxMHd2qxCP4++6hkN/pD5bXN3KsV8GDstUm9Y23cuGxV4f5AcLajm+RfQapYX+lPO6fL3cy1S+vtyyVX5eMewa+nL4eg+XBZLaNkwR6XktgkcfT8nDP/1E5OxDGPoqnsWnD9YtVImI38L86ISRFRN2ObGU8xZ4fmH8CoDbnvwBKeIcHVNGQK5AFu+PzIi8tFWO//brEhzdjkt9/MMz5ufnZeJf/nOZ+eQTCdopWp2o/kieeNm4AmlhF3f3ed1l/w3KulEOO18+K2IB6VkEDdQbd0ZDOf13fl+2f+lVsJiGXP3eD2XqB7+QvSBakdfMXRow/YzwOUjTPmlpw8jfnp4h3pfvKnBMkz4IvMaZXIwj6x/qOVcFYIs82DYuh775mzL+135L5qtT8umD9+X9G7+UeW9SJ4Cqa3jNNwO76CV8fLQe4mQnXRGmpUJdFvwzt3bvD2A0SZ1C/sU1NPC2ywv7X5cX9nxBtgV7oI9ojCzjeUsB4zFIv8vltnz8uNGd7G1Q1N1BcegAmZtqgwL+wClirfsWXBfH9NL2RzHu9lmD0sPo+/qm1XJRTr+1Cv+SSQtRDBQzjK3V1WF4ZVckLURPplNhSj0d5UQqh67nKhSwVJ31AnHrqbvLGWK0diDYki22ZstYSoba9OZ2Qdzyc8XzPW4W9AKVAquRGxyGxRRwrUlL8Zhel4cee/Jm2cjAC0hLOLHOk/aFabnzo08kuvhA6uzi17gNJuTa71MMgIaVgeQ/WtpJLM1WS+eKhGEoQcAetcEBNpeK/vGHZAf3It4pQjpTnRfvua1y9JsvS/3gth7nBrgJ/1E7kub7H0jrzh2Q6kwCEGvT+jZBVq/VrHWxIGwLJjIXXeNy7+GC+xfTHfb8TFUrsvMLL0vt4H6RVizTn54T79I12RrFMlcZUK65pdfF1m4O1gd5LGFYCs9HVpWfX7xcBheBtMNy2qOEcs6ekxYjPVKTrceflZETz0mzMi+3m9fl+uxVNN6ayCP2vOJxiLsOoRRReB7zQGMHd9pLyHzm8RJBtz3pj/AW7ycVp8++z4mnFammo7Jn9LDsrR+WMW+roC1V8mD1YH6X89xiQd6Xjh83FtPNYeCtSui55QnagCKgJ7rq9CMAw7XeabVcrCZtl4OhpGVYILTIrTqDBpMWej2c0hDd5y8ISb9CVAi/vsEyDKqbAypPgpd6L/dAvS84H1SoB8E+a9B99rx1V1YQ09NSQNkfJQE9Acx3DBZTwLXvaelF2f8iZ1gu9FY8j8MkDGf8oCnzV+5LNtFARR8Yq9avJyMHhw16ARrDMSWEsdVsydXr1+T+g/sgLBXZs2uX7Nm7V2q1Wu52ITQ8OiZlwRY7K60KwoMwxlwHIpZohy+jJ+HX1lE+qoNi2ul+o4VIpRo3XZLeOsaGLo1uUCyKzwb84aRlMZQ/3LdgrhvChgSTZHRMokpFSVUwOwuCBWPfxrO5yNcgaFCKkyELsPEcqkuluJbAiaKcN2AIC0S9Yl2H39BHsOsoOqFwql0zaMh8NqfuNZmhOyHiHhTjj/uKT1R/sGU+mTLUHfpcChbUi9STfJfgjAo+nUlB4TBJRUYlTEawxbMeA2kpl9Uihl1bD5TDPSx8dKrOudXj7r2ElqtF0pb3LCUNFgvLRsSC9Fij8C+rp6WMxSbEDQcjNDxSj7hs9YBj+0OByyRmA9FpMg0AK7LS/cspIBZlRbBYTEF629IL48JvkfRALxfdDA/bosnX+7hHjtWTFt0FPEljpA4MKedD6XlN22EPwPUF8fNkbmpSPvn4Y5lvNmXPnt2SJKncuXNHdu/ZIy+++ILU6iNwB6VBKxgZYG7TR5WepRMpqVxwx/Ft2zUQxhKPwHAGbJ0vDJ/VCZ13lINnrKG0t9CoLiC1Pej1mySkqOr0r4hhr/f2QwUe6Fw5EBc2VqmJjK7yNqQZ51EV0Y0XtvhPeghefh2nWAa036J42dzaAeMxrAeUzhlbhsnYdzyVJ3EL7+N8CXI6cltd/8OmDMilLteg4TCn+oFeWd3tluEhN5TAlO4pW6VbO14SSFTmnZZ1PJTXNOnWoHAW66PVGKuiP48aSwnXYm7IRzshLIXV1LFLC/9iz1lNGj7pWF/SMsTyLC3LVp6xSym3Qw3jIvppJkx1HZQLI5VymGIuVnj7+VcER+6HAW3bfM/A+Nf1c0HruITFSMNGJi0GaPHk1pfzpTm1heBLR+xkyUqGsQjtSdCuYRPJOI7lxs2bcvnyZe1pOXbiuBw7dkyHas5+flZu4tr+A/vl2ZPPyZbxMX1bh8M+hKnomB/d5/m5KeREYf7VGFmOOCBR9RMQPFtIAJP3aLkzD/HP6bsEnXQIC2DvoP/GfA8A3/6xNwGFqCqYXoVDAYdaFvhkRqMzN4aeMay5vxrFAkrTEOCu9w0NjTfSQOcP4XhouYILymDw4Zy8adJrYYcbAwnpUXC45Dmewm6Z1JWxGt1drFx1plTkYVE2iJtUF/RUr+5sNJTnnDxKLFbnEotdH1Ytsw4t9zIuB8Vn27AuZgeeRqyKtJhisFIwg1ZTeFZzL+7WWA+LOhRm2COWkmqFGmYxkrFc9FPmHqVftPD0Whp9rT3fJxabXLlYvbdY5bparKbetcOaXFuK9juteNKAfzxbxU8Iz/u/AWLAj7CZD7F50mw05dz5c3Lt2jXZvn27nHz2pOzcs0vnsRDtqC1Xr16Vi5cuqv+nX3xRDj9zRO8tEpZidBgGhpEr4dDAcjCkRqcIlzHsve7pA89anVAywFOQfN6gHqpBo5PFMkcnARdQcl6+e5kdLcJPXTF5NYkpeRhJhojyRF9ELN/JwbUELPQSfqzuLxoYusvdDkTpeSVQ97o+5G51g4Dj+XwjbxiG+z4ci4XcfF8HOyr4YV7jJk4O5myXEOX+aSUtxHInjS8Xw0jGUgiIrcMdaRmMzU1aVhFyM2GKVmsQuLrhkPDh0qKhLzhYifINIzb9/OtxvxhpKcWt7N+wZxOL1XuL2cXVYjX1LieQk6LxzRq16nytOyCJEBmFSjDsXHR3ELIE1X+ayMz0tHx29qwOAR08eECeA2EZHR+H3UKrX191hj/wK4kTuXnjhnz62WdSrVbk9OkzOnwU6NoLpnIqQr+tgVPNgJOFaWgyqTNwbMLDre2RsCCFIQGyeciVSHk/o0YNp+/as6F+QBart0uZt0A38m0XC88MAye78g7zGOM3h15sr1DI5QRy9D4ZwInym1sIYB4E/GhaLrirAHU4GLyVQmcQ9Sn3Ujf46SQhz2kkoE06eZnDbsychROFi1A/VwiGYRhMLxLSlwG1D8IuF8NkCCs4OYSPrztWUk8uB4vVa2uJ5cTN1gtrnR6bEaskLatN0NUo0GqVj8V7sGE38wIWe8bGVajlpk65bCxWtheL+WpzZxhWm+qdnhZmP3cR2TgfDso/AdJj2FlxdCoPbNpxW25cvyaffPKJnnruuVNy5MgzUq/Xu+kI78w9pvKJ41gmJyfl0qWLcv36dXkWBOf550+BxFRBcmjo8ttwnw5bYYdDQQwOlwOjobEtZB1+MLs9sM82lADH2HSCgx31A/vF8/3Bq4Nd9Hn0ssCyZSiiOTK/8FXDxdB3SUsZTAMlBha4vdNjtZjSAoNjZVDka8PSqfdJUCTcyNzS5eiL4XvMyFNC08mC53hIvTFvNzk4bF6skrQ4ODz5YJd1kiTatTw3Nyfnz5/X4aDx8XE5ceKEHDp0SMlHEZbkWENKP3huenpaPvzwQ3nw4IG8+OKLcvToUUNccnd0w/2idAiTg4ODw1MOR1ocHBYBSQNJB4nGuXPn5P79+7J//3554YUXZHR0VMmMncPSD7y/SDy4ANyVK1fk9u3b2jtz6tQp2b17d8edIy0ODg4O/eFIi4PDImAvy61bt+Tzzz/X/SNHjmjvCgkLyQwJy7AJfmXSwv12uy03btyQzz77TLZs2SKvvPKKbN26Va9ZvxxpcXBwcOiFIy0ODkCZVFigfOgry3wDiL0iHM7ZtWuXVCrdBc4suVgM1l9LREh4SIbY6xJFkb4mffDgQfW76F/Zf0diHBwcnlY40uLw1IMkoEwoKBMTE3Lx4kUdztm7d6/2rnAeS5FE2P1hRMK6LYOkhcLnfPzxxzI1NSVnzpyRZ555Rpf/J4rPcnBwcHja4UiLgwNA8mDBoRu+xswJtxyqYQ/Ivn37OkvxF0mEJRXLIS10a++h8NnmzaJLMjMzoz05x48fV4LUD2X/HBwcHJ4WONLi8NTDkgei0WgoWSFp2blzpxw+fFj27NnTQxTK+5aADEKZZNCtPWdJC+fKcIiIxIWTfdmz8/LLL3d6doooHzs4ODg8LXCkxWEDgt9LiWDRuZw838phLwhEP/zBuSRcYK3bM7IUWFJhDX6qi++RcIgkaSZJHGsvx+Url2XiwYQcOnhIjh0/pvNYeE+HKMAb++zQrkDnZxJ77Xwht1Cq+q2gBO58XdArxFnfLvrB9Tx0N/cPYFgoXIaepOnqlas6z2XHju1y/MQJ2bZtm85zsW4YlGFrDHFll17oDR2kXEsEYekul48dXOeib1ytNiSpyq84ODg4bCQ40uKwAUHS0sJmBPY0N588JtFI6nou1TX4lw7lCxQf98Ios2eDb/2QzLRBWB4+eCBnz52VdjuWF049L/v27pdKtf/XhGOfz06l2gapIneoJBIFEZ7hg8jUJIjJCNrSCviVHw/kwJMq3PH5um4cjouLmJWRxYncvntHzp87DxIzL2dOvyQHDhwQ/ZK0fuiHNw8rtqU3mSzhyjEPTsMzXFnGLLAHv3CCpIXhC3KC5+Dg4LDR4EiLw4aDmljTHaH2lIY0C+ZBAPh5XRCJlB8cZB/GEmE1HP6wx4SHSW6Yo1YkFy5wsbjrsnfPbl1/5cDBQ9ozMmgYhqQlw18trun36NJKW9oe6UlFqjhHIhOHiYabDyOF4DqpDACfqv0YNkwEw5XvEgmJBHD/3l05d+4CCFZbjh07oWELK+HiXxIu+k2U/I/4mWIE0scfCRW3Zml348p87NPBwcFh48GRFocNBzWdOWmheY38hrTkvkReA6aWQx+h1HQwZmlQDqC9CWaBdR6TdsRcjv/GDbl65Zrs3LVTjh49IuPjW7QXhMM8RUNfRAqCQtJSTSvqJgYJIBGpybiMxTslaMODZE6kjTAmED5UPct99EOJi6wDu4UjHa4yXxXwdMiKr0XfunVT59dQarVRXCne0Qt+WUkTrwfd4zDmV5LhplKTrAbBlimjXIWC8JbvdnBwcNgIcKTFYcNB+yNSfoTOlyb+JmIQi8mPsL0rbY/nA/H5JcICBvWKECQY/LdueCc5Ed8Sunf/gX78kL0YfFNIF3aDPffK80JAengffcjyzxAHCd1kkvgJSEZNdnkH5PjYi7KvEcjkhx9K4+oNGQdp4Uf1Is57wd38rlAlDkQ/amjRJ+hKSnKGFSexXLt6Vd3t27df6rWxnvgu7FkhoSuczAOufuK/irRtIJ5zO7fJgS+/If6BfZKEVV7SHpeydw4ODg4bBY60OGw4GNLS0mGKWX9GbjQ+l3eufF9uNy5LM2ybuRcFo697Q0hLP2hfCax9mpjJrX5YIBFgNIGa8ByW7MC97uaXfBAQ9mrECGclHZVD/gn5yqFvyotzo3L7331PJt/5UHbHiQQ+SQIHt0BWYl9G2iAuhvd00NNzgt3yMefgtKKWVMIKiBVD172+sADzTPcs42edMw78ivRUvSL39uySV//rvy/ywilJ6uy7YrxxnYzO4ZHB6I1J0+K+g4PD8uFIi8OGg4eKXdJYMhj7aX9SLrc+kp9e/CO52Ton85Wm9sCEhc//G/tfUuMhWp2PPHEPBsTXV46LZoTnAkOFOkh5B2+CQx9Gh+69lG8NpUqiatEWORq8IL9+6K/KS7PjMvGv/6PM/eyXcqAZwa+2zCO4qYRSiUALEK9kGROJraFjuLLMfHhxOSDJIey9481QpkZqcn3/Xjnz3/0DkZdelKhW5wCRvjnECcUOjw6OtDg4PDq42slhAwJqmVRRwddhQKsgBT6MvEi7kko7bGMb41xXRAUkoCh8w2eAeLiuAvLg4dgPsA1gTKzwleaie7oBOfHzraeTgEGqsKXweb6XSZAGUmlXYJmqoCkcwvIkaMNAtUXqkchIBHLT9qUeezIaZx0ZUUk7Um9Tko6M2OMozt3gXMx9K4mMJgWBm6L/vK/Ge+HPKF/H9tlbFUkE4dAWJ7OQBoESsQuqh8A5ODg4bCQ40uKw4aCjEyApbJCGUNEw46vJ7GUIdQpuJa2AJAwRofAtG7NPX8qiE23ZWwO/zaRbbo34XBuGw0+58NmmqLDHgqYd4fHoDyfimntBdSApSEAsUcB1WQIQBHoPAsRjPpfxAukiyeKuFc4j4ZCMlW5Icsl7fjQUet0cdwQJpW8A2T89tmL+zP1IE8SZ0WZfEYeo2n6A8IJsIY5+gjgwyngOYXp3GEKH1aCYhi49HRxWB9aDDg4bDGj5k7QoPaCSoqJXJgOzm4YwtoZ4dIWuCuIFoA85ycC+UfMBkhOTonCwaLjQXxh/9dv4T0OfgqBw2CcGCyGVqSbsGYolCXFVw092AtKivRs4tILHLhRc6EjxnN1ixwpIjTK8jigLgtj7IAxrfj0BieJE4EqKcOP+BPfrPBZIBLem3wXbZQ5DOTg4PD0o1g+Ps65gdebgsMmQ6QJxXclPOzwSsAKylZAjLg4ODhsJjrQ4bFJw+m1RHB4VSFOKxMXBwcFho8CRFofNAQ5tKGhM891loOeeR2CL2cODQKEAsQiZYtR5BsKqofXNvBK6Mxsbh3UGw4nAaniH8D1HWhwcHAZhveZqOdLisClgioQtGCsxpvk92Ng5G6uFhgY/LK8mZMZfcz4nLp1r3e36w6YAt48mLRwcHBweBxxpcXBwWBbYqiqKg4PD+uBpLIeOtDg4ODg4OGwyPK0NBkdaHFYEW2Ae14RNPoIrupq5JAuR6jWKOdal6wtgeHX+CYK9ksLOe7t/fNGZK5tydRZeg98+10vh2jA4Qhi4qi/aP/qnbzsDKW9c/qMfD/J0MyHuBdOrKDbPH1feO6wfynlfhtOF9cPTmvaOtDhsCqBY8huKA2dgdAvuwpmlHQKDOtdQjuUC97C+tsINtt1T5s8s7891W3AOQSk47+xwKZiNCKYv4SoEhyKKRtGULweH9YWroxwcHBwc+sKRFoeNBkdaHBwcHBwcHDYFHGlxWBFsq2vQWPfjhg7QIBxmKGitw8OvJee7CnNgTzEsHD9C27Rz7kmCzfONkvcOa4diD0u/vC7rgnVfvM/B4VHCkRaHJwOF+rRP3bqmWFA3F5/Pi67udnBwcHgkcKTFwcHBwWFRuJ4Th40AR1ocHBwcHPrCDvs4OGwUONLisOGAalK8lOuatKUtDUm9toQ4F+oiLJGkQUsCL+srvpegSRj3iAex1zyI7ks6ROhHV3yEouifjxYn3aXwqx3gnA//k1QqsS9BFkiYZNLAuekKjpMQkkkMdzHHidpVRCzIx/zN2jLFOQD9zuOhmi4WXO9lmHCFGN5m/dL7mS65IMQyG2QyHyLo7URG2hnug2GCBBzbovPcUJnnOzytsKTFitVJK2WU3Ts4PGqginNw2GBgXQhBtah/qArBC6ogA3UJ1OiHkoDA9JMYBIFb/HcEp3qu8Vg4YXegBBIElY54OO65ztXiwA7iTOkN/KOHBMgGwwsCk8JNhPuyrAL3IfY9SXCceFWQnRpoUAVSlTaut3HdHOeCczHPYz+BcD+iH7m0Ef8ING6QJPA31ecYiekHzlvxcCwBtpWqVPNEYpQiRM2ucuMMjoODw0aE12q1bI3r4LAhgDaaWs80iGRepuR666L8/OwP5Ob8ZWkGM5KEbRjj4WpbvNrP/HrsWRiCotFWvwqtSp+GHmfbAYlIKkGWymhzVI6GL8iXj/4ncnpuu9z7N38u0z95V/Y0W/CrLfMVECkQiGoSig/32t/B1ip8KoekeE7DoQdgFDnS8g0lmN6iLsqrCFfSWB4EgdzbvVu+/A//gXgvvSTxaA0hoseZhCniBHKWYsvnc7XfYXC9MU8PynntyK3D44YjLQ4bDloNoumf+bE0ZU5ut27IB5felfuNO9KutEBmOMzDQY6Vgl3X+e4K4JFRofJOaNh9GPYslpF2VfYGx+TF/V+R440tcu8v3pTJ9z+SLc2ILEdaVdwVhFLJquKBDKQJ+2gsoeCr2nqo6D2HsJY4g3b05Pv94HNYq4ByVKtpW6axnd65XV76zt+Q+smTEtdr2mtEkLTw1XFHWhzKcKTFYb3hSIvDhgS/3ZN6qbS9lsyDuNyfvQcC05BECUsmtcwsl28AFS5ocT+FLlety6lsF/pH847wSQgCQdLSlkoayFi2Q7YFh2QsCSW5d1uyiUkJY855AckIQFpg/EEBzO0gBEsFw6q9Tzk4BEXiMghehjD1hLrXsS+RtBCW9khdRg4cEm/LdoRNZ7OA8CBmSHs+024d1hbFNN7sBHC5pGa58S37t9j9j/r5y8FSys565ne/8BXDs9y0flxwpMVhY4LzLPxUiUsMK8/hFM4YocFmu39EqsbdOsCEgqhAOO21LQFCGKR1kXZdyKdSryFeAvKQkmSBAAS+DuvoZxQT/C6j1LHuKJIW3jrs9l7CshDsqUoYJvXYzHEhZQnIhHDrMELk8GixUQ3DSlEO/2KGe7nxXW56PernLxfr/fxhWCwtl5vWjwuOtDhsYJg5H9xamkDCwI8ehj09LSvB8MpkIbrFxLzd44OQgErgtBemIj7fMAokS0N1mYURaBapjHa0qJCwsH/Fxx6/Er1SsB9lGJg+vSSn91ltTU1D/khZuDXgPSZODo8HG9UwODhsVDjS4rAh0anMrXb2jKaAxPhDhldwa68poDHId4jyxaWgcL92SICgMAhq4H32CjU1iLHUpR7jZBpLWgmk7fE1aL6urbdqbwsnyoLdmBNLQp8IDWvB8b3nRcD08DihmONBDD+8a0MSPKgGccTl8eBJIy3LjU/Z/WJYrDegjEf9/OVgKXm5ls9fDP3CVwzPctP6ccGRFocNjU6PQbEA4VS592AByuXrEWq5Dp/gp9ubQaNvSAj7LwKSAf6DO+hwEM5bEsCNuasUoJ74lQO/XCxOWszj8ZM/KkMAlYxh39cIOjgsHxvFsDk8uXCkxcFhnbFRWzQODsuF012HtcYSmmQODg5rCVb0RXFwcHBw6A9HWhwcNgAcaXFwcHBYHI60ODhsAHCIyIqDg4ODQ3840uLgABTJgiMODg4ODhsTjrQ4ODg4ODg4bAo40uLg4ODg4OCwKeBIi4MDUJwA6ybDOjg4OGxMONLi4ODg4ODgsCngSIuDg4ODg4PDpoAjLQ4ODg4ODg6bAo60bFAU1+xwcywcHJ5euFfwHRy6cKTFwcHBYYOiSFhc48XBwZEWBwcHBwcHh00CR1ocHBwcHBwcNgW8VqvlBkzXCMXuXDcu/fTA06w2ec/dDLuZnkxwnOBKADdoL3ipnhPh1uiH/maj5m78eNKE8Drcp3XjQC8a9/3A560GiRfhEfQ/xNYTn2HtPA47MY59bIN5PCvCmQD6PY7w+ZIhOnx8FmDLHT+VOI1xUNVrIW4NBcd+ExfbEDhMx4wfvA/3wBfsrQ0YH01OTSMbWMYPMcZjNa8CximGs1jDwvzKEGqRCi/qLXq75mWs1yXFdQab9zNtnlK4ISyHtYYjLQ4OjxyWhMAYQuwRtwTPKodB/e5hxxBaiFb4RmzVbwhQd2vQc7AAqyUtqUcyQQQaVnrYfT7D2cIWhjqr6rWEnCQEAQhowCFZTVIlKiku0z19oeGvSAL3NfoFsmP8gbFPR0yMEO7USwxJWjMU42LBEwgrwp6BlKQZyFohDXUfTjSbNEsRNyUqxi+/49bkcPYUG25HWhzWGo60rBHKPSuuMD89yNToswclN9YwhBkMnJo0qAV7G3yPBpI6AcHW7OM8rmV+C87gGsacG71Cr9gz4zVhKEkWYDQHIPdqxTCUiaFlf4uG2pCPDuYhNUSxJogG4gaXvMWbAXmZw/mtCC/CmIaSJqn4FUYY8dXelQTut9FrCG8GQci99niM+GXZmDmxZsDD8UxNJj6bEfBJopBvCeLcGjfXCLvD9JcIcYBU2fvCvOn2rpi8aRiHWZ2On0q4es5hreFIyxrBkZanFymsMFvtNPxmmAVIfEM2QF607yWDkYTBzmD4aDNTchyoSAAu4nEkguqihhLAfubTKLbhG3si1pi0IIxmB2GHMTbxYU9EoBQmyEmW14Yw3IhKc1rk1uVMrl++IxNzt3CyKlvGdsuOXTvk+LNV2bEP4aogPSrzklbH4W8Cv9qIWhWPQNrwcUwzvwG/cX0NQcrB5/t8Xoo4tisiMeLWAh2bErl3qyE3rj6QuZm2RO1UanVPdu+ty6Gj22T7njHxwKlC3OKTs3AoCHnDFGJOk/Dp0N9TClfPOaw1nmrSspavEy6XtJSvl+932DzgTAfzD2tOwwxG4sUh7GRd0rYvTRjG29czuXb5tty7Oy3TU00dYqnVajJSH5FDR3bJsZPjsvsgTP8W0ITaLAwj6EpWgZ8j9BqGsaAfOj5R1B9jQFcKLzHhpz/iJ5JwmIdUC8Y4BVnxYchDEJi5hyLnP5qWj968K+d+OSf3r+PcZCCxNyEJyZlfEb+Syb5DoZx8aUS++huH5JUvbJFgXypJ2IDfMdIqgF8gAvlQi+nNACNYI5Bskad43jyStAniVZFoeovc+Fzkrb+clo/fvSMPb7VldiaROCJ7DMTz21KpNWTH7kAOntgiL3xlj7z+1W1y4Bj8GW1IiutpWoPbmiab7+a0ODisGRxpKWBYgbNu6aa4PwjLJS0OTw7Yv5Ig+wP2iqQxSAAMGlrxU7dEfvXWJXnnB3Ny6ZNYpiZa0oZhTBNOeIVwZCFrS318XvY9I3L69S3y1b9yQJ59ZbtUt8LjwJc49tUoekFXv8q69Uh6WuiHl8CvGAYZfupEVM5jEQkbIFznGvLv/9Xn8v6P2zJ9Y7vE02OSRCA1CXtPtirJ4VTWVBpSH50Vf/SW7NzflBdf2iO//49OyInXtkniz4lXY1dNFelUZ8KpZCA6awb2EnEUirOCI0/uXG7KX/7RFfnZH0/K/Ss7QLpGQSCrYJ6ML4kI3IK4+UELad4Sv4747J6R514L5K/8/kF54zd2S30bPAxq0uYGt/mFvHna4Oo5h7WGIy0FLIeEEI+StDiS8+RAhwqQnwGHCWAYs2mRix+K/Nm/vyi//Nk1mboOgz2/Q7KkKmlMw1iFoccf50UEsQSVGbTeH6IVPyX7T4h8+zvPyzf/0/2y/SD0ogbLGHLQqasfZU3JujNDVwQzfEIGQQJCFsFJpwwrbDnk3Pcz+Vf/7Idy7v1QmveOSNbeBUrDXqA5bFugatuUtFCjOQTEOTCJTEpQnZMKwn/klRn5u//tr8mXf7cm2RawuRA0j0NeCZ+Dx60pacGz2hnSP5TLH4j8u//1vLz3l/elcW+rpA0OS9UkRfqmMQKCZPBBFJmaZm4P7ouRtyAvlW335cBzs/Jbv39MfvP3jssu5E3Kob0KxPW0ODisGYJ/8k/+yf+Q7z/1WC4JWU4BXW5hdoV/88LzaOwj8eJAkllffvXTWfnDf/6JvPPnTZm4cgg2fATGPREPRjqAsQ9h4DlbhH0TAe4N+TZNazsM626ZfjguFy/cl7n5SPYdrsmWnXPiwajC0puH9cMqdac7h4VvA5HCgHy1Q0nBP37+48/kD/7HTM69DT42sUWCpI7rdNfSOKSMl8xC5nFXE8K04HtDoyAlY5JGW2T6DojPuQuyddeYHD25FYaevS0sX+xqQtgHT9dZNTyEJ40ach6E5V//z1fk7T9FyO8cEb+9FXQlFh9xb6dbsWXvF0LOYGVIa+SJl21BCEdBRkFsoqrMTMZy5dodBDlBPHbKyJYp5A0nG7uJuA4OawVHWgoYVuB4rSzDsBy3xHLdO6wdPBhOFX0jJIY59WG88smVXkPPp2xS6zgMBPnFt2s4qpJ4Psy3GRoJZ6ty9i9T+aP/7015/0c1mZ/YLoGfQHgf523Az64X5gcGMkGTnbTBgzH04iruG5Wbl+ek2WzJocM7ZMsWGMVqW6JgUsMRpjCw2kvTkMgPpMm3WHAcphXcj3jgMQnfeoH/fJ2Y81IYPwY4Cpoy7d2XSe+etHBfwiGhpAU/2jg/D+pxFwb8oVTjLXLl56H8y//xulz5ZU2SRjWPA/zKI0F6Y9Zb0dDnYlyYLeHJnDchDybacunSPXnuxWOy7WAkzcptmfTnZY7jK95thGUWYZiRyJuU2JvGfTHiMyZey4Sd00041ybk2BXSfhqecypOlXNj+KdzZIwo7QL78Fpw2wrk/uWqfPd/uyE//6OGtB9u1VgE0lDamEhV08mQKPrEfMcxnsFeJ74Z5iHNwgQEB0RudjqQOw+aMjoeynPPjolfwXXkiZdxLR4+n4OFLUgMf0DhfAhJIcJDisclbxLmCwUR4B//Nytc3eWw1nCkpQBX4BwINRy6A8NFgaHXV5JJDCSSBozpnExLE8aoCcPehBFuyAPIFM60YJ5gupMxufF+It/9Xz+VX/54Wlrz26BfnL7KnggOOXAsgX5CaB/1mVbYiwIjGcAA4rm+X5dGqyHXbn+G1rwne4/tFtkKQhHcx7MT7ctoIwzzEJh6hICvJKdS89gLAqvok2TReOIoJ1/kTVwYbqJ1Qy5MfyTXG+flfvO2PJy5KXfnLsuN5jW5Ed2Q+407Mj8VyeT5mvzr//dl+fAXICtzZq6Hki71tRh2iqUoFP6arQGMNcLgZ6Ny//49uTt1UfY9L/LQOyc321flxuxVmWxdlbuN23K7eVPuNBGGmRsyF83r20hBVkWaZBKT28CvkJwFaRohQhVsQxCTeY40kQxA2n4GQfw1wr40Jn15+3uT8kf/v89k7tZO3LND7zc9SxWmGrKEadWNQVc0o5hwecyRm1lNJmdnZb55R47sH5G9h7fJfA3kB0xRSSwX14N/4I7II+YriRVzGKmCcyRIpENcso4viGFjZJPC1aEOaw33yrODQwkkCmaHwxYJjCyMGc6lXixR/FCuzH8i16OrsDg0QrA0Pns2zCvMXM12NHpGardOylv/x7S89QczMnt/G+6noYexTn0J2DPCBVlonWDZtADqM/Nz+hYKnh3M8Yq0YX3b2E9Gr8r+k035rf/2sDzzazMS77gCoxighV7HnbOSBjMgLHgODPtOb7ec3HpadlR2iR8EIFJ8Twd/XFuErX7EJQbhujjzkfzk8p/L3eQGnudJGFclDRt4Hg34uIy0dsrOiWfl9vd3yZv/e02ad16WsTbXkWHaFMNsheC1LnpJC4KnAzGgdtWHEu18W776X0Vy8ndm5f7IWWlVmwhlDclhiCJ9r7UDOTz6nHzj1H8q2+SgjMSBNBAN9ulUI6QeiEkjTGSkibyYR9zqIG3IM01Y5iHfTZZRiZs1OffLSP75//OcfP6rlnjNZ+D/CK6xl4XEhfshCB3f+uoP9sYwRiFn82LLgbEI8RjdcVn+xt/cI3/3H70s1cNcNI8MhG5MWtOtvstOHUGeSQWhD0zPC7vCQkYjJy29a+JsLjjS4rDWeKpJS7GAleesODzNgJm1Bg/QVVKxbfstmZi9Jm/d/jP5pPErGBf2lrQhTd3yDRi/vUW2T74ksz8/JR/+wZhMfnJQ/LgmaWUKRjGVIN4Ks8dJq7mFov+0rkpa7DGNZwL9hPH1QZoStOhh65reQxjkSdn9rSvy0t+ekdEXrsl8OC1ZWhXfB2nxZtHCByFqjcvB6jH5+pFvy5Gtz+FpICLwkf08Pie78lVsWEj2EJ2be0/+7NJ/kFsZCBBXtMV1P2xJDNLip7tk2+xzsuPql+Tt/yWVuz8/KuH8S/DvHvygjwyxDXc3/PaaRZG0cC+QOmIXSlvmZGb0PRl945fyzf9bXaYPvitz47cQxjH4QAMPcgBSN9auy/GxM/LNU39LdsoRGUN8Gz5XeIFfrL6Q9pGPfPj8msz95JdIqNvwvwYuw6chD5FPbf+ATIOkvP2eJ9/97lZpzo/iGaPICx/beaQde4BGcBRKqCSjP0ha2A8TZhwE5HBSHfdGEtauyMmjk/LXfiOTl569B07SQDo1oEdtvcf2vMyMjcmW0yCTp58XGR9V0sn06czdRTg2c03kSIvDWoPNhqcWJCpWHDY3bGX5aPMT/sDw2YYvexdiGMh5f14mvUl5AON9n+Ldk0n+xTMyFTdkYiKVK5825OH1UZCUAyhknMAJw6TDSyhyJEHwM0E4kyzFPmc3gJygVW6Eho49PIhLwns4t8WTSrpdpHFALnzalGvXp+Vhc0Im/dvyMLgmD7xbMuHfkof+TZn274EOTIJ4mJV12V/BP4UmE809e35qMJoVuPMkqqTSqsTSqsVqSBkOP4ul0h6VmasVmbgA141RmGhOrjXDWzrEhV96aQY5+Kx+QyvdP4NpUIOWkqlask8mbm6VG5c9GPYt0ubrwkinTFfQZS8JCYQmFtxz2nJF40T6oK9mk5gEAdIZbu89kMk3QYJ+/L7Uf/wrqfzkV9i+LdW/fEeSP39fHv7pObnyg1sSz4/DpyoEz/DmkB1cM6YJbsNvKXFxO5zvkaQryBt1i3TQ99jhB3vmguaoTF5N5PqPzkr8w3ck+PFPIX8h1R//pVR/9DOp/Ojn4v/oRzL/5psyf+MmGDD95ZBUTlg6Oubg4DAMTzVpcXAYBLa81eTSKOaWhNQihRFNAxAKj4uuxTD4bYl90gxOcB2BIdwps/dG5QEMfTTLHhV+vwfmWueSGCNP4eTeheCDaMjMB/to0Ow9ekcSwoaPSfJwq0zAQEaNRNpZU1peUyI/kjbCpKQnbCGMkRp/PlcnheJ5Gg0SJ3qrPobY8DzDEqo7znkJk1GpxqAHkGpri9y/iHumtkslqyE0s3ov/TM0RD3LYcjEQvDJXWHPRgajr8M78bhkUzvkysfziN9OyeIRCdNAxfRBoJLCbVyFlxOLKwkIFeOF8yaLQJNAuhibahTJ6My81ObmpTLflLA5K9XGpNTnJ8Wbb8nkpCf3p0hW6J6vYoN4+CQeJqX9NMJzeoeG9DlF4TOZR8j3jN9OyoeS9LtKzZo0J0FjEAZpTUk2f1v8+ftSaYCkNWYkiCZAbrCPcJKItpHs2peXJ01GsmYZsoODQ1840uLgUAINR9l48IikJUbrn6+4+mh1c3BAtxknhIYwqCP6ls3svToEBj6lMZyBtGDsQGD4No/xDmDRs6aQME8wQqPGHgYSFt5jBjH4ThK3lfmd8uBcWxr3IpAYUg6+Ml0HqcDzOcQBrzhZlcMjPolICiNN8oJn0DAmcEDDb3oJ6M5MDq2kvtS4eB0IA8lLkIAoJGNy7TxIUXMvXG+BqWc4bZiL4ad/Ng69wFMLf3iqF2JLUuIjzWpSbY7KvUuzks36UkV8Tbjp0qR1yjef1LxT4IeGPQeSiPRD45OlMpLgiD1UegdJXBO8pgWCKXI/rsoEv+eEmCgxhN8cWuOr2B6Ek3wNRbQ9RnxOd98IKA/yWdIa/DDDhimIn/ZaZaMyN1+RyXnOVeHcIFwPOTQUmh4tXcSF6Y28BfHlJGGGSwGPmD8mDR0cHAbBkRYHh0FQ+2GtippL7WXhJFlOxAwz9q9wGCUFQYHZggEMWhVpPAilMQ3jD0Pq65s8aNFz5TEuoNYxTEWDX4K23jnFk9dDnoDAYHs815aRdKukUxWpRFWYSpIjmP82pSp+xLkoph9EiQeIiImHBYc4mhDT2+HDoAcgXnx1uIpHVPmai5pi9iS04TqQew9gYJPtoF5bYOrruI/VBs17GYsbXLpI4E8Kf/i+DxfxryLdWhNzkjXaEsZmSIskhAQxZg9SiHAEEQw/t6QovVA6Q9KCOIQcd0McGI8KnFYTxCCFJJnEUT4HBX9KazghNuOkZw7fgbQwLfFnc6a/cFWdUXAPpkMV/oGQgBgmiAsok7Qj+B+NKoGsgNiE7TrihOP2KPaZV8wZMhRDw5jSmigODg5LgiMta4TifBkrKSpVKzx22Jig0edwBO19SjYCa8VXa0EHdCIrh4G4nofHCbjYa2ehNNlyDhogDjBe8w3JEhCCbBuu07ixxQ9jlcCIaQ8N77O9KWq2AJpEQwaCbDt+uUBZE8Z7BjYYfuN5KUgP1/PwwpZEaSxNGMN2tgXGHGGtzOHWOTNvJqtAv0Lci9Dp3BCcYu8R/WdvAgy1D/85IZhvRnGiKieKcm5LGxwpCuA/zmXJFgniLZwBjLiQLMwiIbhmijW3ZR1m+CnDESGujDlf1Qbdw7MrIEUgdD5IUTYqLRAVPBzEg70/XEUF6e2BDDD9uIow4lCPkKYcpsPjRiOkWVoXLi7czEASeT6ck1BfxxnTIDUr0/ADz0u2Ij2RPyRMCYiE0hQuhjeFWIEgYY+xKgopjpWMk2vhnmSrArJayWbgPWPDycVtnUeUJKC1LOfMY52kzbV9msJvGDH/2f+WeaCbyIdxBhE6FpMxsldMJ0o7ODgMwuI1jMOKwImhZfF9GL1ceOywgQFrRRNFo2WBXNRfvjWkC5CBTPCcz+EB/OtwA0xXhla9x+8JQYwPdqiBszjyuSV9Yfw3gB8gIHqGwyVKmUho8KAUhh6GMY3hE7w1fsPo6ZAW/e81vMZL7ln/GeruPsWsF8I4GJc6x5XH8DuocKXeGGYaMYhJIgj1eUXwfPamcMiHNADpBZIS1jgBGaSPJMu604DonhEGTsH9PHd4immAaxxq0VeXmW4+8wYXQAQ4jOOD2HFSLc+R0JlF8JhWJBz///aurUeO47yevk3Pzs7s/UJyJd6kpWQ7Mn1RfJEvSgI7ceQARvIQJA95z58QkP+Q1zwkQIC8JjCQ5MkIAkOKgsgXiaZF0RIl3rnLvc61Z6a7c07VzO7ManeW5JKSVqqzbHZPd3XVV1XT853+6quv+uRRmR1GGtQnSm9bwAai08+o8tM51iuXrwtpqpnOzJMikqYv1TM6IfSOTGVNK+jAwcHhEOhpc/gYsJfAOBxnSMFJZRqmwmM9RvxMxZ6HfJsO9fZeNIpUQ0lBz6Yg2KGV0f1vlbkOeD+VrubM6M1eR1KpHkmLl4WQv4qNuCrrjeRRKUpxxMdaSpY5yek4DRooTZAQ+Q0z38asyHyI/KMh/x9NF7ZlyJm57dVRmWXdIhv6f/DxeFiLpGndjK2cyRqke9kyJCmKQhwHbdYgYakxt1A15F/Pv0X38ZyGrEbBEg9LMeTILIuN3atnU5aRolggyWPOZsq17UhVhNVVyx2l7RwcHI746+ZwEAaHhfbbHI4vrMKiAst9Qxw0RqHpsJmmGMctBCU+WKGGhNpGkVmSo3uk8qTgRj92hrR4uk8WFrmryo9Cf4KGRMy4CXxuxtpD4qK7lK9Ii8o5CoyFgzlpBlIabmLp2SLyaI35JpTkaOvqSGnLWqQoK5K1G7aRBBuozAWIxyi/CEePtagdHhbmzr78ZkhM/ROyuTJMxAlKwTbTqHxdY1vKOmYrTNjZXqNhyZZKMo64JnCd7tIAXh3lYhPlEkkkiV/KelpbGfOXpcWQmKP1jYPD5x2OtDxhHGRZGTznLC9HR58IHtTejxNW3alMliXioseIis/McokaGF/gG/dCgq5Wa9ZQAuWReNYSIitKn2Ts/g3CxmjpWVuM0pOC1J0kEV4TrWgFlVNAYZJpVKapLokT9wpdvxeDJNnIwf/6ZQa+CJeOzQWzM2NDPOgGTXSKq5i/kGFsboPlb+qsbnso9OvY/wuMtUakhTRIwfEqG1h6rkLOwFb1BkiRFdHKx39muKV3TrFZhMGeVjpfzrWCz/bStCj1DhumyLabL1VxYnzTkAvFiRGhFJHIfVlXZGWxf6OgqzaF+oQE1MwQayLGOiY9ttV4FePFhBxF1jXm6UWGFNlvjOTfJUXux9fB4eHhnpuPAaOUqFEgRmk4HBdIBel/88YuR1bupZgyP0HHb6C41IB/YhXNwl10ggbkemItLFJ0Glo4zIKg/O3bvFWOlsgor0ZhE83yB5g6zzIm68gLshRoqKM3rOGJJJkCR2PE9TBXKHsfGUlLK17FxLk64lP3kY2zPthiisMyHw27SlCGZrCJanwNhaUVzD8PtEnyEGmG1f7Y9zHac85YmZjQTOvmZq0oOeK8jvniOs7ObqNCghGjZgZ2THRiOQGbn0K1+WGkrN8n7HPu5YRbYF4VrGAxvoMT5U3EoQLwkaTIaVtpzXAbUxsLU/8nd7/KODg4HAZHWj4hOLJyvGF6TpYWPkJWEZGOeAo0V0fpVB2zX2zCn6uiTQWWynGXatIoKqbR6s2Hw77zW6Ij348ErbCKergG/+Qqyss1eDM1JBrC0ZCGIU+6TbOSHiT/gxGQtBjHVpKwdmEVhflVPPWVEJ3KCjokTZa0PTpSMF9so1O8jcbYZZx7sY3SyXtIolV0FbDtKJBVi4RLMVC6CgRoCJyC+jcwUxBpaWCxXCfR2DTUSZFhZIexjrSKQqP2Owzqb/WOnG0T5rCBEu7izOQGlqYaCEn2PPnUmPgttv/0p2MTxdfBweGR4UjLJ4Q+aXHk5TiDCkjOlYa8iGAorkkb2dgW5pcDzJwuUnmSVPANW0rRQGvkGAV2MJTXoGrTtyMNmXNA4hLUceqLYxhfYllxDR2SIDmVGt8N3cXPh+V/GBRcTkRMC0R2giqa0X0897UFzJ6OSJI2meJo39cuavCLDTTyG5h/poUvfadMwvIBEG+x9RRx99EhyTJZWkzXiC6ItJAoZi0U0i3MjTexNKdIK/LPkReLCIssLWo/kb3DLS19K4sgS0tIQjRbbOPsoofpUsIrbX4n5LHT6/fer6z9lgz2rIODw8PCkZYjYBThGPSt2C/N3uuOuBwfKLBcIZU6DEkm2sj9BgItWphV+DlBvXgDxec+xMJLv0N89rfICrf4oCmeRxOpH6IdxiQgCkwm5WchJWgcU6FIq8yL50LIIlDlWd7nbaFavIzxL1/F/MvXEZ1cg59GKLc9lLINRHmdMmh9IjntZvA95s7vlI0uK2Il3w498CrRKk9Rm9T4ZLA0EStjGfDRKcjpVmHxp41loFr6HaoX3sTcTzaw9vyvsVZ6D9XCOimaZt5IFcuhtcl6NdGIu1TZJmIJ/9esHCnxPpGSbYP1RwUbhUtInv0pXvir2+g+/R4abMduq4xiZ5rpJKMsFdzLgZWboR/G4fgwUCLeV+qUMZ4oHg1JXRRRvjEUs20sRb/CV0+/hmdPvMW0b5s1mmpejISbIseEaHFTkDlZ0Pozs9QXRZ6dMnvr27PN2nRRSROcDq7jhaWrOLPA/g7usw/kzaL270LxfjTTiztkftMMIfZxNGrp4PD5hJ5HB4ePHX2idjwJm1S1ldkoHjMEwYfJOFnmJCZUauO3cepiF3MXG0imr6EV3zEEB1oJmunCTG/odq6PtZPoWDYTheqXytRwjwLTUTWSDFSj9+AtvovlP9rCwjmm1ewhkt4wiBBQIVp5eGDE0n+S8SBY0iJiYtMPprSWBLNeETejbAvbaARX8fSLDbz4E5a3cAV17x3KpYUDy0w9TyI3j6hbRiGRi21EBV/kvsz6VIyylzXDDpJ0sDXxBmrTb+KbPzmBuedIK+Sw7MtxVbOtBoeHjHA9DB6PgkgLyQY7xnAelmgcYblpWC4mTTk7tolvnPawPLFOyT7AeL5iCIaWKWiT3LSDbUPAOlGHe03JVtC5GqXb4D4hHRljvpus4WUshr/AxdN3cXEpwUzeIdHr/6QOyKtG1I6yGKEcHBweGY60OHwiGAy0Z2aFfIaQhzU04w+QL72PMz9sYu7ldWzNXsJ28AHf+FvwFVpeb+FUYzYyiNYc1sRmvdEbykD1JvtEB41oHRvxO+ic+g2Wf1zHwrevwZ8iKfI1pVYkwKhCoxelDofW5XlEKA6MJWBStizHb6AzdhuN8ht45vu38K2/9lB89io2o9+ggXVji5D0qkfR7DUoonM6iqjsE7So5BvFm1gLL6H6zL/i4l+2cfqlFOnEprFOqZyAKWVVenz4KEGIsg7m23fwHOvzh2c3cLF8BYv4FemVrGFddFjvVG3LenRYmy5K6PgxuoF8lhQ5t0Hi02D6K3gq/h9848wlfHXpXSwGH6LQSeClPd8iBweHJ4Lg1Vdf/bvescMjYtTsoAfF4HDR5wF7LS2fprprwEOwM0/s8IqgdXCq6QZu1K5itXXTEARzyVzWIIt1ys39BBnf1LtRG9EUMHmSii9rYn2dCr6dIPIiW19rpqFqtSTFzizSytEJkmgDzeL72B5/C8H5d7H8ShtPvbyN7NQNBcS15SgDM2Ri5euZFsxwxIQ/i/NTX8B0tEgioGm3NpU2lachlI5HmTr3cG3zCmoa8qCyNusVUV17vaixylNrEGlV49RvIo9qmFusYOZsGRvtFazVbiHJ7prhq1zXAyp+v8q8G0iCOprRKmpj17BdeRsrxZ9j8cVtfO1vt3H6mxk6E7fRLmyxXSWTXfPHV3m+HIGtrPpfawJNB4u4MHsR5XyScvCHi98ZhfA3bd7V/R1kN6+j+7+/RrFLEmSmO3NjOmvdsJvPxH7eRMy6T411sDglN9wm0tY2263BliKZZMZaPqCQjXGLEOcpinmD6aqkMHcwh8u4ULmOl86v4+LJFZwqrjJN1fYnhc5Ztm1r+01SyfK/Zc3QHBtDuLyM0oVlZHGR9VBCESINO/bIu246pvg8/YY5fDJ4KNLSN+N/3hTsQThqO/TvP2o+xxGf5rpTIrM/iLTcrP8O99s3qYh6pMVgl7ToWOvcdII2yUcNQZlv96fKmJ6N0MruYLu5jWbKayGVuwhK0DDTfZNoE63CBrbj69gqvo3sxCUsffcOnvtRgrmv15DObfN6F5lInlShFDzLNyH4tfX+tJr05CBpMbFCKJZ5fPvPMChjG/c7d0la3hkiLT7PG/XpkUh48pGRo6ryCM004iaJRjDXwFNfijF+Zg3e7HWs4wrWVLegitXwHWyN3+B2FdvTl9Fe+g0qX38fL/xFiud/1KbSvoVu6T46vfWA0qxIscZITqx9pst6GYOR+b1RMLoYU/4Clme+jDKmdkhLV/LKaZjJsqwN3LqJDklL3NHaTrsY+p5xy8OUGbRIHquoxFUsTedYrMjT5j7vvY1CuolxrHK7z/LucLuOabyPhegGvjD7Ib5z+kO8+HQTFyarmPW2STa0xlCGNKQcofyIemX2ylct9iUtBZIWJXjCpGWn7o+AwReKB3m5eNRyHBweFF6SJPZX7AGwl7T0Pzs4fJZgIpdSwaS+ZpP4CKQl+VVvhTXcSt7D6/f+A5e3XjcLGaY7EVWlXK0fiJxetUJxSsWoyLZhVkJcn8N49Slka2XcfWsCty4D925W0digKutYXxgv7CAopIjnEiyeB859xcPcs1vAzF004wYSPyDJKcL3GyxNzq1ScpKN8hoZJG+GKC3haf8CfnDmz3Fu7MsoeCWjNEUCPG4iOLK0tLxNXGn8Ej+79m9UzR+YFZQDat5Q046Zpw1Rr43y9RUqP2lGkYiRVrQexwTy6hjS9Xnc+u0Ytu9VSMjum6UMSpUA0wsBKicTFObvozt+m/euA3FMeaXoKTPzQafMfAOEmllFGTRVWU0vWVW/Qj6Bc9EL+PHy3+BEfgbtIDerN7fDzDhAB10Sym4N2Ruvof73/4TJ1oa5T21h0ZfdVqPji1qSPOUpPLMAZpl1X0AjmcBaK8C9xEO1xnqmRbYTiRTboxC1MDWRY6Fcx6y/gqJi2ai5Zekyfd0xq1ELha4G/XpdQkiKDj+kPFqfnkH8yiuY+7NX0KlMsW68yPsTXo8zsh5+lqXmcWKQdDwsHGlx+LTBkRYHhz04Omnhs+Fp3Z42yQJVFS8H+RgV3QR1dYywNY28XkF9w0P9PhVa0+ezxLIKCYK4g8pcisosn7FiglyzdKIN5qPVgiOkWuVYWtqIKDIhHwp9oGrUOMnjIC0mT5WhqbuUjWXK+0aNkAdUsP4qzxcQ+WVT18j30WnwensGfjZL5dxGYDhDGz4VeerXEIwnaOXb6OYtFLsTxtJhx3VCiqVVs0kOtDwBz8u75eik5SAEJEWy6GhATpYatpuWYTANZK81I4/tLLdoWZjYr74cpBVBVzOL2iioQw2JU9h/S4jMUCGFNt8EM2Vc8ptLzOf4kpaHhSMtDk8a9olzcHB4bPD4Zh6QZIRUbiEVYkBF2PVb2AxWsDl+C9vzb6J5+mcIvvB/mPzGVcx/70MsvHwd89+9hqlvvovw+V8hOXEJral7aBYzdMMiyYKGbeqIvBU+tA2WIlW4D/qa8gjISHrIlqh45QNCZe03qc4b8Pw6P1dRovKLswh5EqPdLqKadNEqrqE9fQWN6Z8jmXkL3elL6E5eRqf0HrJoBc2kRoVfJg1YIDGKSTQCEo6cZE4rL5PksL0yv8FteGjn4aH6s22M4lcb9Y57myLVFjpA2I3gd0nmNE0dsSGeql8B26ikLUywvhPY0uRsVLItjKc1jHcT3usjycZI+EKS2BaSqM6+YdvkJGht0h5jNfvsoP9y+iBWFgeHjwMPZWlxcPg8wOp9+wOtF3DZL+T/kaKG9fotvHb33/F28zXZHewPOpXvUAwRWV/4dr4XSq98ZeXg/+aY2tJc24G5pncJne8rQOXVf0xtHnazsC/Q/etAsbmAk/Ez+NbyH+B86fdIFabhsyIqShagTh6yPk1ShQ3cqF/G67/9L2yl6+gGXeNbYXxZdvLLzCKGu+CxhnYM+ql0rrcndqreu21X2dm9fGMMegTLWgCUl9173hj31jVZTrGFzhiWimfx8sUfYsIn6cEMihKByZOCrBhtlKsbwOu/wLv/8M8439A6Sf1+oTyaEz4Af+ejmRAtAXqfuVc77QyFfRQaLoJZJLF/Dz/29vLDMWeZn9pR2Vh/I2bLc9rWJqcx+aM/wcyf/gDtmRmStpAkjveQULXla0OZohHlf9rhiI3Dk4YjLQ4Oe2BVMbc82CEtGuZJUSdpuY03b/03rtQUnMyi/ya6Aw0VMPVBsMp5F0P3ErukxcIzQd92YWcN9T7sg2K3jPniEn7/2e/j6fIySvkkdaJVniItXpukhUoyC6vYbN/GtZV3UM/rPJehq7KMF+wujHxD5Q0rJi26OIQhkiP6MfxZ9o5B7L0/laBsbxNVln1QTIuYiRZwbv4CxoIJkpQCYk05opitiMSFpGWyto30jV/i7X/8FzyztTHUpsPtK1I0UB6vDUtHmKGi/eFR1r39MQRl1qu/ZjeZNjen5SOTYW1mElM//mOcImlpTqpfVBcmYFqteK2hMUdaHBwOhiMtDg57oCio1qk1ohJR9A5ZWuSRkCBpV7Ga3MVGum5Vt96kpfgGlaRR+sOKfwi8Z/Cn3d468BhSKQ6nGI1hpUwSoCm6KGFp4iwmgjlEmYKhSYmKPnQQNGMrXkS5gxqSvGn8c2QVkNK0vjG7kCIakiaXJWT3jFH7AyLsjbuzV75MfiQDGFJ05pBtT3m016iOQtUVOkVyKZVL5V5sI0zlzxOgFYI1yjHWqqH1y0t496f/idL6qkm3vwJVXXbl2yu7yh+8/lGI9PQOD4GytZuhmUizlESlgsXvv4Sl730b7YkptnaI2PBb0txANQnYf460ODgcBEdaHBz2wMzMkRKnAslzERcqc/4WK4aKnEzN0AMVsVXmssvYz7vQ8QjSIuz5bR+mBQ9JWkx5u8jRpCoMKX1MXhIbx1BlJ9KivzChppd40o2BDnS/yuOJHbEH8tR4yqA4w8VZfjcA+QcP4iN6bJgTHYw++QuYocZbeuVkxRZ8mTFYx1agQP05SjnJ2GYD2NhAHiZWeZpNN+xUirD3DWGo73r3HQj2fn5wBYwVZnf8iWDvaJiKRyJrnnycJieRkrw0AgXiK6BouoBpAn3n2POOtDg4HAhHWhwc9sK85VubfZ5TwVERGb3G32OpH+PTOWIIwfpqHOWxotI6wu2axWKk09iEPTK7/gKChhKZ/KUtdZ1n+uMYD4yDEx+mc/eMPu3BgBw90a2wdtBOkKOzZUYB2iQI6i1Ry7DLjLMUrcKoAiTcqKi1KuXgutk222VpNuVu+r13qgqW2NrjmAd2SrxC+CkqjWZH6RzzZT1FWmzK4wlHWhyeNBxpcXD4CKwC2VX6w4rEKvwRj82Rn6jH8MPfz8L410jRyqfFsomuWd9HQmogpF83G9jN1NlWcAT69++PUZRBIAXsHe2P3KztIzGUjhvlGaQKBVmOCIna5442vWxixMjsleIQVnUo9hRwkKI2yfjfYHLWRe44Vg4LK/uuVHtyP1ZwpMXhScORFgeHPbBvu321Yh8Pc9x/UqhhrMF/fxz5Z3vQQvII6Mtv430o4Jn2sq5oWISUwRCZgXrtwJ7rqf4R2LU07IdR0qsES0EOgiwn8vSgpGyHfj4K0qdS5XNTSO1Cjtq0krUJ8MZjhdORjanQPaj0B8Vo+YZqZ5LadttBf3ion03/svYFDwnltNYV9oLk7iVXSH8d7sntWMGRFocnDUdaHBz2YIe06MngodxTd1QJtYwcVjsjfpv1xtx/a34kSJM9BkjR5z2riEca4Mu/RdXoK9PBYnSh5/yaef2AdQfgEPn2me09BOOOcgAknqaXa/EAMwSnsSbLTqxfEbeApGTntGbq9IZWuoG1AcmbZzQOEbDf1/uChY7o3f6dStVPafZqXu7b/O4ojXG+1YFmbBly6RmSpvT9PI4jHGlxeLIA/h+cKQdwofDC5AAAAABJRU5ErkJggg==)\n",
        "\n",
        "Nessa votação a maioria venceu, então a floresta decidiu classificar o novo cliente como \"vai cancelar o serviço\".\n",
        "\n",
        "É assim que funciona a previsão de uma árvore de decisão, um algoritmo muito poderoso e com mais processamento, por isso é necessário avaliar se é uma opção que realmente resolver o problema de forma eficiente."
      ],
      "metadata": {
        "id": "qS4sEc_KD_yn"
      }
    },
    {
      "cell_type": "markdown",
      "source": [
        "- Ao utilizar o modelo Random Forest, podemos escolher a quantidade de árvores de decisão a serem criadas. No scikit learn, podemos controlar a quantidade através do parâmetro n_estimators.\n",
        "- O modelo irá criar um conjunto de dados para cada árvore a partir do método bootstrapping na base de dados original, resultando em um resultado distinto para cada uma das árvores.\n",
        "- Por fim, será feita uma votação entre os resultados das árvores e a classe predita na maioria das árvores é escolhida como a classificação do modelo Random Forest."
      ],
      "metadata": {
        "id": "S9NIuvg0EPbw"
      }
    },
    {
      "cell_type": "markdown",
      "source": [
        "## **4.2 Ajuste e Previsão**"
      ],
      "metadata": {
        "id": "RciOpqx_EXsj"
      }
    },
    {
      "cell_type": "code",
      "source": [
        "from pyspark.ml.classification import RandomForestClassifier"
      ],
      "metadata": {
        "id": "iceI0PXqEvB1"
      },
      "execution_count": null,
      "outputs": []
    },
    {
      "cell_type": "code",
      "source": [
        "rfc = RandomForestClassifier(seed=SEED)"
      ],
      "metadata": {
        "id": "WfCjr56pEyYt"
      },
      "execution_count": null,
      "outputs": []
    },
    {
      "cell_type": "code",
      "source": [
        "modelo_rfc = rfc.fit(treino)"
      ],
      "metadata": {
        "id": "GVpJ-s4EEzsx"
      },
      "execution_count": null,
      "outputs": []
    },
    {
      "cell_type": "code",
      "source": [
        "previsoes_rfc_treino = modelo_rfc.transform(treino)"
      ],
      "metadata": {
        "id": "sKott1ddFGcE"
      },
      "execution_count": null,
      "outputs": []
    },
    {
      "cell_type": "code",
      "source": [
        "previsoes_rfc_treino.show()"
      ],
      "metadata": {
        "colab": {
          "base_uri": "https://localhost:8080/"
        },
        "id": "uYMyfLm-FIEj",
        "outputId": "8adb320e-1bc7-4175-a838-23e2bdce0612"
      },
      "execution_count": null,
      "outputs": [
        {
          "output_type": "stream",
          "name": "stdout",
          "text": [
            "+--------------------+-----+--------------------+--------------------+----------+\n",
            "|            features|label|       rawPrediction|         probability|prediction|\n",
            "+--------------------+-----+--------------------+--------------------+----------+\n",
            "|(24,[0,1,2,3,4,5,...|    0|[15.0052773466704...|[0.75026386733352...|       0.0|\n",
            "|(24,[0,1,2,3,4,5,...|    0|[16.9295040273249...|[0.84647520136624...|       0.0|\n",
            "|(24,[0,1,2,3,4,5,...|    0|[9.13052909106814...|[0.45652645455340...|       1.0|\n",
            "|(24,[0,1,2,3,4,5,...|    0|[9.13052909106814...|[0.45652645455340...|       1.0|\n",
            "|(24,[0,1,2,3,4,5,...|    0|[8.59288938528764...|[0.42964446926438...|       1.0|\n",
            "|(24,[0,1,2,3,4,5,...|    1|[5.59647122885698...|[0.27982356144284...|       1.0|\n",
            "|(24,[0,1,2,3,4,5,...|    0|[9.33276328267787...|[0.46663816413389...|       1.0|\n",
            "|(24,[0,1,2,3,4,5,...|    1|[5.21616013157118...|[0.26080800657855...|       1.0|\n",
            "|(24,[0,1,2,3,4,5,...|    0|[5.45640255581361...|[0.27282012779068...|       1.0|\n",
            "|(24,[0,1,2,3,4,5,...|    0|[4.60442649894724...|[0.23022132494736...|       1.0|\n",
            "|(24,[0,1,2,3,4,5,...|    0|[5.67535692640751...|[0.28376784632037...|       1.0|\n",
            "|(24,[0,1,2,3,4,5,...|    0|[12.0200554644482...|[0.60100277322241...|       0.0|\n",
            "|(24,[0,1,2,3,4,5,...|    0|[4.78964359060310...|[0.23948217953015...|       1.0|\n",
            "|(24,[0,1,2,3,4,5,...|    0|[16.0034864403362...|[0.80017432201681...|       0.0|\n",
            "|(24,[0,1,2,3,4,5,...|    0|[9.33276328267787...|[0.46663816413389...|       1.0|\n",
            "|(24,[0,1,2,3,4,5,...|    1|[7.72923092350890...|[0.38646154617544...|       1.0|\n",
            "|(24,[0,1,2,3,4,5,...|    0|[15.9609332488468...|[0.79804666244234...|       0.0|\n",
            "|(24,[0,1,2,3,4,5,...|    0|[7.08160776437640...|[0.35408038821882...|       1.0|\n",
            "|(24,[0,1,2,3,4,5,...|    0|[18.2497256374866...|[0.91248628187433...|       0.0|\n",
            "|(24,[0,1,2,3,4,5,...|    0|[14.4759069267546...|[0.72379534633773...|       0.0|\n",
            "+--------------------+-----+--------------------+--------------------+----------+\n",
            "only showing top 20 rows\n",
            "\n"
          ]
        }
      ]
    },
    {
      "cell_type": "markdown",
      "source": [
        "analisando o DataFrame, notamos que dos cinco primeiro exemplos ele classificou que duas pessoas não cancelariam o serviço e que três cancelariam. Como nenhuma cancelou, o acerto foi de duas previsões."
      ],
      "metadata": {
        "id": "aZNGWNYYFn2v"
      }
    },
    {
      "cell_type": "markdown",
      "source": [
        "## **4.3 Métricas**"
      ],
      "metadata": {
        "id": "6cvKZ1rDFkrl"
      }
    },
    {
      "cell_type": "code",
      "source": [
        "previsoes_rfc_teste = modelo_rfc.transform(teste)"
      ],
      "metadata": {
        "id": "0EbHhGphFrKK"
      },
      "execution_count": null,
      "outputs": []
    },
    {
      "cell_type": "code",
      "source": [
        "previsoes_rfc_teste.show()"
      ],
      "metadata": {
        "colab": {
          "base_uri": "https://localhost:8080/"
        },
        "id": "GLfY3BPtFtLo",
        "outputId": "3a1073dd-0886-4b33-f7d1-b57515aeff8b"
      },
      "execution_count": null,
      "outputs": [
        {
          "output_type": "stream",
          "name": "stdout",
          "text": [
            "+--------------------+-----+--------------------+--------------------+----------+\n",
            "|            features|label|       rawPrediction|         probability|prediction|\n",
            "+--------------------+-----+--------------------+--------------------+----------+\n",
            "|(24,[0,1,2,3,4,5,...|    0|[16.7433871675615...|[0.83716935837807...|       0.0|\n",
            "|(24,[0,1,2,3,4,5,...|    0|[7.27313214599648...|[0.36365660729982...|       1.0|\n",
            "|(24,[0,1,2,3,4,5,...|    1|[7.46885072161585...|[0.37344253608079...|       1.0|\n",
            "|(24,[0,1,2,3,4,5,...|    1|[9.33276328267787...|[0.46663816413389...|       1.0|\n",
            "|(24,[0,1,2,3,4,5,...|    0|[7.79829004739264...|[0.38991450236963...|       1.0|\n",
            "|(24,[0,1,2,3,4,5,...|    0|[7.13263407834549...|[0.35663170391727...|       1.0|\n",
            "|(24,[0,1,2,3,4,5,...|    0|[4.45872635511159...|[0.22293631775557...|       1.0|\n",
            "|(24,[0,1,2,3,4,5,...|    0|[7.84691519125130...|[0.39234575956256...|       1.0|\n",
            "|(24,[0,1,2,3,4,5,...|    0|[9.94796150783366...|[0.49739807539168...|       1.0|\n",
            "|(24,[0,1,2,3,4,5,...|    0|[13.9419392354793...|[0.69709696177396...|       0.0|\n",
            "|(24,[0,1,2,3,4,5,...|    1|[5.91309232317621...|[0.29565461615881...|       1.0|\n",
            "|(24,[0,1,2,3,4,5,...|    1|[4.00056870239560...|[0.20002843511978...|       1.0|\n",
            "|(24,[0,1,2,3,4,5,...|    0|[18.3120509476018...|[0.91560254738009...|       0.0|\n",
            "|(24,[0,1,2,3,4,8,...|    0|[11.9244461164393...|[0.59622230582196...|       0.0|\n",
            "|(24,[0,1,2,3,4,8,...|    0|[15.3485289130138...|[0.76742644565069...|       0.0|\n",
            "|(24,[0,1,2,3,4,8,...|    0|[16.5284444417352...|[0.82642222208676...|       0.0|\n",
            "|(24,[0,1,2,3,5,6,...|    0|[18.0005759997679...|[0.90002879998839...|       0.0|\n",
            "|(24,[0,1,2,3,5,6,...|    0|[12.7577462101532...|[0.63788731050766...|       0.0|\n",
            "|(24,[0,1,2,3,5,6,...|    0|[17.3802234084668...|[0.86901117042334...|       0.0|\n",
            "|(24,[0,1,2,3,5,6,...|    0|[17.2590921858649...|[0.86295460929324...|       0.0|\n",
            "+--------------------+-----+--------------------+--------------------+----------+\n",
            "only showing top 20 rows\n",
            "\n"
          ]
        }
      ]
    },
    {
      "cell_type": "code",
      "source": [
        "print('Random Forest Classifier')\n",
        "print(\"=\"*40)\n",
        "print(\"Dados de Treino\")\n",
        "print(\"=\"*40)\n",
        "print(\"Matriz de Confusão\")\n",
        "print(\"-\"*40)\n",
        "calcula_mostra_matriz_confusao(previsoes_rfc_treino, normalize=False)\n",
        "print(\"-\"*40)\n",
        "print(\"Métricas\")\n",
        "print(\"-\"*40)\n",
        "print(\"Acurácia: %f\" % evaluator.evaluate(previsoes_rfc_treino, {evaluator.metricName: \"accuracy\"}))\n",
        "print(\"Precisão: %f\" % evaluator.evaluate(previsoes_rfc_treino, {evaluator.metricName: \"precisionByLabel\", evaluator.metricLabel: 1}))\n",
        "print(\"Recall: %f\" % evaluator.evaluate(previsoes_rfc_treino, {evaluator.metricName: \"recallByLabel\", evaluator.metricLabel: 1}))\n",
        "print(\"F1: %f\" % evaluator.evaluate(previsoes_rfc_treino, {evaluator.metricName: \"fMeasureByLabel\", evaluator.metricLabel: 1}))\n",
        "print(\"\")\n",
        "print(\"=\"*40)\n",
        "print(\"Dados de Teste\")\n",
        "print(\"=\"*40)\n",
        "print(\"Matriz de Confusão\")\n",
        "print(\"-\"*40)\n",
        "calcula_mostra_matriz_confusao(previsoes_rfc_teste, normalize=False)\n",
        "print(\"-\"*40)\n",
        "print(\"Métricas\")\n",
        "print(\"-\"*40)\n",
        "print(\"Acurácia: %f\" % evaluator.evaluate(previsoes_rfc_teste, {evaluator.metricName: \"accuracy\"}))\n",
        "print(\"Precisão: %f\" % evaluator.evaluate(previsoes_rfc_teste, {evaluator.metricName: \"precisionByLabel\", evaluator.metricLabel: 1}))\n",
        "print(\"Recall: %f\" % evaluator.evaluate(previsoes_rfc_teste, {evaluator.metricName: \"recallByLabel\", evaluator.metricLabel: 1}))\n",
        "print(\"F1: %f\" % evaluator.evaluate(previsoes_rfc_teste, {evaluator.metricName: \"fMeasureByLabel\", evaluator.metricLabel: 1}))"
      ],
      "metadata": {
        "colab": {
          "base_uri": "https://localhost:8080/"
        },
        "id": "mv_7iDRuFvUV",
        "outputId": "06ca56b9-1cf0-4fde-d71f-742384cf9f9c"
      },
      "execution_count": null,
      "outputs": [
        {
          "output_type": "stream",
          "name": "stdout",
          "text": [
            "Random Forest Classifier\n",
            "========================================\n",
            "Dados de Treino\n",
            "========================================\n",
            "Matriz de Confusão\n",
            "----------------------------------------\n",
            "                     Previsto\n",
            "                Churn       Não-Churn\n",
            "     Churn        2950         661\n",
            "Real\n",
            "     Não-Churn    884         2711\n",
            "----------------------------------------\n",
            "Métricas\n",
            "----------------------------------------\n",
            "Acurácia: 0.785595\n",
            "Precisão: 0.769431\n",
            "Recall: 0.816948\n",
            "F1: 0.792478\n",
            "\n",
            "========================================\n",
            "Dados de Teste\n",
            "========================================\n",
            "Matriz de Confusão\n",
            "----------------------------------------\n",
            "                     Previsto\n",
            "                Churn       Não-Churn\n",
            "     Churn        1257         306\n",
            "Real\n",
            "     Não-Churn    416         1163\n",
            "----------------------------------------\n",
            "Métricas\n",
            "----------------------------------------\n",
            "Acurácia: 0.770210\n",
            "Precisão: 0.751345\n",
            "Recall: 0.804223\n",
            "F1: 0.776885\n"
          ]
        }
      ]
    },
    {
      "cell_type": "markdown",
      "source": [
        "Transformando os modelos em funções para viabilizar a análise\n",
        "\n"
      ],
      "metadata": {
        "id": "f2kPL0g2KjWU"
      }
    },
    {
      "cell_type": "code",
      "source": [
        "def compara_metricas_modelos(lista_previsoes):\n",
        "\n",
        "  # ‘s’ será minha string de retorno\n",
        "  # ela vai coletar e montar minha matriz de confusão\n",
        "  # e também os valores de acurácia, precisão, recall e F1-score\n",
        "  s = '\\n'\n",
        "\n",
        "  for modelo, df_transform_modelo in lista_previsoes.items():\n",
        "\n",
        "    s += '-' * 50 + '\\n' #linha de separação\n",
        "    s += modelo + '\\n'\n",
        "\n",
        "    # os passos para montagem da matriz de confusão são os mesmos da aula\n",
        "    tp = df_transform_modelo.select('label', 'prediction').where((f.col('label') == 1) & (f.col('prediction') == 1)).count()\n",
        "    tn = df_transform_modelo.select('label', 'prediction').where((f.col('label') == 0) & (f.col('prediction') == 0)).count()\n",
        "    fp = df_transform_modelo.select('label', 'prediction').where((f.col('label') == 0) & (f.col('prediction') == 1)).count()\n",
        "    fn = df_transform_modelo.select('label', 'prediction').where((f.col('label') == 1) & (f.col('prediction') == 0)).count()\n",
        "\n",
        "    # construção da minha string da matriz de confusão  \n",
        "    s += ' '*20 + 'Previsto\\n'\n",
        "    s += ' '*15 +  'Churn' + ' '*5 + 'Não-Churn\\n'\n",
        "    s += ' '*4 + 'Churn' + ' '*6 +  str(int(tp)) + ' '*7 + str(int(fn)) + '\\n'\n",
        "    s += 'Real\\n'\n",
        "    s += ' '*4 + 'Não-Churn' + ' '*2 + str(int(fp)) +  ' '*7 + str(int(tn))  + '\\n'\n",
        "    s += '\\n'\n",
        "\n",
        "    # adiciono os valores de cada métrica a minha string de retorno com MulticlassClassificationEvaluator\n",
        "    evaluator = MulticlassClassificationEvaluator()\n",
        "\n",
        "    s += f'Acurácia: {evaluator.evaluate(df_transform_modelo, {evaluator.metricName: \"accuracy\"})}\\n'\n",
        "    s += f'Precisão: {evaluator.evaluate(df_transform_modelo, {evaluator.metricName: \"precisionByLabel\", evaluator.metricLabel: 1})}\\n'\n",
        "    s += f'Recall: {evaluator.evaluate(df_transform_modelo, {evaluator.metricName: \"recallByLabel\", evaluator.metricLabel: 1})}\\n'\n",
        "    s += f'F1: {evaluator.evaluate(df_transform_modelo, {evaluator.metricName: \"fMeasureByLabel\", evaluator.metricLabel: 1})}\\n'\n",
        "\n",
        "  return s"
      ],
      "metadata": {
        "id": "3NtasGEGKlMh"
      },
      "execution_count": null,
      "outputs": []
    },
    {
      "cell_type": "code",
      "source": [
        "print(compara_metricas_modelos({'Logistic Regression': previsoes_lr_teste,\n",
        "                                'DecisionTreeClassifier': previsoes_dtc_teste,\n",
        "                                'RandomForestClassifier': previsoes_rfc_teste}))"
      ],
      "metadata": {
        "colab": {
          "base_uri": "https://localhost:8080/"
        },
        "id": "DGqFzInUKnzL",
        "outputId": "fc395382-b8eb-42e4-be83-f850d2a89d9d"
      },
      "execution_count": null,
      "outputs": [
        {
          "output_type": "stream",
          "name": "stdout",
          "text": [
            "\n",
            "--------------------------------------------------\n",
            "Logistic Regression\n",
            "                    Previsto\n",
            "               Churn     Não-Churn\n",
            "    Churn      1256       307\n",
            "Real\n",
            "    Não-Churn  400       1179\n",
            "\n",
            "Acurácia: 0.7749840865690643\n",
            "Precisão: 0.7584541062801933\n",
            "Recall: 0.8035828534868842\n",
            "F1: 0.7803665734700218\n",
            "--------------------------------------------------\n",
            "DecisionTreeClassifier\n",
            "                    Previsto\n",
            "               Churn     Não-Churn\n",
            "    Churn      1181       382\n",
            "Real\n",
            "    Não-Churn  336       1243\n",
            "\n",
            "Acurácia: 0.7714831317632082\n",
            "Precisão: 0.7785102175346078\n",
            "Recall: 0.7555982085732565\n",
            "F1: 0.7668831168831168\n",
            "--------------------------------------------------\n",
            "RandomForestClassifier\n",
            "                    Previsto\n",
            "               Churn     Não-Churn\n",
            "    Churn      1257       306\n",
            "Real\n",
            "    Não-Churn  416       1163\n",
            "\n",
            "Acurácia: 0.7702100572883513\n",
            "Precisão: 0.7513448894202033\n",
            "Recall: 0.8042226487523992\n",
            "F1: 0.7768850432632881\n",
            "\n"
          ]
        }
      ]
    },
    {
      "cell_type": "markdown",
      "source": [
        "## **5.0 Técnicas de Otimização**"
      ],
      "metadata": {
        "id": "UFwMh8iHUaQa"
      }
    },
    {
      "cell_type": "markdown",
      "source": [
        "## **5.1 Ferramenta Cross Validation (CV)**"
      ],
      "metadata": {
        "id": "NmbUVfvZUgHY"
      }
    },
    {
      "cell_type": "markdown",
      "source": [
        "**maxDepth**\n",
        "\n",
        "Pensando nisso, um dos hiperparâmetros que podemos explorar para essa situação é o maxDepth: ele fala a respeito da profundidade máxima que a árvore pode alcançar. Assim, podemos diminuir o efeito do algoritmo como especialista em dados de treino, criando uma solução mais geral.\n",
        "\n",
        "Quando falamos em dar o próximo passo no pipeline, outra etapa com a qual devemos nos preocupar é referente ao conjunto de dados utilizados para fazer esse experimento.\n",
        "\n",
        "No momento do treino do nosso modelo, utilizamos um conjunto específico de dados, o qual é determinado de maneira aleatória. A aleatoriedade pode fazer com que a nossa solução seja ótima para esse determinado conjunto, tanto para dados de treino quanto de teste.\n",
        "\n",
        "Portanto, sabemos apenas que o algoritmo performa bem para o conjunto de dados em questão."
      ],
      "metadata": {
        "id": "Xr7L7c83U7Pa"
      }
    },
    {
      "cell_type": "markdown",
      "source": [
        "**Validação cruzada**\n",
        "\n",
        "Existe uma técnica por meio da qual podemos variar os grupos de dados, os quais serão ajustados, e entender como o modelo performa na média. De maneira geral, vamos compreender como o algoritmo se comporta com os dados.\n",
        "\n",
        "Trata-se de uma etapa importante para diminuirmos o efeito da aleatoriedade ao selecionar um grupo de dados.\n",
        "\n",
        "Essa técnica é denominada validação cruzada e corresponde a uma das ferramentas presentes no pacote de tuning do PySpark. O módulo de tuning diz respeito aos hiperparâmetros: **\"tuning\" é um termo alternativo para \"otimização de hiperparâmetros\"**.\n",
        "\n",
        "Portanto, na etapa de tuning temos 2 ferramentas: a de variar os hiperparâmetros; e a de criar a validação cruzada na nossa ferramenta."
      ],
      "metadata": {
        "id": "vsUibx1ZU9Bi"
      }
    },
    {
      "cell_type": "markdown",
      "source": [
        "## **5.2 Árvore de Decisão com Cross Validation**"
      ],
      "metadata": {
        "id": "IkIpS_BvVa1A"
      }
    },
    {
      "cell_type": "code",
      "source": [
        "from pyspark.ml.tuning import CrossValidator, ParamGridBuilder"
      ],
      "metadata": {
        "id": "8wYHskroVfQQ"
      },
      "execution_count": null,
      "outputs": []
    },
    {
      "cell_type": "code",
      "source": [
        "dtc = DecisionTreeClassifier(seed=SEED)"
      ],
      "metadata": {
        "id": "WTE3ukpxXnYT"
      },
      "execution_count": null,
      "outputs": []
    },
    {
      "cell_type": "code",
      "source": [
        "grid = ParamGridBuilder()\\\n",
        "        .addGrid(dtc.maxDepth, [2, 5, 10])\\\n",
        "        .addGrid(dtc.maxBins, [10, 32, 45])\\\n",
        "        .build()"
      ],
      "metadata": {
        "id": "xLg0GoLzYFl_"
      },
      "execution_count": null,
      "outputs": []
    },
    {
      "cell_type": "code",
      "source": [
        "evaluator = MulticlassClassificationEvaluator()"
      ],
      "metadata": {
        "id": "w7H28-E0YmyX"
      },
      "execution_count": null,
      "outputs": []
    },
    {
      "cell_type": "code",
      "source": [
        "dtc_cv = CrossValidator(\n",
        "    estimator=dtc,\n",
        "    estimatorParamMaps=grid,\n",
        "    evaluator=evaluator,\n",
        "    numFolds=3,\n",
        "    seed=SEED\n",
        ")"
      ],
      "metadata": {
        "id": "JlCG4STyYroJ"
      },
      "execution_count": null,
      "outputs": []
    },
    {
      "cell_type": "code",
      "source": [
        "modelo_dtc_cv = dtc_cv.fit(treino)"
      ],
      "metadata": {
        "id": "2LnoFgfAZ1k5"
      },
      "execution_count": null,
      "outputs": []
    },
    {
      "cell_type": "code",
      "source": [
        "previsoes_dtc_cv_teste = modelo_dtc_cv.transform(teste)"
      ],
      "metadata": {
        "id": "dWlch6luaEXo"
      },
      "execution_count": null,
      "outputs": []
    },
    {
      "cell_type": "code",
      "source": [
        "print('Decision Tree Classifier - Tuning')\n",
        "print(\"=\"*40)\n",
        "print(\"Dados de Teste\")\n",
        "print(\"=\"*40)\n",
        "print(\"Matriz de Confusão\")\n",
        "print(\"-\"*40)\n",
        "calcula_mostra_matriz_confusao(previsoes_dtc_cv_teste, normalize=False)\n",
        "print(\"-\"*40)\n",
        "print(\"Métricas\")\n",
        "print(\"-\"*40)\n",
        "print(\"Acurácia: %f\" % evaluator.evaluate(previsoes_dtc_cv_teste, {evaluator.metricName: \"accuracy\"}))\n",
        "print(\"Precisão: %f\" % evaluator.evaluate(previsoes_dtc_cv_teste, {evaluator.metricName: \"precisionByLabel\", evaluator.metricLabel: 1}))\n",
        "print(\"Recall: %f\" % evaluator.evaluate(previsoes_dtc_cv_teste, {evaluator.metricName: \"recallByLabel\", evaluator.metricLabel: 1}))\n",
        "print(\"F1: %f\" % evaluator.evaluate(previsoes_dtc_cv_teste, {evaluator.metricName: \"fMeasureByLabel\", evaluator.metricLabel: 1}))"
      ],
      "metadata": {
        "colab": {
          "base_uri": "https://localhost:8080/"
        },
        "id": "Hm_9dPorcflS",
        "outputId": "675cc548-2111-447e-bc38-1d78fdcc57b4"
      },
      "execution_count": null,
      "outputs": [
        {
          "output_type": "stream",
          "name": "stdout",
          "text": [
            "Decision Tree Classifier - Tuning\n",
            "========================================\n",
            "Dados de Teste\n",
            "========================================\n",
            "Matriz de Confusão\n",
            "----------------------------------------\n",
            "                     Previsto\n",
            "                Churn       Não-Churn\n",
            "     Churn        1327         236\n",
            "Real\n",
            "     Não-Churn    423         1156\n",
            "----------------------------------------\n",
            "Métricas\n",
            "----------------------------------------\n",
            "Acurácia: 0.790261\n",
            "Precisão: 0.758286\n",
            "Recall: 0.849008\n",
            "F1: 0.801087\n"
          ]
        }
      ]
    },
    {
      "cell_type": "markdown",
      "source": [
        "## **5.3 Random Forest com Cross Validation**"
      ],
      "metadata": {
        "id": "FHJ3ZNbgdbRN"
      }
    },
    {
      "cell_type": "code",
      "source": [
        "rfc = RandomForestClassifier(seed=SEED)"
      ],
      "metadata": {
        "id": "qwGJy0dCd0u6"
      },
      "execution_count": null,
      "outputs": []
    },
    {
      "cell_type": "code",
      "source": [
        "grid = ParamGridBuilder()\\\n",
        "        .addGrid(rfc.maxDepth, [2, 5, 10])\\\n",
        "        .addGrid(rfc.maxBins, [10, 32, 45])\\\n",
        "        .addGrid(rfc.numTrees, [10, 20, 50])\\\n",
        "        .build()"
      ],
      "metadata": {
        "id": "VW0FHEnDd1l8"
      },
      "execution_count": null,
      "outputs": []
    },
    {
      "cell_type": "code",
      "source": [
        "evaluator = MulticlassClassificationEvaluator()"
      ],
      "metadata": {
        "id": "Oj4bZk9Sd61M"
      },
      "execution_count": null,
      "outputs": []
    },
    {
      "cell_type": "code",
      "source": [
        "rfc_cv = CrossValidator(\n",
        "    estimator=rfc,\n",
        "    estimatorParamMaps=grid,\n",
        "    evaluator=evaluator,\n",
        "    numFolds=3,\n",
        "    seed=SEED\n",
        ")"
      ],
      "metadata": {
        "id": "DG99fPO1d8au"
      },
      "execution_count": null,
      "outputs": []
    },
    {
      "cell_type": "code",
      "source": [
        "modelo_rfc_cv = rfc_cv.fit(treino)"
      ],
      "metadata": {
        "id": "24b9h_cFd-i4"
      },
      "execution_count": null,
      "outputs": []
    },
    {
      "cell_type": "code",
      "source": [
        "previsoes_rfc_cv_teste = modelo_rfc_cv.transform(teste)"
      ],
      "metadata": {
        "id": "HroVsuXufHNi"
      },
      "execution_count": null,
      "outputs": []
    },
    {
      "cell_type": "code",
      "source": [
        "print('Random Forest Classifier - Tuning')\n",
        "print(\"=\"*40)\n",
        "print(\"Dados de Teste\")\n",
        "print(\"=\"*40)\n",
        "print(\"Matriz de Confusão\")\n",
        "print(\"-\"*40)\n",
        "calcula_mostra_matriz_confusao(previsoes_rfc_cv_teste, normalize=False)\n",
        "print(\"-\"*40)\n",
        "print(\"Métricas\")\n",
        "print(\"-\"*40)\n",
        "print(\"Acurácia: %f\" % evaluator.evaluate(previsoes_rfc_cv_teste, {evaluator.metricName: \"accuracy\"}))\n",
        "print(\"Precisão: %f\" % evaluator.evaluate(previsoes_rfc_cv_teste, {evaluator.metricName: \"precisionByLabel\", evaluator.metricLabel: 1}))\n",
        "print(\"Recall: %f\" % evaluator.evaluate(previsoes_rfc_cv_teste, {evaluator.metricName: \"recallByLabel\", evaluator.metricLabel: 1}))\n",
        "print(\"F1: %f\" % evaluator.evaluate(previsoes_rfc_cv_teste, {evaluator.metricName: \"fMeasureByLabel\", evaluator.metricLabel: 1}))"
      ],
      "metadata": {
        "colab": {
          "base_uri": "https://localhost:8080/"
        },
        "id": "mcLyHkHtfKEX",
        "outputId": "3c2a9c50-b5df-434c-f561-846e48ff9eb7"
      },
      "execution_count": null,
      "outputs": [
        {
          "output_type": "stream",
          "name": "stdout",
          "text": [
            "Random Forest Classifier - Tuning\n",
            "========================================\n",
            "Dados de Teste\n",
            "========================================\n",
            "Matriz de Confusão\n",
            "----------------------------------------\n",
            "                     Previsto\n",
            "                Churn       Não-Churn\n",
            "     Churn        1322         241\n",
            "Real\n",
            "     Não-Churn    347         1232\n",
            "----------------------------------------\n",
            "Métricas\n",
            "----------------------------------------\n",
            "Acurácia: 0.812858\n",
            "Precisão: 0.792091\n",
            "Recall: 0.845809\n",
            "F1: 0.818069\n"
          ]
        }
      ]
    },
    {
      "cell_type": "code",
      "source": [
        "melhor_modelo_rfc_cv = modelo_rfc_cv.bestModel"
      ],
      "metadata": {
        "id": "OxdJ3tNzfvyj"
      },
      "execution_count": null,
      "outputs": []
    },
    {
      "cell_type": "code",
      "source": [
        "print(melhor_modelo_rfc_cv.getMaxDepth())\n",
        "print(melhor_modelo_rfc_cv.getMaxBins())\n",
        "print(melhor_modelo_rfc_cv.getNumTrees)"
      ],
      "metadata": {
        "colab": {
          "base_uri": "https://localhost:8080/"
        },
        "id": "uYuwpISGfaWY",
        "outputId": "bb26d7f3-2847-48e7-829f-309d8ce39470"
      },
      "execution_count": null,
      "outputs": [
        {
          "output_type": "stream",
          "name": "stdout",
          "text": [
            "10\n",
            "45\n",
            "20\n"
          ]
        }
      ]
    },
    {
      "cell_type": "code",
      "source": [
        "rfc_tunning = RandomForestClassifier(maxDepth=10, maxBins=45, numTrees=20, seed=SEED)"
      ],
      "metadata": {
        "id": "aPF4YRjqgDoq"
      },
      "execution_count": null,
      "outputs": []
    },
    {
      "cell_type": "code",
      "source": [
        "modelo_rfc_tunning = rfc_tunning.fit(dataset_prep)"
      ],
      "metadata": {
        "id": "ia7zvvqmgHi7"
      },
      "execution_count": null,
      "outputs": []
    },
    {
      "cell_type": "code",
      "source": [
        "novo_cliente = [{\n",
        "    'Mais65anos': 0,\n",
        "    'MesesDeContrato': 1,\n",
        "    'MesesCobrados': 45.30540797610398,\n",
        "    'Conjuge': 0,\n",
        "    'Dependentes': 0,\n",
        "    'TelefoneFixo': 0,\n",
        "    'MaisDeUmaLinhaTelefonica': 0,\n",
        "    'SegurancaOnline': 0,\n",
        "    'BackupOnline': 0,\n",
        "    'SeguroDispositivo': 0,\n",
        "    'SuporteTecnico': 0,\n",
        "    'TVaCabo': 1,\n",
        "    'StreamingFilmes': 1,\n",
        "    'ContaCorreio': 1,\n",
        "    'Internet_DSL': 1,\n",
        "    'Internet_FibraOptica': 0,\n",
        "    'Internet_Nao': 0,\n",
        "    'TipoContrato_Mensalmente': 1,\n",
        "    'TipoContrato_UmAno': 0,\n",
        "    'TipoContrato_DoisAnos': 0,\n",
        "    'MetodoPagamento_DebitoEmConta': 0,\n",
        "    'MetodoPagamento_CartaoCredito': 0,\n",
        "    'MetodoPagamento_BoletoEletronico': 1,\n",
        "    'MetodoPagamento_Boleto': 0\n",
        "}]"
      ],
      "metadata": {
        "id": "9MIiK3YGgayN"
      },
      "execution_count": null,
      "outputs": []
    },
    {
      "cell_type": "code",
      "source": [
        "novo_cliente = spark.createDataFrame(novo_cliente)\n",
        "novo_cliente.show()"
      ],
      "metadata": {
        "colab": {
          "base_uri": "https://localhost:8080/"
        },
        "id": "LoXmPtjCgjpI",
        "outputId": "f87faa47-48df-4670-81b3-fe935255cc35"
      },
      "execution_count": null,
      "outputs": [
        {
          "output_type": "stream",
          "name": "stdout",
          "text": [
            "+------------+-------+------------+-----------+------------+--------------------+------------+----------+------------------------+-----------------+---------------+----------------------+--------------------------------+-----------------------------+-----------------------------+---------------+-----------------+---------------+--------------+-------+------------+---------------------+------------------------+------------------+\n",
            "|BackupOnline|Conjuge|ContaCorreio|Dependentes|Internet_DSL|Internet_FibraOptica|Internet_Nao|Mais65anos|MaisDeUmaLinhaTelefonica|    MesesCobrados|MesesDeContrato|MetodoPagamento_Boleto|MetodoPagamento_BoletoEletronico|MetodoPagamento_CartaoCredito|MetodoPagamento_DebitoEmConta|SegurancaOnline|SeguroDispositivo|StreamingFilmes|SuporteTecnico|TVaCabo|TelefoneFixo|TipoContrato_DoisAnos|TipoContrato_Mensalmente|TipoContrato_UmAno|\n",
            "+------------+-------+------------+-----------+------------+--------------------+------------+----------+------------------------+-----------------+---------------+----------------------+--------------------------------+-----------------------------+-----------------------------+---------------+-----------------+---------------+--------------+-------+------------+---------------------+------------------------+------------------+\n",
            "|           0|      0|           1|          0|           1|                   0|           0|         0|                       0|45.30540797610398|              1|                     0|                               1|                            0|                            0|              0|                0|              1|             0|      1|           0|                    0|                       1|                 0|\n",
            "+------------+-------+------------+-----------+------------+--------------------+------------+----------+------------------------+-----------------+---------------+----------------------+--------------------------------+-----------------------------+-----------------------------+---------------+-----------------+---------------+--------------+-------+------------+---------------------+------------------------+------------------+\n",
            "\n"
          ]
        }
      ]
    },
    {
      "cell_type": "code",
      "source": [
        "assembler = VectorAssembler(inputCols = X, outputCol = 'features')"
      ],
      "metadata": {
        "id": "bK6RN-FAg5wV"
      },
      "execution_count": null,
      "outputs": []
    },
    {
      "cell_type": "code",
      "source": [
        "novo_cliente_prep = assembler.transform(novo_cliente).select('features')"
      ],
      "metadata": {
        "id": "hPCyTby_g7ZJ"
      },
      "execution_count": null,
      "outputs": []
    },
    {
      "cell_type": "code",
      "source": [
        "novo_cliente_prep.show(truncate=False)"
      ],
      "metadata": {
        "colab": {
          "base_uri": "https://localhost:8080/"
        },
        "id": "gAtttDA5g85h",
        "outputId": "87f0899f-321c-4e6e-b7bc-f1670f452fb6"
      },
      "execution_count": null,
      "outputs": [
        {
          "output_type": "stream",
          "name": "stdout",
          "text": [
            "+----------------------------------------------------------------------------+\n",
            "|features                                                                    |\n",
            "+----------------------------------------------------------------------------+\n",
            "|(24,[1,2,11,12,13,14,17,22],[1.0,45.30540797610398,1.0,1.0,1.0,1.0,1.0,1.0])|\n",
            "+----------------------------------------------------------------------------+\n",
            "\n"
          ]
        }
      ]
    },
    {
      "cell_type": "code",
      "source": [
        "modelo_rfc_tunning.transform(novo_cliente_prep).show()"
      ],
      "metadata": {
        "colab": {
          "base_uri": "https://localhost:8080/"
        },
        "id": "pBOm7HAxg_uw",
        "outputId": "ff88d636-278f-44d8-9f3b-035cba151e89"
      },
      "execution_count": null,
      "outputs": [
        {
          "output_type": "stream",
          "name": "stdout",
          "text": [
            "+--------------------+--------------------+--------------------+----------+\n",
            "|            features|       rawPrediction|         probability|prediction|\n",
            "+--------------------+--------------------+--------------------+----------+\n",
            "|(24,[1,2,11,12,13...|[2.16984156904747...|[0.10849207845237...|       1.0|\n",
            "+--------------------+--------------------+--------------------+----------+\n",
            "\n"
          ]
        }
      ]
    }
  ]
}